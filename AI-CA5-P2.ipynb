{
 "cells": [
  {
   "cell_type": "markdown",
   "id": "bf02f54f",
   "metadata": {
    "id": "bf02f54f"
   },
   "source": [
    "# AI Computer Assignment 5 Phase 2 (Neural Network: TensorFlow & Keras)\n",
    "Mohammad Saadati - \n",
    "_810198410_"
   ]
  },
  {
   "cell_type": "markdown",
   "id": "65cdf740",
   "metadata": {
    "id": "65cdf740"
   },
   "source": [
    "## Introduction\n",
    "Neural networks are one of the most powerful machine learning structures that have found many applications in various scientific and industrial fields in recent years due to the increasing computing power of processors. One of the advantages of these algorithms is that it makes it possible to construct any desired derivative function using only two hidden layers of neurons. Therefore, it is possible to implement and learn nonlinear functions with their help. Due to the recent advances in this structure and its increasing use in industry, very powerful frameworks have been offered to facilitate the creation of very complex and highly efficient neural networks. In this project, we intend to investigate some issues related to neural networks with the `TensorFlow` library and using the `Keras` high-level interface.\n",
    "\n",
    "In this project, we intend to use neural networks to recognize the **English alphabet** based on their image.\n",
    "\n",
    "[A-Z Handwritten Alphabets](https://www.kaggle.com/datasets/sachinpatel21/az-handwritten-alphabets-in-csv-format) is a collection of handwritten images of the English alphabet. This dataset contains 372,450 images along with their corresponding labels."
   ]
  },
  {
   "cell_type": "markdown",
   "id": "78249482",
   "metadata": {
    "id": "78249482"
   },
   "source": [
    "### Import Libraries\n",
    "In this part, some of the necessary libraries were imported in order to use their helpful functions."
   ]
  },
  {
   "cell_type": "code",
   "execution_count": 1,
   "id": "9097b3ff",
   "metadata": {
    "colab": {
     "base_uri": "https://localhost:8080/"
    },
    "id": "9097b3ff",
    "outputId": "4f6d99f0-fd93-4f78-f940-d37d8e87b14f"
   },
   "outputs": [
    {
     "name": "stdout",
     "output_type": "stream",
     "text": [
      "Mounted at /content/drive\n"
     ]
    }
   ],
   "source": [
    "import numpy as np\n",
    "import pandas as pd\n",
    "import matplotlib.pyplot as plt\n",
    "import random\n",
    "import pickle\n",
    "from sklearn.model_selection import train_test_split\n",
    "from sklearn.preprocessing import OneHotEncoder\n",
    "import cv2\n",
    "from tensorflow.keras import *\n",
    "from tensorflow.keras.utils import *\n",
    "from sklearn.metrics import accuracy_score, classification_report\n",
    "import keras\n",
    "from sklearn.model_selection import train_test_split\n",
    "from sklearn.preprocessing import OneHotEncoder\n",
    "import tensorflow as tf\n",
    "import gc\n",
    "\n",
    "from google.colab import drive\n",
    "drive.mount('/content/drive')"
   ]
  },
  {
   "cell_type": "markdown",
   "id": "88691246",
   "metadata": {
    "id": "88691246"
   },
   "source": [
    "## Phase 1: Data review and preprocessing"
   ]
  },
  {
   "cell_type": "markdown",
   "id": "a18c9b3f",
   "metadata": {
    "id": "a18c9b3f"
   },
   "source": [
    "### Question 1:\n",
    "First we load csv file as a DataFrame using pandas library."
   ]
  },
  {
   "cell_type": "code",
   "execution_count": 2,
   "id": "4a680615",
   "metadata": {
    "colab": {
     "base_uri": "https://localhost:8080/",
     "height": 424
    },
    "id": "4a680615",
    "outputId": "a01802c2-c339-4c02-8833-af7ecf5884cf",
    "scrolled": true
   },
   "outputs": [
    {
     "data": {
      "text/html": [
       "\n",
       "  <div id=\"df-bdbf1b91-6bf0-4dbd-80e7-ffbd882df4a0\">\n",
       "    <div class=\"colab-df-container\">\n",
       "      <div>\n",
       "<style scoped>\n",
       "    .dataframe tbody tr th:only-of-type {\n",
       "        vertical-align: middle;\n",
       "    }\n",
       "\n",
       "    .dataframe tbody tr th {\n",
       "        vertical-align: top;\n",
       "    }\n",
       "\n",
       "    .dataframe thead th {\n",
       "        text-align: right;\n",
       "    }\n",
       "</style>\n",
       "<table border=\"1\" class=\"dataframe\">\n",
       "  <thead>\n",
       "    <tr style=\"text-align: right;\">\n",
       "      <th></th>\n",
       "      <th>0</th>\n",
       "      <th>0.1</th>\n",
       "      <th>0.2</th>\n",
       "      <th>0.3</th>\n",
       "      <th>0.4</th>\n",
       "      <th>0.5</th>\n",
       "      <th>0.6</th>\n",
       "      <th>0.7</th>\n",
       "      <th>0.8</th>\n",
       "      <th>0.9</th>\n",
       "      <th>...</th>\n",
       "      <th>0.639</th>\n",
       "      <th>0.640</th>\n",
       "      <th>0.641</th>\n",
       "      <th>0.642</th>\n",
       "      <th>0.643</th>\n",
       "      <th>0.644</th>\n",
       "      <th>0.645</th>\n",
       "      <th>0.646</th>\n",
       "      <th>0.647</th>\n",
       "      <th>0.648</th>\n",
       "    </tr>\n",
       "  </thead>\n",
       "  <tbody>\n",
       "    <tr>\n",
       "      <th>0</th>\n",
       "      <td>0</td>\n",
       "      <td>0</td>\n",
       "      <td>0</td>\n",
       "      <td>0</td>\n",
       "      <td>0</td>\n",
       "      <td>0</td>\n",
       "      <td>0</td>\n",
       "      <td>0</td>\n",
       "      <td>0</td>\n",
       "      <td>0</td>\n",
       "      <td>...</td>\n",
       "      <td>0</td>\n",
       "      <td>0</td>\n",
       "      <td>0</td>\n",
       "      <td>0</td>\n",
       "      <td>0</td>\n",
       "      <td>0</td>\n",
       "      <td>0</td>\n",
       "      <td>0</td>\n",
       "      <td>0</td>\n",
       "      <td>0</td>\n",
       "    </tr>\n",
       "    <tr>\n",
       "      <th>1</th>\n",
       "      <td>0</td>\n",
       "      <td>0</td>\n",
       "      <td>0</td>\n",
       "      <td>0</td>\n",
       "      <td>0</td>\n",
       "      <td>0</td>\n",
       "      <td>0</td>\n",
       "      <td>0</td>\n",
       "      <td>0</td>\n",
       "      <td>0</td>\n",
       "      <td>...</td>\n",
       "      <td>0</td>\n",
       "      <td>0</td>\n",
       "      <td>0</td>\n",
       "      <td>0</td>\n",
       "      <td>0</td>\n",
       "      <td>0</td>\n",
       "      <td>0</td>\n",
       "      <td>0</td>\n",
       "      <td>0</td>\n",
       "      <td>0</td>\n",
       "    </tr>\n",
       "    <tr>\n",
       "      <th>2</th>\n",
       "      <td>0</td>\n",
       "      <td>0</td>\n",
       "      <td>0</td>\n",
       "      <td>0</td>\n",
       "      <td>0</td>\n",
       "      <td>0</td>\n",
       "      <td>0</td>\n",
       "      <td>0</td>\n",
       "      <td>0</td>\n",
       "      <td>0</td>\n",
       "      <td>...</td>\n",
       "      <td>0</td>\n",
       "      <td>0</td>\n",
       "      <td>0</td>\n",
       "      <td>0</td>\n",
       "      <td>0</td>\n",
       "      <td>0</td>\n",
       "      <td>0</td>\n",
       "      <td>0</td>\n",
       "      <td>0</td>\n",
       "      <td>0</td>\n",
       "    </tr>\n",
       "    <tr>\n",
       "      <th>3</th>\n",
       "      <td>0</td>\n",
       "      <td>0</td>\n",
       "      <td>0</td>\n",
       "      <td>0</td>\n",
       "      <td>0</td>\n",
       "      <td>0</td>\n",
       "      <td>0</td>\n",
       "      <td>0</td>\n",
       "      <td>0</td>\n",
       "      <td>0</td>\n",
       "      <td>...</td>\n",
       "      <td>0</td>\n",
       "      <td>0</td>\n",
       "      <td>0</td>\n",
       "      <td>0</td>\n",
       "      <td>0</td>\n",
       "      <td>0</td>\n",
       "      <td>0</td>\n",
       "      <td>0</td>\n",
       "      <td>0</td>\n",
       "      <td>0</td>\n",
       "    </tr>\n",
       "    <tr>\n",
       "      <th>4</th>\n",
       "      <td>0</td>\n",
       "      <td>0</td>\n",
       "      <td>0</td>\n",
       "      <td>0</td>\n",
       "      <td>0</td>\n",
       "      <td>0</td>\n",
       "      <td>0</td>\n",
       "      <td>0</td>\n",
       "      <td>0</td>\n",
       "      <td>0</td>\n",
       "      <td>...</td>\n",
       "      <td>0</td>\n",
       "      <td>0</td>\n",
       "      <td>0</td>\n",
       "      <td>0</td>\n",
       "      <td>0</td>\n",
       "      <td>0</td>\n",
       "      <td>0</td>\n",
       "      <td>0</td>\n",
       "      <td>0</td>\n",
       "      <td>0</td>\n",
       "    </tr>\n",
       "    <tr>\n",
       "      <th>...</th>\n",
       "      <td>...</td>\n",
       "      <td>...</td>\n",
       "      <td>...</td>\n",
       "      <td>...</td>\n",
       "      <td>...</td>\n",
       "      <td>...</td>\n",
       "      <td>...</td>\n",
       "      <td>...</td>\n",
       "      <td>...</td>\n",
       "      <td>...</td>\n",
       "      <td>...</td>\n",
       "      <td>...</td>\n",
       "      <td>...</td>\n",
       "      <td>...</td>\n",
       "      <td>...</td>\n",
       "      <td>...</td>\n",
       "      <td>...</td>\n",
       "      <td>...</td>\n",
       "      <td>...</td>\n",
       "      <td>...</td>\n",
       "      <td>...</td>\n",
       "    </tr>\n",
       "    <tr>\n",
       "      <th>372445</th>\n",
       "      <td>25</td>\n",
       "      <td>0</td>\n",
       "      <td>0</td>\n",
       "      <td>0</td>\n",
       "      <td>0</td>\n",
       "      <td>0</td>\n",
       "      <td>0</td>\n",
       "      <td>0</td>\n",
       "      <td>0</td>\n",
       "      <td>0</td>\n",
       "      <td>...</td>\n",
       "      <td>0</td>\n",
       "      <td>0</td>\n",
       "      <td>0</td>\n",
       "      <td>0</td>\n",
       "      <td>0</td>\n",
       "      <td>0</td>\n",
       "      <td>0</td>\n",
       "      <td>0</td>\n",
       "      <td>0</td>\n",
       "      <td>0</td>\n",
       "    </tr>\n",
       "    <tr>\n",
       "      <th>372446</th>\n",
       "      <td>25</td>\n",
       "      <td>0</td>\n",
       "      <td>0</td>\n",
       "      <td>0</td>\n",
       "      <td>0</td>\n",
       "      <td>0</td>\n",
       "      <td>0</td>\n",
       "      <td>0</td>\n",
       "      <td>0</td>\n",
       "      <td>0</td>\n",
       "      <td>...</td>\n",
       "      <td>0</td>\n",
       "      <td>0</td>\n",
       "      <td>0</td>\n",
       "      <td>0</td>\n",
       "      <td>0</td>\n",
       "      <td>0</td>\n",
       "      <td>0</td>\n",
       "      <td>0</td>\n",
       "      <td>0</td>\n",
       "      <td>0</td>\n",
       "    </tr>\n",
       "    <tr>\n",
       "      <th>372447</th>\n",
       "      <td>25</td>\n",
       "      <td>0</td>\n",
       "      <td>0</td>\n",
       "      <td>0</td>\n",
       "      <td>0</td>\n",
       "      <td>0</td>\n",
       "      <td>0</td>\n",
       "      <td>0</td>\n",
       "      <td>0</td>\n",
       "      <td>0</td>\n",
       "      <td>...</td>\n",
       "      <td>0</td>\n",
       "      <td>0</td>\n",
       "      <td>0</td>\n",
       "      <td>0</td>\n",
       "      <td>0</td>\n",
       "      <td>0</td>\n",
       "      <td>0</td>\n",
       "      <td>0</td>\n",
       "      <td>0</td>\n",
       "      <td>0</td>\n",
       "    </tr>\n",
       "    <tr>\n",
       "      <th>372448</th>\n",
       "      <td>25</td>\n",
       "      <td>0</td>\n",
       "      <td>0</td>\n",
       "      <td>0</td>\n",
       "      <td>0</td>\n",
       "      <td>0</td>\n",
       "      <td>0</td>\n",
       "      <td>0</td>\n",
       "      <td>0</td>\n",
       "      <td>0</td>\n",
       "      <td>...</td>\n",
       "      <td>0</td>\n",
       "      <td>0</td>\n",
       "      <td>0</td>\n",
       "      <td>0</td>\n",
       "      <td>0</td>\n",
       "      <td>0</td>\n",
       "      <td>0</td>\n",
       "      <td>0</td>\n",
       "      <td>0</td>\n",
       "      <td>0</td>\n",
       "    </tr>\n",
       "    <tr>\n",
       "      <th>372449</th>\n",
       "      <td>25</td>\n",
       "      <td>0</td>\n",
       "      <td>0</td>\n",
       "      <td>0</td>\n",
       "      <td>0</td>\n",
       "      <td>0</td>\n",
       "      <td>0</td>\n",
       "      <td>0</td>\n",
       "      <td>0</td>\n",
       "      <td>0</td>\n",
       "      <td>...</td>\n",
       "      <td>0</td>\n",
       "      <td>0</td>\n",
       "      <td>0</td>\n",
       "      <td>0</td>\n",
       "      <td>0</td>\n",
       "      <td>0</td>\n",
       "      <td>0</td>\n",
       "      <td>0</td>\n",
       "      <td>0</td>\n",
       "      <td>0</td>\n",
       "    </tr>\n",
       "  </tbody>\n",
       "</table>\n",
       "<p>372450 rows × 785 columns</p>\n",
       "</div>\n",
       "      <button class=\"colab-df-convert\" onclick=\"convertToInteractive('df-bdbf1b91-6bf0-4dbd-80e7-ffbd882df4a0')\"\n",
       "              title=\"Convert this dataframe to an interactive table.\"\n",
       "              style=\"display:none;\">\n",
       "        \n",
       "  <svg xmlns=\"http://www.w3.org/2000/svg\" height=\"24px\"viewBox=\"0 0 24 24\"\n",
       "       width=\"24px\">\n",
       "    <path d=\"M0 0h24v24H0V0z\" fill=\"none\"/>\n",
       "    <path d=\"M18.56 5.44l.94 2.06.94-2.06 2.06-.94-2.06-.94-.94-2.06-.94 2.06-2.06.94zm-11 1L8.5 8.5l.94-2.06 2.06-.94-2.06-.94L8.5 2.5l-.94 2.06-2.06.94zm10 10l.94 2.06.94-2.06 2.06-.94-2.06-.94-.94-2.06-.94 2.06-2.06.94z\"/><path d=\"M17.41 7.96l-1.37-1.37c-.4-.4-.92-.59-1.43-.59-.52 0-1.04.2-1.43.59L10.3 9.45l-7.72 7.72c-.78.78-.78 2.05 0 2.83L4 21.41c.39.39.9.59 1.41.59.51 0 1.02-.2 1.41-.59l7.78-7.78 2.81-2.81c.8-.78.8-2.07 0-2.86zM5.41 20L4 18.59l7.72-7.72 1.47 1.35L5.41 20z\"/>\n",
       "  </svg>\n",
       "      </button>\n",
       "      \n",
       "  <style>\n",
       "    .colab-df-container {\n",
       "      display:flex;\n",
       "      flex-wrap:wrap;\n",
       "      gap: 12px;\n",
       "    }\n",
       "\n",
       "    .colab-df-convert {\n",
       "      background-color: #E8F0FE;\n",
       "      border: none;\n",
       "      border-radius: 50%;\n",
       "      cursor: pointer;\n",
       "      display: none;\n",
       "      fill: #1967D2;\n",
       "      height: 32px;\n",
       "      padding: 0 0 0 0;\n",
       "      width: 32px;\n",
       "    }\n",
       "\n",
       "    .colab-df-convert:hover {\n",
       "      background-color: #E2EBFA;\n",
       "      box-shadow: 0px 1px 2px rgba(60, 64, 67, 0.3), 0px 1px 3px 1px rgba(60, 64, 67, 0.15);\n",
       "      fill: #174EA6;\n",
       "    }\n",
       "\n",
       "    [theme=dark] .colab-df-convert {\n",
       "      background-color: #3B4455;\n",
       "      fill: #D2E3FC;\n",
       "    }\n",
       "\n",
       "    [theme=dark] .colab-df-convert:hover {\n",
       "      background-color: #434B5C;\n",
       "      box-shadow: 0px 1px 3px 1px rgba(0, 0, 0, 0.15);\n",
       "      filter: drop-shadow(0px 1px 2px rgba(0, 0, 0, 0.3));\n",
       "      fill: #FFFFFF;\n",
       "    }\n",
       "  </style>\n",
       "\n",
       "      <script>\n",
       "        const buttonEl =\n",
       "          document.querySelector('#df-bdbf1b91-6bf0-4dbd-80e7-ffbd882df4a0 button.colab-df-convert');\n",
       "        buttonEl.style.display =\n",
       "          google.colab.kernel.accessAllowed ? 'block' : 'none';\n",
       "\n",
       "        async function convertToInteractive(key) {\n",
       "          const element = document.querySelector('#df-bdbf1b91-6bf0-4dbd-80e7-ffbd882df4a0');\n",
       "          const dataTable =\n",
       "            await google.colab.kernel.invokeFunction('convertToInteractive',\n",
       "                                                     [key], {});\n",
       "          if (!dataTable) return;\n",
       "\n",
       "          const docLinkHtml = 'Like what you see? Visit the ' +\n",
       "            '<a target=\"_blank\" href=https://colab.research.google.com/notebooks/data_table.ipynb>data table notebook</a>'\n",
       "            + ' to learn more about interactive tables.';\n",
       "          element.innerHTML = '';\n",
       "          dataTable['output_type'] = 'display_data';\n",
       "          await google.colab.output.renderOutput(dataTable, element);\n",
       "          const docLink = document.createElement('div');\n",
       "          docLink.innerHTML = docLinkHtml;\n",
       "          element.appendChild(docLink);\n",
       "        }\n",
       "      </script>\n",
       "    </div>\n",
       "  </div>\n",
       "  "
      ],
      "text/plain": [
       "         0  0.1  0.2  0.3  0.4  0.5  0.6  0.7  0.8  0.9  ...  0.639  0.640  \\\n",
       "0        0    0    0    0    0    0    0    0    0    0  ...      0      0   \n",
       "1        0    0    0    0    0    0    0    0    0    0  ...      0      0   \n",
       "2        0    0    0    0    0    0    0    0    0    0  ...      0      0   \n",
       "3        0    0    0    0    0    0    0    0    0    0  ...      0      0   \n",
       "4        0    0    0    0    0    0    0    0    0    0  ...      0      0   \n",
       "...     ..  ...  ...  ...  ...  ...  ...  ...  ...  ...  ...    ...    ...   \n",
       "372445  25    0    0    0    0    0    0    0    0    0  ...      0      0   \n",
       "372446  25    0    0    0    0    0    0    0    0    0  ...      0      0   \n",
       "372447  25    0    0    0    0    0    0    0    0    0  ...      0      0   \n",
       "372448  25    0    0    0    0    0    0    0    0    0  ...      0      0   \n",
       "372449  25    0    0    0    0    0    0    0    0    0  ...      0      0   \n",
       "\n",
       "        0.641  0.642  0.643  0.644  0.645  0.646  0.647  0.648  \n",
       "0           0      0      0      0      0      0      0      0  \n",
       "1           0      0      0      0      0      0      0      0  \n",
       "2           0      0      0      0      0      0      0      0  \n",
       "3           0      0      0      0      0      0      0      0  \n",
       "4           0      0      0      0      0      0      0      0  \n",
       "...       ...    ...    ...    ...    ...    ...    ...    ...  \n",
       "372445      0      0      0      0      0      0      0      0  \n",
       "372446      0      0      0      0      0      0      0      0  \n",
       "372447      0      0      0      0      0      0      0      0  \n",
       "372448      0      0      0      0      0      0      0      0  \n",
       "372449      0      0      0      0      0      0      0      0  \n",
       "\n",
       "[372450 rows x 785 columns]"
      ]
     },
     "execution_count": 2,
     "metadata": {},
     "output_type": "execute_result"
    }
   ],
   "source": [
    "# url='https://drive.google.com/file/d/1WIKPIjFiIjYwbKzeURBdiGQg-ubhCrOr/view?usp=sharing'\n",
    "# path='https://drive.google.com/uc?export=download&id='+url.split('/')[-2]\n",
    "\n",
    "dataset_df = pd.read_csv('drive/My Drive/UT/Term6/AI/CA5-P2/A_Z Handwritten Data.csv', dtype=\"uint8\")\n",
    "dataset_df"
   ]
  },
  {
   "cell_type": "markdown",
   "id": "nxJTEi7a9-cH",
   "metadata": {
    "id": "nxJTEi7a9-cH"
   },
   "source": [
    "### Question 2:\n",
    "Now we separate the data and the corresponding label of each of them and store them properly."
   ]
  },
  {
   "cell_type": "code",
   "execution_count": 3,
   "id": "4tzyaP_fEqta",
   "metadata": {
    "id": "4tzyaP_fEqta"
   },
   "outputs": [],
   "source": [
    "labels = dataset_df['0'] # .values.tolist()"
   ]
  },
  {
   "cell_type": "code",
   "execution_count": 4,
   "id": "57KGp6S899d4",
   "metadata": {
    "colab": {
     "base_uri": "https://localhost:8080/",
     "height": 424
    },
    "id": "57KGp6S899d4",
    "outputId": "f98a988b-db2a-4e39-b354-2963b37a2abf"
   },
   "outputs": [
    {
     "data": {
      "text/html": [
       "\n",
       "  <div id=\"df-930e4d5a-f07d-40ff-8dd2-6eb5fab5cc2e\">\n",
       "    <div class=\"colab-df-container\">\n",
       "      <div>\n",
       "<style scoped>\n",
       "    .dataframe tbody tr th:only-of-type {\n",
       "        vertical-align: middle;\n",
       "    }\n",
       "\n",
       "    .dataframe tbody tr th {\n",
       "        vertical-align: top;\n",
       "    }\n",
       "\n",
       "    .dataframe thead th {\n",
       "        text-align: right;\n",
       "    }\n",
       "</style>\n",
       "<table border=\"1\" class=\"dataframe\">\n",
       "  <thead>\n",
       "    <tr style=\"text-align: right;\">\n",
       "      <th></th>\n",
       "      <th>0.1</th>\n",
       "      <th>0.2</th>\n",
       "      <th>0.3</th>\n",
       "      <th>0.4</th>\n",
       "      <th>0.5</th>\n",
       "      <th>0.6</th>\n",
       "      <th>0.7</th>\n",
       "      <th>0.8</th>\n",
       "      <th>0.9</th>\n",
       "      <th>0.10</th>\n",
       "      <th>...</th>\n",
       "      <th>0.639</th>\n",
       "      <th>0.640</th>\n",
       "      <th>0.641</th>\n",
       "      <th>0.642</th>\n",
       "      <th>0.643</th>\n",
       "      <th>0.644</th>\n",
       "      <th>0.645</th>\n",
       "      <th>0.646</th>\n",
       "      <th>0.647</th>\n",
       "      <th>0.648</th>\n",
       "    </tr>\n",
       "  </thead>\n",
       "  <tbody>\n",
       "    <tr>\n",
       "      <th>0</th>\n",
       "      <td>0</td>\n",
       "      <td>0</td>\n",
       "      <td>0</td>\n",
       "      <td>0</td>\n",
       "      <td>0</td>\n",
       "      <td>0</td>\n",
       "      <td>0</td>\n",
       "      <td>0</td>\n",
       "      <td>0</td>\n",
       "      <td>0</td>\n",
       "      <td>...</td>\n",
       "      <td>0</td>\n",
       "      <td>0</td>\n",
       "      <td>0</td>\n",
       "      <td>0</td>\n",
       "      <td>0</td>\n",
       "      <td>0</td>\n",
       "      <td>0</td>\n",
       "      <td>0</td>\n",
       "      <td>0</td>\n",
       "      <td>0</td>\n",
       "    </tr>\n",
       "    <tr>\n",
       "      <th>1</th>\n",
       "      <td>0</td>\n",
       "      <td>0</td>\n",
       "      <td>0</td>\n",
       "      <td>0</td>\n",
       "      <td>0</td>\n",
       "      <td>0</td>\n",
       "      <td>0</td>\n",
       "      <td>0</td>\n",
       "      <td>0</td>\n",
       "      <td>0</td>\n",
       "      <td>...</td>\n",
       "      <td>0</td>\n",
       "      <td>0</td>\n",
       "      <td>0</td>\n",
       "      <td>0</td>\n",
       "      <td>0</td>\n",
       "      <td>0</td>\n",
       "      <td>0</td>\n",
       "      <td>0</td>\n",
       "      <td>0</td>\n",
       "      <td>0</td>\n",
       "    </tr>\n",
       "    <tr>\n",
       "      <th>2</th>\n",
       "      <td>0</td>\n",
       "      <td>0</td>\n",
       "      <td>0</td>\n",
       "      <td>0</td>\n",
       "      <td>0</td>\n",
       "      <td>0</td>\n",
       "      <td>0</td>\n",
       "      <td>0</td>\n",
       "      <td>0</td>\n",
       "      <td>0</td>\n",
       "      <td>...</td>\n",
       "      <td>0</td>\n",
       "      <td>0</td>\n",
       "      <td>0</td>\n",
       "      <td>0</td>\n",
       "      <td>0</td>\n",
       "      <td>0</td>\n",
       "      <td>0</td>\n",
       "      <td>0</td>\n",
       "      <td>0</td>\n",
       "      <td>0</td>\n",
       "    </tr>\n",
       "    <tr>\n",
       "      <th>3</th>\n",
       "      <td>0</td>\n",
       "      <td>0</td>\n",
       "      <td>0</td>\n",
       "      <td>0</td>\n",
       "      <td>0</td>\n",
       "      <td>0</td>\n",
       "      <td>0</td>\n",
       "      <td>0</td>\n",
       "      <td>0</td>\n",
       "      <td>0</td>\n",
       "      <td>...</td>\n",
       "      <td>0</td>\n",
       "      <td>0</td>\n",
       "      <td>0</td>\n",
       "      <td>0</td>\n",
       "      <td>0</td>\n",
       "      <td>0</td>\n",
       "      <td>0</td>\n",
       "      <td>0</td>\n",
       "      <td>0</td>\n",
       "      <td>0</td>\n",
       "    </tr>\n",
       "    <tr>\n",
       "      <th>4</th>\n",
       "      <td>0</td>\n",
       "      <td>0</td>\n",
       "      <td>0</td>\n",
       "      <td>0</td>\n",
       "      <td>0</td>\n",
       "      <td>0</td>\n",
       "      <td>0</td>\n",
       "      <td>0</td>\n",
       "      <td>0</td>\n",
       "      <td>0</td>\n",
       "      <td>...</td>\n",
       "      <td>0</td>\n",
       "      <td>0</td>\n",
       "      <td>0</td>\n",
       "      <td>0</td>\n",
       "      <td>0</td>\n",
       "      <td>0</td>\n",
       "      <td>0</td>\n",
       "      <td>0</td>\n",
       "      <td>0</td>\n",
       "      <td>0</td>\n",
       "    </tr>\n",
       "    <tr>\n",
       "      <th>...</th>\n",
       "      <td>...</td>\n",
       "      <td>...</td>\n",
       "      <td>...</td>\n",
       "      <td>...</td>\n",
       "      <td>...</td>\n",
       "      <td>...</td>\n",
       "      <td>...</td>\n",
       "      <td>...</td>\n",
       "      <td>...</td>\n",
       "      <td>...</td>\n",
       "      <td>...</td>\n",
       "      <td>...</td>\n",
       "      <td>...</td>\n",
       "      <td>...</td>\n",
       "      <td>...</td>\n",
       "      <td>...</td>\n",
       "      <td>...</td>\n",
       "      <td>...</td>\n",
       "      <td>...</td>\n",
       "      <td>...</td>\n",
       "      <td>...</td>\n",
       "    </tr>\n",
       "    <tr>\n",
       "      <th>372445</th>\n",
       "      <td>0</td>\n",
       "      <td>0</td>\n",
       "      <td>0</td>\n",
       "      <td>0</td>\n",
       "      <td>0</td>\n",
       "      <td>0</td>\n",
       "      <td>0</td>\n",
       "      <td>0</td>\n",
       "      <td>0</td>\n",
       "      <td>0</td>\n",
       "      <td>...</td>\n",
       "      <td>0</td>\n",
       "      <td>0</td>\n",
       "      <td>0</td>\n",
       "      <td>0</td>\n",
       "      <td>0</td>\n",
       "      <td>0</td>\n",
       "      <td>0</td>\n",
       "      <td>0</td>\n",
       "      <td>0</td>\n",
       "      <td>0</td>\n",
       "    </tr>\n",
       "    <tr>\n",
       "      <th>372446</th>\n",
       "      <td>0</td>\n",
       "      <td>0</td>\n",
       "      <td>0</td>\n",
       "      <td>0</td>\n",
       "      <td>0</td>\n",
       "      <td>0</td>\n",
       "      <td>0</td>\n",
       "      <td>0</td>\n",
       "      <td>0</td>\n",
       "      <td>0</td>\n",
       "      <td>...</td>\n",
       "      <td>0</td>\n",
       "      <td>0</td>\n",
       "      <td>0</td>\n",
       "      <td>0</td>\n",
       "      <td>0</td>\n",
       "      <td>0</td>\n",
       "      <td>0</td>\n",
       "      <td>0</td>\n",
       "      <td>0</td>\n",
       "      <td>0</td>\n",
       "    </tr>\n",
       "    <tr>\n",
       "      <th>372447</th>\n",
       "      <td>0</td>\n",
       "      <td>0</td>\n",
       "      <td>0</td>\n",
       "      <td>0</td>\n",
       "      <td>0</td>\n",
       "      <td>0</td>\n",
       "      <td>0</td>\n",
       "      <td>0</td>\n",
       "      <td>0</td>\n",
       "      <td>0</td>\n",
       "      <td>...</td>\n",
       "      <td>0</td>\n",
       "      <td>0</td>\n",
       "      <td>0</td>\n",
       "      <td>0</td>\n",
       "      <td>0</td>\n",
       "      <td>0</td>\n",
       "      <td>0</td>\n",
       "      <td>0</td>\n",
       "      <td>0</td>\n",
       "      <td>0</td>\n",
       "    </tr>\n",
       "    <tr>\n",
       "      <th>372448</th>\n",
       "      <td>0</td>\n",
       "      <td>0</td>\n",
       "      <td>0</td>\n",
       "      <td>0</td>\n",
       "      <td>0</td>\n",
       "      <td>0</td>\n",
       "      <td>0</td>\n",
       "      <td>0</td>\n",
       "      <td>0</td>\n",
       "      <td>0</td>\n",
       "      <td>...</td>\n",
       "      <td>0</td>\n",
       "      <td>0</td>\n",
       "      <td>0</td>\n",
       "      <td>0</td>\n",
       "      <td>0</td>\n",
       "      <td>0</td>\n",
       "      <td>0</td>\n",
       "      <td>0</td>\n",
       "      <td>0</td>\n",
       "      <td>0</td>\n",
       "    </tr>\n",
       "    <tr>\n",
       "      <th>372449</th>\n",
       "      <td>0</td>\n",
       "      <td>0</td>\n",
       "      <td>0</td>\n",
       "      <td>0</td>\n",
       "      <td>0</td>\n",
       "      <td>0</td>\n",
       "      <td>0</td>\n",
       "      <td>0</td>\n",
       "      <td>0</td>\n",
       "      <td>0</td>\n",
       "      <td>...</td>\n",
       "      <td>0</td>\n",
       "      <td>0</td>\n",
       "      <td>0</td>\n",
       "      <td>0</td>\n",
       "      <td>0</td>\n",
       "      <td>0</td>\n",
       "      <td>0</td>\n",
       "      <td>0</td>\n",
       "      <td>0</td>\n",
       "      <td>0</td>\n",
       "    </tr>\n",
       "  </tbody>\n",
       "</table>\n",
       "<p>372450 rows × 784 columns</p>\n",
       "</div>\n",
       "      <button class=\"colab-df-convert\" onclick=\"convertToInteractive('df-930e4d5a-f07d-40ff-8dd2-6eb5fab5cc2e')\"\n",
       "              title=\"Convert this dataframe to an interactive table.\"\n",
       "              style=\"display:none;\">\n",
       "        \n",
       "  <svg xmlns=\"http://www.w3.org/2000/svg\" height=\"24px\"viewBox=\"0 0 24 24\"\n",
       "       width=\"24px\">\n",
       "    <path d=\"M0 0h24v24H0V0z\" fill=\"none\"/>\n",
       "    <path d=\"M18.56 5.44l.94 2.06.94-2.06 2.06-.94-2.06-.94-.94-2.06-.94 2.06-2.06.94zm-11 1L8.5 8.5l.94-2.06 2.06-.94-2.06-.94L8.5 2.5l-.94 2.06-2.06.94zm10 10l.94 2.06.94-2.06 2.06-.94-2.06-.94-.94-2.06-.94 2.06-2.06.94z\"/><path d=\"M17.41 7.96l-1.37-1.37c-.4-.4-.92-.59-1.43-.59-.52 0-1.04.2-1.43.59L10.3 9.45l-7.72 7.72c-.78.78-.78 2.05 0 2.83L4 21.41c.39.39.9.59 1.41.59.51 0 1.02-.2 1.41-.59l7.78-7.78 2.81-2.81c.8-.78.8-2.07 0-2.86zM5.41 20L4 18.59l7.72-7.72 1.47 1.35L5.41 20z\"/>\n",
       "  </svg>\n",
       "      </button>\n",
       "      \n",
       "  <style>\n",
       "    .colab-df-container {\n",
       "      display:flex;\n",
       "      flex-wrap:wrap;\n",
       "      gap: 12px;\n",
       "    }\n",
       "\n",
       "    .colab-df-convert {\n",
       "      background-color: #E8F0FE;\n",
       "      border: none;\n",
       "      border-radius: 50%;\n",
       "      cursor: pointer;\n",
       "      display: none;\n",
       "      fill: #1967D2;\n",
       "      height: 32px;\n",
       "      padding: 0 0 0 0;\n",
       "      width: 32px;\n",
       "    }\n",
       "\n",
       "    .colab-df-convert:hover {\n",
       "      background-color: #E2EBFA;\n",
       "      box-shadow: 0px 1px 2px rgba(60, 64, 67, 0.3), 0px 1px 3px 1px rgba(60, 64, 67, 0.15);\n",
       "      fill: #174EA6;\n",
       "    }\n",
       "\n",
       "    [theme=dark] .colab-df-convert {\n",
       "      background-color: #3B4455;\n",
       "      fill: #D2E3FC;\n",
       "    }\n",
       "\n",
       "    [theme=dark] .colab-df-convert:hover {\n",
       "      background-color: #434B5C;\n",
       "      box-shadow: 0px 1px 3px 1px rgba(0, 0, 0, 0.15);\n",
       "      filter: drop-shadow(0px 1px 2px rgba(0, 0, 0, 0.3));\n",
       "      fill: #FFFFFF;\n",
       "    }\n",
       "  </style>\n",
       "\n",
       "      <script>\n",
       "        const buttonEl =\n",
       "          document.querySelector('#df-930e4d5a-f07d-40ff-8dd2-6eb5fab5cc2e button.colab-df-convert');\n",
       "        buttonEl.style.display =\n",
       "          google.colab.kernel.accessAllowed ? 'block' : 'none';\n",
       "\n",
       "        async function convertToInteractive(key) {\n",
       "          const element = document.querySelector('#df-930e4d5a-f07d-40ff-8dd2-6eb5fab5cc2e');\n",
       "          const dataTable =\n",
       "            await google.colab.kernel.invokeFunction('convertToInteractive',\n",
       "                                                     [key], {});\n",
       "          if (!dataTable) return;\n",
       "\n",
       "          const docLinkHtml = 'Like what you see? Visit the ' +\n",
       "            '<a target=\"_blank\" href=https://colab.research.google.com/notebooks/data_table.ipynb>data table notebook</a>'\n",
       "            + ' to learn more about interactive tables.';\n",
       "          element.innerHTML = '';\n",
       "          dataTable['output_type'] = 'display_data';\n",
       "          await google.colab.output.renderOutput(dataTable, element);\n",
       "          const docLink = document.createElement('div');\n",
       "          docLink.innerHTML = docLinkHtml;\n",
       "          element.appendChild(docLink);\n",
       "        }\n",
       "      </script>\n",
       "    </div>\n",
       "  </div>\n",
       "  "
      ],
      "text/plain": [
       "        0.1  0.2  0.3  0.4  0.5  0.6  0.7  0.8  0.9  0.10  ...  0.639  0.640  \\\n",
       "0         0    0    0    0    0    0    0    0    0     0  ...      0      0   \n",
       "1         0    0    0    0    0    0    0    0    0     0  ...      0      0   \n",
       "2         0    0    0    0    0    0    0    0    0     0  ...      0      0   \n",
       "3         0    0    0    0    0    0    0    0    0     0  ...      0      0   \n",
       "4         0    0    0    0    0    0    0    0    0     0  ...      0      0   \n",
       "...     ...  ...  ...  ...  ...  ...  ...  ...  ...   ...  ...    ...    ...   \n",
       "372445    0    0    0    0    0    0    0    0    0     0  ...      0      0   \n",
       "372446    0    0    0    0    0    0    0    0    0     0  ...      0      0   \n",
       "372447    0    0    0    0    0    0    0    0    0     0  ...      0      0   \n",
       "372448    0    0    0    0    0    0    0    0    0     0  ...      0      0   \n",
       "372449    0    0    0    0    0    0    0    0    0     0  ...      0      0   \n",
       "\n",
       "        0.641  0.642  0.643  0.644  0.645  0.646  0.647  0.648  \n",
       "0           0      0      0      0      0      0      0      0  \n",
       "1           0      0      0      0      0      0      0      0  \n",
       "2           0      0      0      0      0      0      0      0  \n",
       "3           0      0      0      0      0      0      0      0  \n",
       "4           0      0      0      0      0      0      0      0  \n",
       "...       ...    ...    ...    ...    ...    ...    ...    ...  \n",
       "372445      0      0      0      0      0      0      0      0  \n",
       "372446      0      0      0      0      0      0      0      0  \n",
       "372447      0      0      0      0      0      0      0      0  \n",
       "372448      0      0      0      0      0      0      0      0  \n",
       "372449      0      0      0      0      0      0      0      0  \n",
       "\n",
       "[372450 rows x 784 columns]"
      ]
     },
     "execution_count": 4,
     "metadata": {},
     "output_type": "execute_result"
    }
   ],
   "source": [
    "data = dataset_df.drop(['0'], axis = 1)\n",
    "data"
   ]
  },
  {
   "cell_type": "markdown",
   "id": "709eb228",
   "metadata": {
    "id": "709eb228"
   },
   "source": [
    "### Question 3:\n",
    "Now resize the images to $28 * 28$. To do this, we use the `resize` function"
   ]
  },
  {
   "cell_type": "code",
   "execution_count": 7,
   "id": "c9bf42b5",
   "metadata": {
    "colab": {
     "base_uri": "https://localhost:8080/",
     "height": 242
    },
    "id": "c9bf42b5",
    "outputId": "6865862a-fbdb-4250-a626-6e9c4bd9d31f"
   },
   "outputs": [
    {
     "data": {
      "image/png": "[encoded data removed]",
      "text/plain": [
       "<Figure size 144x144 with 1 Axes>"
      ]
     },
     "metadata": {
      "needs_background": "light"
     },
     "output_type": "display_data"
    },
    {
     "name": "stdout",
     "output_type": "stream",
     "text": [
      "\n",
      "Minimum value in image: 0.0\n",
      "Maximum value in image: 1.0\n"
     ]
    },
    {
     "data": {
      "text/plain": [
       "1979"
      ]
     },
     "execution_count": 7,
     "metadata": {},
     "output_type": "execute_result"
    }
   ],
   "source": [
    "# images = [cv2.resize(image, dsize=(25 , 25), interpolation=cv2.INTER_CUBIC) for image in data]\n",
    "images = [(np.reshape(np.array(row), (28,28)) / 255) for index, row in data.iterrows()]\n",
    "\n",
    "image = images[random.randint(0 , len(images) - 1)]\n",
    "\n",
    "plt.figure(figsize = (2 , 2))\n",
    "plt.imshow(image)\n",
    "plt.title(\"Random Image From data\")\n",
    "plt.show()\n",
    "\n",
    "print(\"\\nMinimum value in image: \" + str(np.amin(image)))\n",
    "print(\"Maximum value in image: \" + str(np.amax(image)))\n",
    "\n",
    "del images\n",
    "del image\n",
    "gc.collect()"
   ]
  },
  {
   "cell_type": "markdown",
   "id": "fKcZhL5hD8wc",
   "metadata": {
    "id": "fKcZhL5hD8wc"
   },
   "source": [
    "### Question 4:\n",
    "In this part, we print the number of data read and the number of available classes."
   ]
  },
  {
   "cell_type": "code",
   "execution_count": 8,
   "id": "1DT62b8fD9C3",
   "metadata": {
    "colab": {
     "base_uri": "https://localhost:8080/"
    },
    "id": "1DT62b8fD9C3",
    "outputId": "b39df6eb-542b-476c-d3b6-d37b40cf3f79"
   },
   "outputs": [
    {
     "name": "stdout",
     "output_type": "stream",
     "text": [
      "number of data read: 372450\n",
      "number of available classes: 26\n"
     ]
    }
   ],
   "source": [
    "print(\"number of data read:\", data.shape[0])\n",
    "print(\"number of available classes:\", labels.nunique())"
   ]
  },
  {
   "cell_type": "markdown",
   "id": "8a4663d8",
   "metadata": {
    "id": "8a4663d8"
   },
   "source": [
    "### Question 5:\n",
    "Now calculate the number of images in each category  and draw a bar chart for them."
   ]
  },
  {
   "cell_type": "code",
   "execution_count": 10,
   "id": "HvlQUOb2D22z",
   "metadata": {
    "colab": {
     "base_uri": "https://localhost:8080/"
    },
    "id": "HvlQUOb2D22z",
    "outputId": "b8a08629-fd7f-417d-8ea9-d6aaddd0ccd4"
   },
   "outputs": [
    {
     "data": {
      "text/plain": [
       "0     13869\n",
       "1      8668\n",
       "2     23409\n",
       "3     10134\n",
       "4     11440\n",
       "5      1163\n",
       "6      5762\n",
       "7      7218\n",
       "8      1120\n",
       "9      8493\n",
       "10     5603\n",
       "11    11586\n",
       "12    12336\n",
       "13    19010\n",
       "14    57825\n",
       "15    19341\n",
       "16     5812\n",
       "17    11566\n",
       "18    48419\n",
       "19    22495\n",
       "20    29008\n",
       "21     4182\n",
       "22    10784\n",
       "23     6272\n",
       "24    10859\n",
       "25     6076\n",
       "Name: 0, dtype: int64"
      ]
     },
     "execution_count": 10,
     "metadata": {},
     "output_type": "execute_result"
    }
   ],
   "source": [
    "labels.value_counts().sort_index()"
   ]
  },
  {
   "cell_type": "code",
   "execution_count": 13,
   "id": "19426c0c",
   "metadata": {
    "colab": {
     "base_uri": "https://localhost:8080/",
     "height": 681
    },
    "id": "19426c0c",
    "outputId": "8be19c4a-c2e1-4e69-9f65-8bb426863b93"
   },
   "outputs": [
    {
     "data": {
      "image/png": "[encoded data removed]",
      "text/plain": [
       "<Figure size 1080x720 with 1 Axes>"
      ]
     },
     "metadata": {
      "needs_background": "light"
     },
     "output_type": "display_data"
    }
   ],
   "source": [
    "fig = plt.figure(figsize=(15, 10))\n",
    "plt.hist((labels), label=['data'])\n",
    "plt.xlabel('Labels', fontsize = 12)\n",
    "plt.ylabel('Image Counts', fontsize = 15)\n",
    "plt.suptitle('Number of Images Per Class', fontsize = 15)\n",
    "plt.legend()\n",
    "plt.xticks(range(0,27))\n",
    "plt.show()"
   ]
  },
  {
   "cell_type": "markdown",
   "id": "8018202b",
   "metadata": {
    "id": "8018202b"
   },
   "source": [
    "### Question 6:\n",
    "In this part, we select and display an image of each class in the train data set. For each image, we display its type along with the image."
   ]
  },
  {
   "cell_type": "code",
   "execution_count": null,
   "id": "1cd5ce77",
   "metadata": {
    "colab": {
     "base_uri": "https://localhost:8080/",
     "height": 1000
    },
    "id": "1cd5ce77",
    "outputId": "f77a27dc-8027-4ce7-99e7-e25f0f080c47"
   },
   "outputs": [
    {
     "name": "stdout",
     "output_type": "stream",
     "text": [
      "========== CLASS No. 0 ==========\n"
     ]
    },
    {
     "data": {
      "image/png": "[encoded data removed]",
      "text/plain": [
       "<Figure size 432x288 with 1 Axes>"
      ]
     },
     "metadata": {
      "needs_background": "light"
     },
     "output_type": "display_data"
    },
    {
     "name": "stdout",
     "output_type": "stream",
     "text": [
      "========== CLASS No. 1 ==========\n"
     ]
    },
    {
     "data": {
      "image/png": "[encoded data removed]",
      "text/plain": [
       "<Figure size 432x288 with 1 Axes>"
      ]
     },
     "metadata": {
      "needs_background": "light"
     },
     "output_type": "display_data"
    },
    {
     "name": "stdout",
     "output_type": "stream",
     "text": [
      "========== CLASS No. 2 ==========\n"
     ]
    },
    {
     "data": {
      "image/png": "[encoded data removed]",
      "text/plain": [
       "<Figure size 432x288 with 1 Axes>"
      ]
     },
     "metadata": {
      "needs_background": "light"
     },
     "output_type": "display_data"
    },
    {
     "name": "stdout",
     "output_type": "stream",
     "text": [
      "========== CLASS No. 3 ==========\n"
     ]
    },
    {
     "data": {
      "image/png": "[encoded data removed]",
      "text/plain": [
       "<Figure size 432x288 with 1 Axes>"
      ]
     },
     "metadata": {
      "needs_background": "light"
     },
     "output_type": "display_data"
    },
    {
     "name": "stdout",
     "output_type": "stream",
     "text": [
      "========== CLASS No. 4 ==========\n"
     ]
    },
    {
     "data": {
      "image/png": "[encoded data removed]",
      "text/plain": [
       "<Figure size 432x288 with 1 Axes>"
      ]
     },
     "metadata": {
      "needs_background": "light"
     },
     "output_type": "display_data"
    },
    {
     "name": "stdout",
     "output_type": "stream",
     "text": [
      "========== CLASS No. 5 ==========\n"
     ]
    },
    {
     "data": {
      "image/png": "[encoded data removed]",
      "text/plain": [
       "<Figure size 432x288 with 1 Axes>"
      ]
     },
     "metadata": {
      "needs_background": "light"
     },
     "output_type": "display_data"
    },
    {
     "name": "stdout",
     "output_type": "stream",
     "text": [
      "========== CLASS No. 6 ==========\n"
     ]
    },
    {
     "data": {
      "image/png": "[encoded data removed]",
      "text/plain": [
       "<Figure size 432x288 with 1 Axes>"
      ]
     },
     "metadata": {
      "needs_background": "light"
     },
     "output_type": "display_data"
    },
    {
     "name": "stdout",
     "output_type": "stream",
     "text": [
      "========== CLASS No. 7 ==========\n"
     ]
    },
    {
     "data": {
      "image/png": "[encoded data removed]",
      "text/plain": [
       "<Figure size 432x288 with 1 Axes>"
      ]
     },
     "metadata": {
      "needs_background": "light"
     },
     "output_type": "display_data"
    },
    {
     "name": "stdout",
     "output_type": "stream",
     "text": [
      "========== CLASS No. 8 ==========\n"
     ]
    },
    {
     "data": {
      "image/png": "[encoded data removed]",
      "text/plain": [
       "<Figure size 432x288 with 1 Axes>"
      ]
     },
     "metadata": {
      "needs_background": "light"
     },
     "output_type": "display_data"
    },
    {
     "name": "stdout",
     "output_type": "stream",
     "text": [
      "========== CLASS No. 9 ==========\n"
     ]
    },
    {
     "data": {
      "image/png": "[encoded data removed]",
      "text/plain": [
       "<Figure size 432x288 with 1 Axes>"
      ]
     },
     "metadata": {
      "needs_background": "light"
     },
     "output_type": "display_data"
    },
    {
     "name": "stdout",
     "output_type": "stream",
     "text": [
      "========== CLASS No. 10 ==========\n"
     ]
    },
    {
     "data": {
      "image/png": "[encoded data removed]",
      "text/plain": [
       "<Figure size 432x288 with 1 Axes>"
      ]
     },
     "metadata": {
      "needs_background": "light"
     },
     "output_type": "display_data"
    },
    {
     "name": "stdout",
     "output_type": "stream",
     "text": [
      "========== CLASS No. 11 ==========\n"
     ]
    },
    {
     "data": {
      "image/png": "[encoded data removed]",
      "text/plain": [
       "<Figure size 432x288 with 1 Axes>"
      ]
     },
     "metadata": {
      "needs_background": "light"
     },
     "output_type": "display_data"
    },
    {
     "name": "stdout",
     "output_type": "stream",
     "text": [
      "========== CLASS No. 12 ==========\n"
     ]
    },
    {
     "data": {
      "image/png": "[encoded data removed]",
      "text/plain": [
       "<Figure size 432x288 with 1 Axes>"
      ]
     },
     "metadata": {
      "needs_background": "light"
     },
     "output_type": "display_data"
    },
    {
     "name": "stdout",
     "output_type": "stream",
     "text": [
      "========== CLASS No. 13 ==========\n"
     ]
    },
    {
     "data": {
      "image/png": "[encoded data removed]",
      "text/plain": [
       "<Figure size 432x288 with 1 Axes>"
      ]
     },
     "metadata": {
      "needs_background": "light"
     },
     "output_type": "display_data"
    },
    {
     "name": "stdout",
     "output_type": "stream",
     "text": [
      "========== CLASS No. 14 ==========\n"
     ]
    },
    {
     "data": {
      "image/png": "[encoded data removed]",
      "text/plain": [
       "<Figure size 432x288 with 1 Axes>"
      ]
     },
     "metadata": {
      "needs_background": "light"
     },
     "output_type": "display_data"
    },
    {
     "name": "stdout",
     "output_type": "stream",
     "text": [
      "========== CLASS No. 15 ==========\n"
     ]
    },
    {
     "data": {
      "image/png": "[encoded data removed]",
      "text/plain": [
       "<Figure size 432x288 with 1 Axes>"
      ]
     },
     "metadata": {
      "needs_background": "light"
     },
     "output_type": "display_data"
    },
    {
     "name": "stdout",
     "output_type": "stream",
     "text": [
      "========== CLASS No. 16 ==========\n"
     ]
    },
    {
     "data": {
      "image/png": "[encoded data removed]",
      "text/plain": [
       "<Figure size 432x288 with 1 Axes>"
      ]
     },
     "metadata": {
      "needs_background": "light"
     },
     "output_type": "display_data"
    },
    {
     "name": "stdout",
     "output_type": "stream",
     "text": [
      "========== CLASS No. 17 ==========\n"
     ]
    },
    {
     "data": {
      "image/png": "[encoded data removed]",
      "text/plain": [
       "<Figure size 432x288 with 1 Axes>"
      ]
     },
     "metadata": {
      "needs_background": "light"
     },
     "output_type": "display_data"
    },
    {
     "name": "stdout",
     "output_type": "stream",
     "text": [
      "========== CLASS No. 18 ==========\n"
     ]
    },
    {
     "data": {
      "image/png": "[encoded data removed]",
      "text/plain": [
       "<Figure size 432x288 with 1 Axes>"
      ]
     },
     "metadata": {
      "needs_background": "light"
     },
     "output_type": "display_data"
    },
    {
     "name": "stdout",
     "output_type": "stream",
     "text": [
      "========== CLASS No. 19 ==========\n"
     ]
    },
    {
     "data": {
      "image/png": "[encoded data removed]",
      "text/plain": [
       "<Figure size 432x288 with 1 Axes>"
      ]
     },
     "metadata": {
      "needs_background": "light"
     },
     "output_type": "display_data"
    },
    {
     "name": "stdout",
     "output_type": "stream",
     "text": [
      "========== CLASS No. 20 ==========\n"
     ]
    },
    {
     "data": {
      "image/png": "[encoded data removed]",
      "text/plain": [
       "<Figure size 432x288 with 1 Axes>"
      ]
     },
     "metadata": {
      "needs_background": "light"
     },
     "output_type": "display_data"
    },
    {
     "name": "stdout",
     "output_type": "stream",
     "text": [
      "========== CLASS No. 21 ==========\n"
     ]
    },
    {
     "data": {
      "image/png": "[encoded data removed]",
      "text/plain": [
       "<Figure size 432x288 with 1 Axes>"
      ]
     },
     "metadata": {
      "needs_background": "light"
     },
     "output_type": "display_data"
    },
    {
     "name": "stdout",
     "output_type": "stream",
     "text": [
      "========== CLASS No. 22 ==========\n"
     ]
    },
    {
     "data": {
      "image/png": "[encoded data removed]",
      "text/plain": [
       "<Figure size 432x288 with 1 Axes>"
      ]
     },
     "metadata": {
      "needs_background": "light"
     },
     "output_type": "display_data"
    },
    {
     "name": "stdout",
     "output_type": "stream",
     "text": [
      "========== CLASS No. 23 ==========\n"
     ]
    },
    {
     "data": {
      "image/png": "[encoded data removed]",
      "text/plain": [
       "<Figure size 432x288 with 1 Axes>"
      ]
     },
     "metadata": {
      "needs_background": "light"
     },
     "output_type": "display_data"
    },
    {
     "name": "stdout",
     "output_type": "stream",
     "text": [
      "========== CLASS No. 24 ==========\n"
     ]
    },
    {
     "data": {
      "image/png": "[encoded data removed]",
      "text/plain": [
       "<Figure size 432x288 with 1 Axes>"
      ]
     },
     "metadata": {
      "needs_background": "light"
     },
     "output_type": "display_data"
    },
    {
     "name": "stdout",
     "output_type": "stream",
     "text": [
      "========== CLASS No. 25 ==========\n"
     ]
    },
    {
     "data": {
      "image/png": "[encoded data removed]",
      "text/plain": [
       "<Figure size 432x288 with 1 Axes>"
      ]
     },
     "metadata": {
      "needs_background": "light"
     },
     "output_type": "display_data"
    }
   ],
   "source": [
    "for i in range(26):\n",
    "    dd = dataset_df[dataset_df['0']==i].iloc[1]\n",
    "    x = dd[1:].values\n",
    "    x = x.reshape((28, 28))\n",
    "    print(\"========== CLASS No.\",str(i),\"==========\")\n",
    "    plt.imshow(x, cmap='binary')\n",
    "    plt.show()\n",
    "\n",
    "# for i in range(0,10):\n",
    "#     index = 0\n",
    "#     while Y_train[index] != i:\n",
    "#         index += 1\n",
    "#     image = X_train[index]\n",
    "#     print(\"========== CLASS No.\",str(i),\"==========\")\n",
    "#     plt.figure(figsize = (2 , 2))\n",
    "#     plt.imshow(image)\n",
    "#     plt.title(i)\n",
    "#     plt.show()"
   ]
  },
  {
   "cell_type": "markdown",
   "id": "15cd7b7d",
   "metadata": {
    "id": "15cd7b7d"
   },
   "source": [
    "### Question 7:\n",
    "Data splitting is an important phase, If we use whole data for both train and test our mesurments may not be precise,\n",
    "because there may be overfitting on train data.\n",
    "So we can split our data to train/test to handle this challenge, but again there is another problem.\n",
    "First of all we have to divide our dataset to two parts trainset and testset so by using `train_test_split` method of `sklearn` and setting `test_size` we'll determine what percentage of our data is for test. For the division `train_test_split` fucntions from `sklearn.model_selection` is used which returns 4 dataset likes. Two are for the training data and two are for test data. And the dependent variable which here is the `type` feature.\n",
    "\n",
    "The `P` ratio depends on lots of metrics but two important metrics to mention are the number of rows in our data and our data itself.\n",
    "Assume that we have extremely small data in this situations small p may effect our learning accuracy.\n",
    "In larger datasets we can do the split with more confidence. After reading some documents online I came to the understanding that 10% to 30% is a good percentage for test size and by experimenting different values I decided to use the value 20%.\n",
    "\n",
    "Another important note to mention is randomness. We must shuffle our data so there is no learning from the sequence of data itself.\n",
    "`random_state` is for getting the same set of data each time so that we don't get different results, meaning it won't give us random data each time. `random_state` is like the seed that we set for random. "
   ]
  },
  {
   "cell_type": "code",
   "execution_count": 14,
   "id": "f802b36b",
   "metadata": {
    "colab": {
     "base_uri": "https://localhost:8080/"
    },
    "id": "f802b36b",
    "outputId": "a41239dd-4afc-4a28-ed1f-4ba3f64f7fa5"
   },
   "outputs": [
    {
     "data": {
      "text/plain": [
       "8364"
      ]
     },
     "execution_count": 14,
     "metadata": {},
     "output_type": "execute_result"
    }
   ],
   "source": [
    "X_train, X_test, Y_train, Y_test = train_test_split(data , labels , test_size = 0.20 , random_state = 42)\n",
    "\n",
    "del dataset_df\n",
    "del data\n",
    "del labels\n",
    "gc.collect()"
   ]
  },
  {
   "cell_type": "markdown",
   "id": "eOW9u-OoIDgi",
   "metadata": {
    "id": "eOW9u-OoIDgi"
   },
   "source": [
    "### Question 8:\n",
    "Some algorithms can work with categorical data directly.\n",
    "\n",
    "For example, a decision tree can be learned directly from categorical data with no data transform required (this depends on the specific implementation).\n",
    "\n",
    "Many machine learning algorithms cannot operate on label data directly. They require all input variables and output variables to be numeric.\n",
    "\n",
    "In general, this is mostly a constraint of the efficient implementation of machine learning algorithms rather than hard limitations on the algorithms themselves.\n",
    "\n",
    "This means that categorical data must be converted to a numerical form. If the categorical variable is an output variable, you may also want to convert predictions by the model back into a categorical form in order to present them or use them in some application.\n",
    "\n",
    "There are different ways for handling categirical data.\n",
    "* <b>Label Encoders:</b> Assigining numbers to each categorical value. \n",
    "* <b>One Hot Encoding:</b>  The basic strategy is to convert each category value into a new column and assigns a 1 or 0 (True/False) value to the column. This has the benefit of not weighting a value improperly but does have the downside of adding more columns to the data set. There are also other ways but here we choose to apply one Hot-Encode to categorical variables.\n",
    "* <b>Ordinal Encoding:</b> We use this categorical data encoding technique when the categorical feature is ordinal. In this case, retaining the order is important. Hence encoding should reflect the sequence.\n",
    "\n",
    "Label Encoders aren't a good option when we have no particular ordering in our categories. In these cases, we can use One Hot Encoding which takes a lot of memory since it is adding a new column for each new category. For categorical variables where no such ordinal relationship exists, the integer encoding is not enough. In this case, a one-hot encoding can be applied to the integer representation. This is where the integer encoded variable is removed and a new binary variable is added for each unique integer value."
   ]
  },
  {
   "cell_type": "code",
   "execution_count": 15,
   "id": "NyGzp7jMIDyQ",
   "metadata": {
    "colab": {
     "base_uri": "https://localhost:8080/"
    },
    "id": "NyGzp7jMIDyQ",
    "outputId": "db25d537-d2a4-487d-d25f-5db684c4945b"
   },
   "outputs": [
    {
     "data": {
      "text/plain": [
       "88"
      ]
     },
     "execution_count": 15,
     "metadata": {},
     "output_type": "execute_result"
    }
   ],
   "source": [
    "brand_one_hot = pd.get_dummies(Y_train)\n",
    "Y_train = pd.concat([Y_train, brand_one_hot], axis = 1)\n",
    "Y_train = Y_train.iloc[: , 1:]\n",
    "\n",
    "brand_one_hot = pd.get_dummies(Y_test)\n",
    "Y_test = pd.concat([Y_test, brand_one_hot], axis = 1)\n",
    "Y_test = Y_test.iloc[: , 1:]\n",
    "\n",
    "del brand_one_hot\n",
    "\n",
    "# encoder = OneHotEncoder()\n",
    "# onehot = encoder.fit_transform(Y_train).toarray()\n",
    "# encoder_cols = encoder.get_feature_names()\n",
    "# Y_train = pd.DataFrame(onehot,columns = encoder_cols)\n",
    "# encoder = OneHotEncoder()\n",
    "# onehot = encoder.fit_transform(Y_test).toarray()\n",
    "# encoder_cols = encoder.get_feature_names()\n",
    "# Y_test = pd.DataFrame(onehot,columns = encoder_cols)\n",
    "\n",
    "gc.collect()"
   ]
  },
  {
   "cell_type": "markdown",
   "id": "12LL6peZiL9q",
   "metadata": {
    "id": "12LL6peZiL9q"
   },
   "source": [
    "In machine learning we want numerical values but most of the time there will be categorical values in our dataset. We can convert these values to numerical values. We can deal with categorical values in two different ways. The first one is using label encoding, which assigns one number to each category which here in our dataset for race this method is used in the image names. The second one, that we're using for creating our dataframe, is using one-hot encoding, which will assign different columns to each category. Before we start transforming our data, it is important to figure out if the feature we are working on is ordinal or nominal. An ordinal feature is best described as a feature with natural, ordered categories and the distances between the categories are unknown. We can use LabelEncoder for ordinal features not nominal features. In nominal features we can’t replace the categories by a number since this would imply the features have an order, which is wrong for race in our dataset. So we should use a nominal encoding. The most popular way to encode nominal features is one-hot-encoding. Essentially, each categorical feature with n categories is transformed into n binary features. If the number of the categorical features is low (relative to the amount of data) one-hot encoding will work best. But if the number of the categorical features is large and the dataset is small, one-hot encoding may not be feasible, and regressor may not be able to efficiently learn.\n",
    "\n",
    "So here since we only have 26 classes in a huge dataframe, race is a nominal feature and also since one hot encoding values are 0 or 1 it can't get biased like in label encoding when the number of unique values are a lot. One hot is kinda normalized and the range of its values is much less, all the values will be multiplied by either 1 or 0 so this will prevent being biased despite label encoding which can multiply values by higher numbers and cause being biased towards values which are multiplied by higher numbers."
   ]
  },
  {
   "cell_type": "markdown",
   "id": "d341eceb",
   "metadata": {
    "id": "d341eceb"
   },
   "source": [
    "## Phase 2: Neural network design"
   ]
  },
  {
   "cell_type": "code",
   "execution_count": null,
   "id": "9BsomD0JOpxm",
   "metadata": {
    "id": "9BsomD0JOpxm"
   },
   "outputs": [],
   "source": [
    "input = keras.layers.Input(shape=(784))\n",
    "output = keras.layers.Flatten()(input)\n",
    "output = keras.layers.Dense(1024, activation='relu')(output)\n",
    "output = keras.layers.Dense(512, activation='relu')(output)\n",
    "output = keras.layers.Dense(26, activation='softmax')(output)\n",
    "model = keras.models.Model(inputs=input, outputs=output)\n",
    "model.compile(optimizer=optimizers.SGD(learning_rate=0.01), loss='categorical_crossentropy', metrics=['accuracy'])"
   ]
  },
  {
   "cell_type": "code",
   "execution_count": null,
   "id": "JQZG3G21PSOV",
   "metadata": {
    "colab": {
     "base_uri": "https://localhost:8080/"
    },
    "id": "JQZG3G21PSOV",
    "outputId": "6fc9c676-cd54-45b9-8018-cc5e64e82b6b"
   },
   "outputs": [
    {
     "name": "stdout",
     "output_type": "stream",
     "text": [
      "Model: \"model\"\n",
      "_________________________________________________________________\n",
      " Layer (type)                Output Shape              Param #   \n",
      "=================================================================\n",
      " input_1 (InputLayer)        [(None, 784)]             0         \n",
      "                                                                 \n",
      " flatten (Flatten)           (None, 784)               0         \n",
      "                                                                 \n",
      " dense (Dense)               (None, 1024)              803840    \n",
      "                                                                 \n",
      " dense_1 (Dense)             (None, 512)               524800    \n",
      "                                                                 \n",
      " dense_2 (Dense)             (None, 26)                13338     \n",
      "                                                                 \n",
      "=================================================================\n",
      "Total params: 1,341,978\n",
      "Trainable params: 1,341,978\n",
      "Non-trainable params: 0\n",
      "_________________________________________________________________\n"
     ]
    }
   ],
   "source": [
    "model.summary()"
   ]
  },
  {
   "cell_type": "markdown",
   "id": "sBcNZbN7RDMp",
   "metadata": {
    "id": "sBcNZbN7RDMp"
   },
   "source": [
    "### Model analysis\n",
    "`summary()` is used to show each layers parameters. summary() will show useful information such as layers and their order in the model, output shape of each layer , number of parameters(weights) in each layer and total number of parameters(weights) in the model.\n",
    "\n",
    "For the network above first we have flatten the input, so (28, 28) will become (1, 784) which we will show as 784, then we have 1024 neurons in the first layer. So we had 784 neurons in the previous layer and 2048 in this layer. Also we have a bias vector with size of number of the neurons in this layer. Finally putting all of this together we will have the following number of parameters for this layer:\n",
    "\n",
    "$ 784 * 1024 + 1024 = 803840 $\n",
    "\n",
    "The number above is equal to the number given by `summary()`.\n",
    "\n",
    "The calculations for the next layer is exactly the same except the layers will change. 784 will change to 1024 and 1024 will change to 512 also in the new layer the bias size will be 512 so we'll have the following number of parameters for the second hidden layer:\n",
    "\n",
    "$ 1024 * 512 + 512 = 524800 $\n",
    "\n",
    "Like before the number above is equal to the corresponding number given by `summary()`.\n",
    "\n",
    "For the ouput layer the calculations is exactly the same as before but some number's will change as following:\n",
    "\n",
    "$ 512 * 26 + 26 = 13338 $\n",
    "\n",
    "Like before the number above is equal to the corresponding number given by `summary()`.\n",
    "\n",
    "All the parameters are calculated so in total we'll have:\n",
    "\n",
    "$ 803840 + 524800 + 13338 = 1341978 $\n",
    "\n",
    "Also the same as `summary()`."
   ]
  },
  {
   "cell_type": "code",
   "execution_count": null,
   "id": "wmpOQ5p9QaF9",
   "metadata": {
    "colab": {
     "base_uri": "https://localhost:8080/",
     "height": 533
    },
    "id": "wmpOQ5p9QaF9",
    "outputId": "b96e79f1-3c69-4f7e-e95e-dc45f738c350"
   },
   "outputs": [
    {
     "data": {
      "image/png": "[encoded data removed]",
      "text/plain": [
       "<IPython.core.display.Image object>"
      ]
     },
     "execution_count": 14,
     "metadata": {},
     "output_type": "execute_result"
    }
   ],
   "source": [
    "utils.plot_model(model, show_shapes=True, expand_nested=True)"
   ]
  },
  {
   "cell_type": "code",
   "execution_count": 16,
   "id": "IrhS3BP5gYdp",
   "metadata": {
    "id": "IrhS3BP5gYdp"
   },
   "outputs": [],
   "source": [
    "def model_predict_info():\n",
    "    plt.plot(log.history[\"accuracy\"], color = 'b')\n",
    "    plt.plot(log.history[\"val_accuracy\"], color = 'r')\n",
    "    plt.title(\"Model Accuracy\")\n",
    "    plt.xlabel(\"Epoch\")\n",
    "    plt.ylabel(\"Accuracy\")\n",
    "    plt.legend([\"Train\", \"Test\"])\n",
    "    plt.show()\n",
    "\n",
    "    plt.plot(log.history[\"loss\"], color = 'b')\n",
    "    plt.plot(log.history[\"val_loss\"], color = 'r')\n",
    "    plt.title(\"Model Loss\")\n",
    "    plt.xlabel(\"Epoch\")\n",
    "    plt.ylabel(\"Loss\")\n",
    "    plt.legend([\"Train\", \"Test\"])\n",
    "    plt.show()\n",
    "\n",
    "    print(\"-----------------------------------------------------------------------\")\n",
    "\n",
    "    train_predict = model.predict(X_train.to_numpy(), verbose = 1)\n",
    "    test_predict = model.predict(X_test.to_numpy(), verbose = 1)\n",
    "\n",
    "    print(\"\\nTrain classification report:\")\n",
    "    print(classification_report(np.argmax(train_predict, axis = 1), np.argmax(Y_train.to_numpy(), axis = 1)))\n",
    "    print(\"\\nTest classification report:\")\n",
    "    print(classification_report(np.argmax(test_predict, axis = 1), np.argmax(Y_test.to_numpy(), axis = 1)))\n",
    "\n",
    "    del train_predict\n",
    "    del test_predict\n",
    "    gc.collect()"
   ]
  },
  {
   "cell_type": "markdown",
   "id": "1417ba3c",
   "metadata": {
    "id": "1417ba3c"
   },
   "source": [
    "## Phase 3: Data Classification\n",
    "In this section, we have to practice the neural network created on the data."
   ]
  },
  {
   "cell_type": "markdown",
   "id": "GLx4cYZtmfOY",
   "metadata": {
    "id": "GLx4cYZtmfOY"
   },
   "source": [
    "### Scalling data\n",
    "In this section, scale the amount of data so that the value of each pixel is between 0 and 1 before giving information to the neural network.\n",
    "\n",
    "Normalization refers to rescaling real valued numeric attributes into the range 0 and 1. Neural networks process inputs using small weight values, and inputs with large integer values can disrupt or slow down the learning process.Since maximum value in the dataset is 255 it's a good idea to divide every value in the dataset by 255, this will result in each value being between 0 to 1. The reason that this procedure is done is that higher numbers in the network will make it biased meaning that since the difference between values in the range of 0 to 255 is a lot the effect of a value like 1 can easily be vanished comapred to 255 so it's a wise move to scale the values down to make each of them have somewhat of a equal impact in the network. Biased network can result in lower accuracy and all in all a poor model."
   ]
  },
  {
   "cell_type": "code",
   "execution_count": 17,
   "id": "8i0hxttgnS8i",
   "metadata": {
    "id": "8i0hxttgnS8i"
   },
   "outputs": [],
   "source": [
    "X_train = X_train.div(255)\n",
    "X_test = X_test.div(255)"
   ]
  },
  {
   "cell_type": "code",
   "execution_count": null,
   "id": "kw4z36MZnKOR",
   "metadata": {
    "colab": {
     "base_uri": "https://localhost:8080/"
    },
    "id": "kw4z36MZnKOR",
    "outputId": "bd792782-995a-478a-f443-34bb25f6469c"
   },
   "outputs": [
    {
     "name": "stdout",
     "output_type": "stream",
     "text": [
      "Epoch 1/10\n",
      "9312/9312 [==============================] - 30s 3ms/step - loss: 0.2207 - accuracy: 0.9429 - val_loss: 0.1998 - val_accuracy: 0.9472\n",
      "Epoch 2/10\n",
      "9312/9312 [==============================] - 31s 3ms/step - loss: 0.1800 - accuracy: 0.9531 - val_loss: 0.1690 - val_accuracy: 0.9550\n",
      "Epoch 3/10\n",
      "9312/9312 [==============================] - 32s 3ms/step - loss: 0.1536 - accuracy: 0.9597 - val_loss: 0.1490 - val_accuracy: 0.9611\n",
      "Epoch 4/10\n",
      "9312/9312 [==============================] - 33s 4ms/step - loss: 0.1348 - accuracy: 0.9649 - val_loss: 0.1339 - val_accuracy: 0.9651\n",
      "Epoch 5/10\n",
      "9312/9312 [==============================] - 30s 3ms/step - loss: 0.1203 - accuracy: 0.9684 - val_loss: 0.1215 - val_accuracy: 0.9676\n",
      "Epoch 6/10\n",
      "9312/9312 [==============================] - 37s 4ms/step - loss: 0.1089 - accuracy: 0.9717 - val_loss: 0.1135 - val_accuracy: 0.9694\n",
      "Epoch 7/10\n",
      "9312/9312 [==============================] - 30s 3ms/step - loss: 0.0997 - accuracy: 0.9741 - val_loss: 0.1058 - val_accuracy: 0.9714\n",
      "Epoch 8/10\n",
      "9312/9312 [==============================] - 30s 3ms/step - loss: 0.0917 - accuracy: 0.9761 - val_loss: 0.0987 - val_accuracy: 0.9732\n",
      "Epoch 9/10\n",
      "9312/9312 [==============================] - 30s 3ms/step - loss: 0.0850 - accuracy: 0.9779 - val_loss: 0.0938 - val_accuracy: 0.9747\n",
      "Epoch 10/10\n",
      "9312/9312 [==============================] - 31s 3ms/step - loss: 0.0791 - accuracy: 0.9797 - val_loss: 0.0894 - val_accuracy: 0.9756\n"
     ]
    }
   ],
   "source": [
    "log = model.fit(X_train, Y_train, validation_data=(X_test, Y_test) , epochs = 10, batch_size=32)"
   ]
  },
  {
   "cell_type": "code",
   "execution_count": null,
   "id": "UMQksgx1p830",
   "metadata": {
    "colab": {
     "base_uri": "https://localhost:8080/",
     "height": 1000
    },
    "id": "UMQksgx1p830",
    "outputId": "29861265-9e83-4a55-9f03-53139424fa45"
   },
   "outputs": [
    {
     "data": {
      "image/png": "[encoded data removed]",
      "text/plain": [
       "<Figure size 432x288 with 1 Axes>"
      ]
     },
     "metadata": {
      "needs_background": "light"
     },
     "output_type": "display_data"
    },
    {
     "data": {
      "image/png": "[encoded data removed]",
      "text/plain": [
       "<Figure size 432x288 with 1 Axes>"
      ]
     },
     "metadata": {
      "needs_background": "light"
     },
     "output_type": "display_data"
    },
    {
     "name": "stdout",
     "output_type": "stream",
     "text": [
      "-----------------------------------------------------------------------\n",
      "9312/9312 [==============================] - 14s 1ms/step\n",
      "2328/2328 [==============================] - 4s 2ms/step\n",
      "\n",
      "Train classification report:\n",
      "              precision    recall  f1-score   support\n",
      "\n",
      "           0       0.99      0.97      0.98     11217\n",
      "           1       0.96      0.98      0.97      6861\n",
      "           2       0.98      0.99      0.98     18646\n",
      "           3       0.95      0.95      0.95      8092\n",
      "           4       0.97      0.99      0.98      9084\n",
      "           5       0.95      0.97      0.96       917\n",
      "           6       0.95      0.97      0.96      4486\n",
      "           7       0.94      0.98      0.96      5521\n",
      "           8       0.94      0.99      0.96       839\n",
      "           9       0.96      0.97      0.97      6770\n",
      "          10       0.94      0.97      0.95      4375\n",
      "          11       0.99      0.98      0.98      9334\n",
      "          12       0.98      0.98      0.98      9910\n",
      "          13       0.99      0.97      0.98     15570\n",
      "          14       0.99      0.99      0.99     46483\n",
      "          15       0.99      0.98      0.99     15623\n",
      "          16       0.94      0.98      0.96      4493\n",
      "          17       0.98      0.96      0.97      9399\n",
      "          18       0.99      1.00      0.99     38747\n",
      "          19       0.99      0.99      0.99     18113\n",
      "          20       0.99      0.99      0.99     23246\n",
      "          21       0.98      0.98      0.98      3361\n",
      "          22       0.97      0.98      0.97      8436\n",
      "          23       0.97      0.98      0.97      4950\n",
      "          24       0.97      0.97      0.97      8689\n",
      "          25       0.97      0.99      0.98      4798\n",
      "\n",
      "    accuracy                           0.98    297960\n",
      "   macro avg       0.97      0.98      0.97    297960\n",
      "weighted avg       0.98      0.98      0.98    297960\n",
      "\n",
      "\n",
      "Test classification report:\n",
      "              precision    recall  f1-score   support\n",
      "\n",
      "           0       0.98      0.96      0.97      2842\n",
      "           1       0.95      0.97      0.96      1647\n",
      "           2       0.98      0.98      0.98      4742\n",
      "           3       0.95      0.94      0.94      2061\n",
      "           4       0.96      0.97      0.97      2191\n",
      "           5       0.93      0.97      0.95       221\n",
      "           6       0.94      0.96      0.95      1156\n",
      "           7       0.92      0.97      0.94      1398\n",
      "           8       0.94      1.00      0.97       223\n",
      "           9       0.95      0.96      0.96      1643\n",
      "          10       0.93      0.96      0.95      1102\n",
      "          11       0.98      0.97      0.98      2340\n",
      "          12       0.98      0.96      0.97      2541\n",
      "          13       0.98      0.96      0.97      3825\n",
      "          14       0.99      0.98      0.99     11704\n",
      "          15       0.99      0.98      0.98      3910\n",
      "          16       0.92      0.97      0.94      1105\n",
      "          17       0.96      0.95      0.95      2322\n",
      "          18       0.99      0.99      0.99      9504\n",
      "          19       0.99      0.98      0.99      4487\n",
      "          20       0.98      0.98      0.98      5874\n",
      "          21       0.99      0.97      0.98       841\n",
      "          22       0.95      0.98      0.96      2132\n",
      "          23       0.96      0.97      0.96      1266\n",
      "          24       0.97      0.97      0.97      2199\n",
      "          25       0.97      0.98      0.97      1214\n",
      "\n",
      "    accuracy                           0.98     74490\n",
      "   macro avg       0.96      0.97      0.97     74490\n",
      "weighted avg       0.98      0.98      0.98     74490\n",
      "\n"
     ]
    }
   ],
   "source": [
    "model_predict_info()"
   ]
  },
  {
   "cell_type": "markdown",
   "id": "Zn2ckB34w8DK",
   "metadata": {
    "id": "Zn2ckB34w8DK"
   },
   "source": [
    "### Tanh"
   ]
  },
  {
   "cell_type": "code",
   "execution_count": null,
   "id": "6fIE2KLiw--v",
   "metadata": {
    "colab": {
     "base_uri": "https://localhost:8080/"
    },
    "id": "6fIE2KLiw--v",
    "outputId": "5fbac7db-ed08-4274-ed23-96e6e743aa83"
   },
   "outputs": [
    {
     "name": "stdout",
     "output_type": "stream",
     "text": [
      "Epoch 1/10\n",
      "9312/9312 [==============================] - 31s 3ms/step - loss: 0.5671 - accuracy: 0.8500 - val_loss: 0.4023 - val_accuracy: 0.8930\n",
      "Epoch 2/10\n",
      "9312/9312 [==============================] - 30s 3ms/step - loss: 0.3373 - accuracy: 0.9118 - val_loss: 0.2799 - val_accuracy: 0.9274\n",
      "Epoch 3/10\n",
      "9312/9312 [==============================] - 30s 3ms/step - loss: 0.2436 - accuracy: 0.9369 - val_loss: 0.2143 - val_accuracy: 0.9443\n",
      "Epoch 4/10\n",
      "9312/9312 [==============================] - 30s 3ms/step - loss: 0.1918 - accuracy: 0.9501 - val_loss: 0.1775 - val_accuracy: 0.9543\n",
      "Epoch 5/10\n",
      "9312/9312 [==============================] - 38s 4ms/step - loss: 0.1606 - accuracy: 0.9583 - val_loss: 0.1533 - val_accuracy: 0.9602\n",
      "Epoch 6/10\n",
      "9312/9312 [==============================] - 42s 5ms/step - loss: 0.1392 - accuracy: 0.9639 - val_loss: 0.1377 - val_accuracy: 0.9642\n",
      "Epoch 7/10\n",
      "9312/9312 [==============================] - 30s 3ms/step - loss: 0.1236 - accuracy: 0.9680 - val_loss: 0.1247 - val_accuracy: 0.9669\n",
      "Epoch 8/10\n",
      "9312/9312 [==============================] - 30s 3ms/step - loss: 0.1114 - accuracy: 0.9712 - val_loss: 0.1143 - val_accuracy: 0.9702\n",
      "Epoch 9/10\n",
      "9312/9312 [==============================] - 31s 3ms/step - loss: 0.1016 - accuracy: 0.9739 - val_loss: 0.1066 - val_accuracy: 0.9717\n",
      "Epoch 10/10\n",
      "9312/9312 [==============================] - 31s 3ms/step - loss: 0.0933 - accuracy: 0.9759 - val_loss: 0.1005 - val_accuracy: 0.9730\n"
     ]
    }
   ],
   "source": [
    "del input\n",
    "del output\n",
    "del model\n",
    "del log\n",
    "gc.collect()\n",
    "\n",
    "input = keras.layers.Input(shape=(784))\n",
    "output = keras.layers.Flatten()(input)\n",
    "output = keras.layers.Dense(1024, activation='tanh')(output)\n",
    "output = keras.layers.Dense(512, activation='tanh')(output)\n",
    "output = keras.layers.Dense(26, activation='softmax')(output)\n",
    "model = keras.models.Model(inputs=input, outputs=output)\n",
    "model.compile(optimizer=optimizers.SGD(learning_rate=0.01), loss='categorical_crossentropy', metrics=['accuracy'])\n",
    "\n",
    "log = model.fit(X_train, Y_train, validation_data=(X_test, Y_test) , epochs = 10, batch_size=32)"
   ]
  },
  {
   "cell_type": "code",
   "execution_count": null,
   "id": "EH6IQ-X7xaUK",
   "metadata": {
    "colab": {
     "base_uri": "https://localhost:8080/",
     "height": 1000
    },
    "id": "EH6IQ-X7xaUK",
    "outputId": "fa6c7e95-c547-45c0-a689-64532f8db1cd"
   },
   "outputs": [
    {
     "data": {
      "image/png": "[encoded data removed]",
      "text/plain": [
       "<Figure size 432x288 with 1 Axes>"
      ]
     },
     "metadata": {
      "needs_background": "light"
     },
     "output_type": "display_data"
    },
    {
     "data": {
      "image/png": "[encoded data removed]",
      "text/plain": [
       "<Figure size 432x288 with 1 Axes>"
      ]
     },
     "metadata": {
      "needs_background": "light"
     },
     "output_type": "display_data"
    },
    {
     "name": "stdout",
     "output_type": "stream",
     "text": [
      "-----------------------------------------------------------------------\n",
      "9312/9312 [==============================] - 15s 2ms/step\n",
      "2328/2328 [==============================] - 3s 1ms/step\n",
      "\n",
      "Train classification report:\n",
      "              precision    recall  f1-score   support\n",
      "\n",
      "           0       0.98      0.97      0.98     11095\n",
      "           1       0.97      0.96      0.96      7069\n",
      "           2       0.98      0.99      0.98     18421\n",
      "           3       0.94      0.96      0.95      7961\n",
      "           4       0.96      0.98      0.97      9032\n",
      "           5       0.94      0.96      0.95       917\n",
      "           6       0.93      0.97      0.95      4379\n",
      "           7       0.95      0.95      0.95      5720\n",
      "           8       0.94      0.96      0.95       862\n",
      "           9       0.95      0.95      0.95      6797\n",
      "          10       0.94      0.96      0.95      4392\n",
      "          11       0.99      0.97      0.98      9465\n",
      "          12       0.98      0.98      0.98      9846\n",
      "          13       0.98      0.97      0.98     15484\n",
      "          14       0.99      0.99      0.99     46370\n",
      "          15       0.99      0.98      0.98     15651\n",
      "          16       0.95      0.96      0.95      4585\n",
      "          17       0.97      0.96      0.96      9326\n",
      "          18       0.99      0.99      0.99     38866\n",
      "          19       0.99      0.98      0.99     18252\n",
      "          20       0.99      0.98      0.99     23303\n",
      "          21       0.98      0.98      0.98      3363\n",
      "          22       0.96      0.98      0.97      8435\n",
      "          23       0.96      0.96      0.96      5027\n",
      "          24       0.96      0.97      0.97      8579\n",
      "          25       0.97      0.99      0.98      4763\n",
      "\n",
      "    accuracy                           0.98    297960\n",
      "   macro avg       0.97      0.97      0.97    297960\n",
      "weighted avg       0.98      0.98      0.98    297960\n",
      "\n",
      "\n",
      "Test classification report:\n",
      "              precision    recall  f1-score   support\n",
      "\n",
      "           0       0.97      0.97      0.97      2805\n",
      "           1       0.97      0.94      0.95      1717\n",
      "           2       0.97      0.99      0.98      4678\n",
      "           3       0.94      0.94      0.94      2036\n",
      "           4       0.96      0.97      0.97      2183\n",
      "           5       0.91      0.96      0.94       220\n",
      "           6       0.92      0.97      0.95      1126\n",
      "           7       0.94      0.95      0.95      1448\n",
      "           8       0.95      0.99      0.97       227\n",
      "           9       0.94      0.94      0.94      1674\n",
      "          10       0.94      0.95      0.94      1117\n",
      "          11       0.98      0.97      0.98      2361\n",
      "          12       0.97      0.97      0.97      2505\n",
      "          13       0.98      0.97      0.97      3807\n",
      "          14       0.99      0.98      0.99     11655\n",
      "          15       0.98      0.97      0.98      3920\n",
      "          16       0.93      0.96      0.95      1129\n",
      "          17       0.95      0.95      0.95      2283\n",
      "          18       0.99      0.99      0.99      9541\n",
      "          19       0.99      0.98      0.98      4511\n",
      "          20       0.98      0.97      0.98      5922\n",
      "          21       0.99      0.97      0.98       840\n",
      "          22       0.94      0.98      0.96      2122\n",
      "          23       0.97      0.96      0.96      1284\n",
      "          24       0.96      0.97      0.96      2175\n",
      "          25       0.96      0.98      0.97      1204\n",
      "\n",
      "    accuracy                           0.97     74490\n",
      "   macro avg       0.96      0.97      0.96     74490\n",
      "weighted avg       0.97      0.97      0.97     74490\n",
      "\n"
     ]
    }
   ],
   "source": [
    "model_predict_info()"
   ]
  },
  {
   "cell_type": "markdown",
   "id": "sqMIpfyYw_mD",
   "metadata": {
    "id": "sqMIpfyYw_mD"
   },
   "source": [
    "### Sigmoid"
   ]
  },
  {
   "cell_type": "code",
   "execution_count": null,
   "id": "HF-3yJxtxCDI",
   "metadata": {
    "colab": {
     "base_uri": "https://localhost:8080/"
    },
    "id": "HF-3yJxtxCDI",
    "outputId": "c192f349-e4c1-481b-b028-c856624740c5"
   },
   "outputs": [
    {
     "name": "stdout",
     "output_type": "stream",
     "text": [
      "Epoch 1/10\n",
      "9312/9312 [==============================] - 32s 3ms/step - loss: 1.8485 - accuracy: 0.4921 - val_loss: 1.1199 - val_accuracy: 0.6953\n",
      "Epoch 2/10\n",
      "9312/9312 [==============================] - 30s 3ms/step - loss: 0.8854 - accuracy: 0.7563 - val_loss: 0.7467 - val_accuracy: 0.7994\n",
      "Epoch 3/10\n",
      "9312/9312 [==============================] - 30s 3ms/step - loss: 0.6789 - accuracy: 0.8132 - val_loss: 0.6301 - val_accuracy: 0.8249\n",
      "Epoch 4/10\n",
      "9312/9312 [==============================] - 30s 3ms/step - loss: 0.5996 - accuracy: 0.8353 - val_loss: 0.5751 - val_accuracy: 0.8434\n",
      "Epoch 5/10\n",
      "9312/9312 [==============================] - 31s 3ms/step - loss: 0.5567 - accuracy: 0.8480 - val_loss: 0.5397 - val_accuracy: 0.8524\n",
      "Epoch 6/10\n",
      "9312/9312 [==============================] - 32s 3ms/step - loss: 0.5278 - accuracy: 0.8559 - val_loss: 0.5202 - val_accuracy: 0.8550\n",
      "Epoch 7/10\n",
      "9312/9312 [==============================] - 30s 3ms/step - loss: 0.5050 - accuracy: 0.8621 - val_loss: 0.4958 - val_accuracy: 0.8657\n",
      "Epoch 8/10\n",
      "9312/9312 [==============================] - 31s 3ms/step - loss: 0.4848 - accuracy: 0.8681 - val_loss: 0.4736 - val_accuracy: 0.8700\n",
      "Epoch 9/10\n",
      "9312/9312 [==============================] - 30s 3ms/step - loss: 0.4657 - accuracy: 0.8734 - val_loss: 0.4574 - val_accuracy: 0.8760\n",
      "Epoch 10/10\n",
      "9312/9312 [==============================] - 30s 3ms/step - loss: 0.4472 - accuracy: 0.8791 - val_loss: 0.4419 - val_accuracy: 0.8777\n"
     ]
    }
   ],
   "source": [
    "del input\n",
    "del output\n",
    "del model\n",
    "del log\n",
    "gc.collect()\n",
    "\n",
    "input = keras.layers.Input(shape=(784))\n",
    "output = keras.layers.Flatten()(input)\n",
    "output = keras.layers.Dense(1024, activation='sigmoid')(output)\n",
    "output = keras.layers.Dense(512, activation='sigmoid')(output)\n",
    "output = keras.layers.Dense(26, activation='softmax')(output)\n",
    "model = keras.models.Model(inputs=input, outputs=output)\n",
    "model.compile(optimizer=optimizers.SGD(learning_rate=0.01), loss='categorical_crossentropy', metrics=['accuracy'])\n",
    "\n",
    "log = model.fit(X_train, Y_train, validation_data=(X_test, Y_test) , epochs = 10, batch_size=32)"
   ]
  },
  {
   "cell_type": "code",
   "execution_count": null,
   "id": "AOyg50Lbxf07",
   "metadata": {
    "colab": {
     "base_uri": "https://localhost:8080/",
     "height": 1000
    },
    "id": "AOyg50Lbxf07",
    "outputId": "feb10f2d-f992-4eb1-eb85-d1c507272609"
   },
   "outputs": [
    {
     "data": {
      "image/png": "[encoded data removed]",
      "text/plain": [
       "<Figure size 432x288 with 1 Axes>"
      ]
     },
     "metadata": {
      "needs_background": "light"
     },
     "output_type": "display_data"
    },
    {
     "data": {
      "image/png": "[encoded data removed]",
      "text/plain": [
       "<Figure size 432x288 with 1 Axes>"
      ]
     },
     "metadata": {
      "needs_background": "light"
     },
     "output_type": "display_data"
    },
    {
     "name": "stdout",
     "output_type": "stream",
     "text": [
      "-----------------------------------------------------------------------\n",
      "9312/9312 [==============================] - 15s 2ms/step\n",
      "2328/2328 [==============================] - 3s 1ms/step\n",
      "\n",
      "Train classification report:\n",
      "              precision    recall  f1-score   support\n",
      "\n",
      "           0       0.87      0.81      0.84     11778\n",
      "           1       0.76      0.86      0.81      6197\n",
      "           2       0.91      0.92      0.91     18515\n",
      "           3       0.78      0.85      0.81      7368\n",
      "           4       0.81      0.78      0.80      9582\n",
      "           5       0.72      0.91      0.80       736\n",
      "           6       0.75      0.83      0.79      4122\n",
      "           7       0.57      0.86      0.69      3835\n",
      "           8       0.72      0.84      0.78       763\n",
      "           9       0.77      0.82      0.79      6363\n",
      "          10       0.75      0.71      0.73      4728\n",
      "          11       0.95      0.89      0.92      9832\n",
      "          12       0.87      0.89      0.88      9695\n",
      "          13       0.88      0.71      0.78     19014\n",
      "          14       0.97      0.94      0.95     47432\n",
      "          15       0.93      0.91      0.92     15709\n",
      "          16       0.73      0.83      0.78      4065\n",
      "          17       0.80      0.77      0.79      9592\n",
      "          18       0.94      0.95      0.94     38563\n",
      "          19       0.95      0.93      0.94     18403\n",
      "          20       0.90      0.90      0.90     23196\n",
      "          21       0.83      0.91      0.87      3086\n",
      "          22       0.77      0.87      0.81      7571\n",
      "          23       0.81      0.83      0.82      4888\n",
      "          24       0.85      0.84      0.84      8775\n",
      "          25       0.78      0.91      0.84      4152\n",
      "\n",
      "    accuracy                           0.88    297960\n",
      "   macro avg       0.82      0.86      0.84    297960\n",
      "weighted avg       0.88      0.88      0.88    297960\n",
      "\n",
      "\n",
      "Test classification report:\n",
      "              precision    recall  f1-score   support\n",
      "\n",
      "           0       0.87      0.80      0.83      3047\n",
      "           1       0.76      0.85      0.80      1496\n",
      "           2       0.91      0.93      0.92      4654\n",
      "           3       0.79      0.86      0.82      1872\n",
      "           4       0.82      0.78      0.80      2354\n",
      "           5       0.72      0.92      0.81       182\n",
      "           6       0.77      0.84      0.80      1081\n",
      "           7       0.56      0.86      0.67       952\n",
      "           8       0.75      0.83      0.79       213\n",
      "           9       0.77      0.81      0.79      1576\n",
      "          10       0.75      0.73      0.74      1159\n",
      "          11       0.95      0.89      0.92      2470\n",
      "          12       0.88      0.89      0.88      2447\n",
      "          13       0.87      0.69      0.77      4701\n",
      "          14       0.97      0.94      0.95     11940\n",
      "          15       0.92      0.91      0.92      3908\n",
      "          16       0.74      0.85      0.79      1007\n",
      "          17       0.79      0.77      0.78      2359\n",
      "          18       0.94      0.95      0.94      9442\n",
      "          19       0.95      0.93      0.94      4565\n",
      "          20       0.90      0.90      0.90      5844\n",
      "          21       0.83      0.89      0.86       763\n",
      "          22       0.76      0.86      0.80      1950\n",
      "          23       0.83      0.84      0.83      1257\n",
      "          24       0.84      0.83      0.84      2212\n",
      "          25       0.78      0.92      0.84      1039\n",
      "\n",
      "    accuracy                           0.88     74490\n",
      "   macro avg       0.82      0.86      0.84     74490\n",
      "weighted avg       0.88      0.88      0.88     74490\n",
      "\n"
     ]
    }
   ],
   "source": [
    "model_predict_info()"
   ]
  },
  {
   "cell_type": "markdown",
   "id": "SyapKGR2xDk-",
   "metadata": {
    "id": "SyapKGR2xDk-"
   },
   "source": [
    "### Leaky RELU"
   ]
  },
  {
   "cell_type": "code",
   "execution_count": null,
   "id": "T1n1MbldxEfW",
   "metadata": {
    "colab": {
     "base_uri": "https://localhost:8080/"
    },
    "id": "T1n1MbldxEfW",
    "outputId": "0e2152d1-1bdb-4169-b4dc-95ac68134497"
   },
   "outputs": [
    {
     "name": "stdout",
     "output_type": "stream",
     "text": [
      "Epoch 1/10\n",
      "9312/9312 [==============================] - 31s 3ms/step - loss: 0.5706 - accuracy: 0.8486 - val_loss: 0.3660 - val_accuracy: 0.9019\n",
      "Epoch 2/10\n",
      "9312/9312 [==============================] - 30s 3ms/step - loss: 0.3063 - accuracy: 0.9191 - val_loss: 0.2542 - val_accuracy: 0.9330\n",
      "Epoch 3/10\n",
      "9312/9312 [==============================] - 31s 3ms/step - loss: 0.2226 - accuracy: 0.9418 - val_loss: 0.2006 - val_accuracy: 0.9471\n",
      "Epoch 4/10\n",
      "9312/9312 [==============================] - 30s 3ms/step - loss: 0.1773 - accuracy: 0.9536 - val_loss: 0.1641 - val_accuracy: 0.9572\n",
      "Epoch 5/10\n",
      "9312/9312 [==============================] - 30s 3ms/step - loss: 0.1492 - accuracy: 0.9607 - val_loss: 0.1492 - val_accuracy: 0.9597\n",
      "Epoch 6/10\n",
      "9312/9312 [==============================] - 31s 3ms/step - loss: 0.1296 - accuracy: 0.9658 - val_loss: 0.1301 - val_accuracy: 0.9650\n",
      "Epoch 7/10\n",
      "9312/9312 [==============================] - 31s 3ms/step - loss: 0.1148 - accuracy: 0.9697 - val_loss: 0.1173 - val_accuracy: 0.9689\n",
      "Epoch 8/10\n",
      "9312/9312 [==============================] - 31s 3ms/step - loss: 0.1031 - accuracy: 0.9731 - val_loss: 0.1106 - val_accuracy: 0.9703\n",
      "Epoch 9/10\n",
      "9312/9312 [==============================] - 31s 3ms/step - loss: 0.0937 - accuracy: 0.9757 - val_loss: 0.1023 - val_accuracy: 0.9726\n",
      "Epoch 10/10\n",
      "9312/9312 [==============================] - 31s 3ms/step - loss: 0.0858 - accuracy: 0.9775 - val_loss: 0.0972 - val_accuracy: 0.9737\n"
     ]
    }
   ],
   "source": [
    "del input\n",
    "del output\n",
    "del model\n",
    "del log\n",
    "gc.collect()\n",
    "\n",
    "input = keras.layers.Input(shape=(784))\n",
    "output = keras.layers.Flatten()(input)\n",
    "output = keras.layers.Dense(1024, activation='LeakyReLU')(output)\n",
    "output = keras.layers.Dense(512, activation='LeakyReLU')(output)\n",
    "output = keras.layers.Dense(26, activation='softmax')(output)\n",
    "model = keras.models.Model(inputs=input, outputs=output)\n",
    "model.compile(optimizer=optimizers.SGD(learning_rate=0.01), loss='categorical_crossentropy', metrics=['accuracy'])\n",
    "\n",
    "# model = Sequential()\n",
    "# model.add(layers.Input(shape=(784)))\n",
    "# model.add(layers.Flatten())\n",
    "# model.add(layers.Dense(1024))\n",
    "# model.add(layers.LeakyReLU(alpha=0.05))\n",
    "# model.add(layers.Dense(512))\n",
    "# model.add(layers.LeakyReLU(alpha=0.05))\n",
    "# model.add(layers.Dense(26, activation='softmax'))\n",
    "# model.compile(optimizer=optimizers.SGD(learning_rate=0.01), loss=\"categorical_crossentropy\",metrics=['accuracy'])\n",
    "\n",
    "log = model.fit(X_train, Y_train, validation_data=(X_test, Y_test) , epochs = 10, batch_size=32)"
   ]
  },
  {
   "cell_type": "code",
   "execution_count": null,
   "id": "m8h__hZmydaz",
   "metadata": {
    "colab": {
     "base_uri": "https://localhost:8080/",
     "height": 1000
    },
    "id": "m8h__hZmydaz",
    "outputId": "d8e53a7d-9e22-40a9-8d5c-dd5c5cced06f"
   },
   "outputs": [
    {
     "data": {
      "image/png": "[encoded data removed]",
      "text/plain": [
       "<Figure size 432x288 with 1 Axes>"
      ]
     },
     "metadata": {
      "needs_background": "light"
     },
     "output_type": "display_data"
    },
    {
     "data": {
      "image/png": "[encoded data removed]",
      "text/plain": [
       "<Figure size 432x288 with 1 Axes>"
      ]
     },
     "metadata": {
      "needs_background": "light"
     },
     "output_type": "display_data"
    },
    {
     "name": "stdout",
     "output_type": "stream",
     "text": [
      "-----------------------------------------------------------------------\n",
      "9312/9312 [==============================] - 14s 1ms/step\n",
      "2328/2328 [==============================] - 3s 1ms/step\n",
      "\n",
      "Train classification report:\n",
      "              precision    recall  f1-score   support\n",
      "\n",
      "           0       0.99      0.97      0.98     11271\n",
      "           1       0.96      0.98      0.97      6845\n",
      "           2       0.98      0.99      0.98     18534\n",
      "           3       0.96      0.94      0.95      8312\n",
      "           4       0.98      0.97      0.97      9287\n",
      "           5       0.95      0.95      0.95       936\n",
      "           6       0.96      0.95      0.95      4621\n",
      "           7       0.96      0.94      0.95      5872\n",
      "           8       0.93      0.99      0.96       833\n",
      "           9       0.97      0.94      0.95      7110\n",
      "          10       0.95      0.95      0.95      4476\n",
      "          11       0.98      0.98      0.98      9324\n",
      "          12       0.97      0.98      0.98      9786\n",
      "          13       0.97      0.99      0.98     14988\n",
      "          14       0.99      0.99      0.99     46132\n",
      "          15       0.98      0.99      0.99     15380\n",
      "          16       0.96      0.96      0.96      4651\n",
      "          17       0.95      0.99      0.97      8933\n",
      "          18       0.99      1.00      0.99     38507\n",
      "          19       0.99      0.99      0.99     18146\n",
      "          20       0.99      0.98      0.99     23412\n",
      "          21       0.99      0.98      0.98      3375\n",
      "          22       0.98      0.97      0.97      8691\n",
      "          23       0.96      0.98      0.97      4888\n",
      "          24       0.98      0.96      0.97      8845\n",
      "          25       0.97      0.98      0.98      4805\n",
      "\n",
      "    accuracy                           0.98    297960\n",
      "   macro avg       0.97      0.97      0.97    297960\n",
      "weighted avg       0.98      0.98      0.98    297960\n",
      "\n",
      "\n",
      "Test classification report:\n",
      "              precision    recall  f1-score   support\n",
      "\n",
      "           0       0.98      0.96      0.97      2875\n",
      "           1       0.95      0.97      0.96      1646\n",
      "           2       0.98      0.99      0.98      4696\n",
      "           3       0.95      0.93      0.94      2103\n",
      "           4       0.97      0.95      0.96      2245\n",
      "           5       0.93      0.95      0.94       226\n",
      "           6       0.95      0.95      0.95      1188\n",
      "           7       0.95      0.93      0.94      1503\n",
      "           8       0.94      1.00      0.97       222\n",
      "           9       0.97      0.92      0.94      1744\n",
      "          10       0.94      0.93      0.94      1144\n",
      "          11       0.98      0.98      0.98      2332\n",
      "          12       0.97      0.97      0.97      2508\n",
      "          13       0.96      0.98      0.97      3672\n",
      "          14       0.99      0.99      0.99     11620\n",
      "          15       0.98      0.98      0.98      3872\n",
      "          16       0.94      0.95      0.94      1140\n",
      "          17       0.93      0.99      0.95      2158\n",
      "          18       0.98      1.00      0.99      9444\n",
      "          19       0.99      0.98      0.99      4479\n",
      "          20       0.99      0.97      0.98      5928\n",
      "          21       0.99      0.96      0.98       843\n",
      "          22       0.96      0.96      0.96      2216\n",
      "          23       0.96      0.97      0.96      1250\n",
      "          24       0.96      0.96      0.96      2223\n",
      "          25       0.97      0.98      0.97      1213\n",
      "\n",
      "    accuracy                           0.97     74490\n",
      "   macro avg       0.96      0.96      0.96     74490\n",
      "weighted avg       0.97      0.97      0.97     74490\n",
      "\n"
     ]
    }
   ],
   "source": [
    "model_predict_info()"
   ]
  },
  {
   "cell_type": "markdown",
   "id": "0w5YwG7Oy9yJ",
   "metadata": {
    "id": "0w5YwG7Oy9yJ"
   },
   "source": [
    "## Investigating the impact of offending changes and questions:"
   ]
  },
  {
   "cell_type": "markdown",
   "id": "30166KL6zADR",
   "metadata": {
    "id": "30166KL6zADR"
   },
   "source": [
    "### Part I: Optimizer"
   ]
  },
  {
   "cell_type": "markdown",
   "id": "-C9Cv7XHzUHe",
   "metadata": {
    "id": "-C9Cv7XHzUHe"
   },
   "source": [
    "#### Questions 1: What is momentum\n",
    "Momentum takes past gradients into account to smooth out the steps of gradient descent meaning that it accelerates gradient descent in the relevant direction and dampens oscillations. When momentum is 0 the formula below is used in SGD:\n",
    "\n",
    "$ w = w - learningRate * g $\n",
    "\n",
    "But when momentum is larger than 0 the formula below is used:\n",
    "\n",
    "$ w = w + momentum * velocity - learningRate * g $\n",
    "\n",
    "Exponential Smoothing is one of the simplest ways to add smoothing to your data. In our case, the Exponential Smoothing is called Momentum and it allows the optimizer to maintain the velocity and trajectory from previous time steps to affect the present. The weighting of previous time steps drops off exponentially so the most recent time step has the greatest impact.\n",
    "\n",
    "Momentum optimizer is faster and better at optimizing the model in our problem. momentum is an easy and quick way to improve upon standard Stochastic Gradient Descent for optimizing Neural Network models.\n",
    "\n",
    "Momentum or SGD with momentum is a method which helps us to accelerate gradient vectors in the right directions. Momentum is an average of gradients that changes during the time and we use it to update weight in each step. Therefore, it leads to faster convergence. It is mostly used in neural networks considering the size of data in NNs makes a considerable time difference while training gradients. It can be used to handle noisy gradients. Moreover, it can handle extremely small gradients."
   ]
  },
  {
   "cell_type": "markdown",
   "id": "Te_ya6IJzZ4p",
   "metadata": {
    "id": "Te_ya6IJzZ4p"
   },
   "source": [
    "#### Questions 2:"
   ]
  },
  {
   "cell_type": "markdown",
   "id": "6lJsVC0T3gHP",
   "metadata": {
    "id": "6lJsVC0T3gHP"
   },
   "source": [
    "##### Momentum = 0.5"
   ]
  },
  {
   "cell_type": "code",
   "execution_count": null,
   "id": "bcHjdH0u3i1G",
   "metadata": {
    "colab": {
     "base_uri": "https://localhost:8080/"
    },
    "id": "bcHjdH0u3i1G",
    "outputId": "9bc0e916-40a3-4be0-c1af-f25f5e10e722"
   },
   "outputs": [
    {
     "name": "stdout",
     "output_type": "stream",
     "text": [
      "Epoch 1/10\n",
      "9312/9312 [==============================] - 31s 3ms/step - loss: 0.4516 - accuracy: 0.8798 - val_loss: 0.2717 - val_accuracy: 0.9277\n",
      "Epoch 2/10\n",
      "9312/9312 [==============================] - 31s 3ms/step - loss: 0.2083 - accuracy: 0.9449 - val_loss: 0.1702 - val_accuracy: 0.9548\n",
      "Epoch 3/10\n",
      "9312/9312 [==============================] - 30s 3ms/step - loss: 0.1479 - accuracy: 0.9605 - val_loss: 0.1383 - val_accuracy: 0.9623\n",
      "Epoch 4/10\n",
      "9312/9312 [==============================] - 31s 3ms/step - loss: 0.1175 - accuracy: 0.9685 - val_loss: 0.1168 - val_accuracy: 0.9686\n",
      "Epoch 5/10\n",
      "9312/9312 [==============================] - 31s 3ms/step - loss: 0.0980 - accuracy: 0.9738 - val_loss: 0.1027 - val_accuracy: 0.9719\n",
      "Epoch 6/10\n",
      "9312/9312 [==============================] - 30s 3ms/step - loss: 0.0846 - accuracy: 0.9774 - val_loss: 0.0953 - val_accuracy: 0.9739\n",
      "Epoch 7/10\n",
      "9312/9312 [==============================] - 31s 3ms/step - loss: 0.0733 - accuracy: 0.9803 - val_loss: 0.0875 - val_accuracy: 0.9752\n",
      "Epoch 8/10\n",
      "9312/9312 [==============================] - 30s 3ms/step - loss: 0.0649 - accuracy: 0.9825 - val_loss: 0.0802 - val_accuracy: 0.9776\n",
      "Epoch 9/10\n",
      "9312/9312 [==============================] - 31s 3ms/step - loss: 0.0579 - accuracy: 0.9845 - val_loss: 0.0714 - val_accuracy: 0.9798\n",
      "Epoch 10/10\n",
      "9312/9312 [==============================] - 31s 3ms/step - loss: 0.0516 - accuracy: 0.9862 - val_loss: 0.0706 - val_accuracy: 0.9804\n"
     ]
    }
   ],
   "source": [
    "del input\n",
    "del output\n",
    "del model\n",
    "del log\n",
    "gc.collect()\n",
    "\n",
    "input = keras.layers.Input(shape=(784))\n",
    "output = keras.layers.Flatten()(input)\n",
    "output = keras.layers.Dense(1024, activation='LeakyReLU')(output)\n",
    "output = keras.layers.Dense(512, activation='LeakyReLU')(output)\n",
    "output = keras.layers.Dense(26, activation='softmax')(output)\n",
    "model = keras.models.Model(inputs=input, outputs=output)\n",
    "model.compile(optimizer=optimizers.SGD(learning_rate=0.01, momentum=0.5), loss='categorical_crossentropy', metrics=['accuracy'])\n",
    "\n",
    "log = model.fit(X_train, Y_train, validation_data=(X_test, Y_test) , epochs = 10, batch_size=32)"
   ]
  },
  {
   "cell_type": "code",
   "execution_count": null,
   "id": "eLqLunS-3qom",
   "metadata": {
    "colab": {
     "base_uri": "https://localhost:8080/",
     "height": 1000
    },
    "id": "eLqLunS-3qom",
    "outputId": "6d4638bc-8226-45d0-af1c-e1fbe01a8519"
   },
   "outputs": [
    {
     "data": {
      "image/png": "[encoded data removed]",
      "text/plain": [
       "<Figure size 432x288 with 1 Axes>"
      ]
     },
     "metadata": {
      "needs_background": "light"
     },
     "output_type": "display_data"
    },
    {
     "data": {
      "image/png": "[encoded data removed]",
      "text/plain": [
       "<Figure size 432x288 with 1 Axes>"
      ]
     },
     "metadata": {
      "needs_background": "light"
     },
     "output_type": "display_data"
    },
    {
     "name": "stdout",
     "output_type": "stream",
     "text": [
      "-----------------------------------------------------------------------\n",
      "9312/9312 [==============================] - 14s 1ms/step\n",
      "2328/2328 [==============================] - 3s 1ms/step\n",
      "\n",
      "Train classification report:\n",
      "              precision    recall  f1-score   support\n",
      "\n",
      "           0       0.98      0.99      0.99     11004\n",
      "           1       0.98      0.99      0.98      6932\n",
      "           2       0.99      0.98      0.99     18857\n",
      "           3       0.98      0.94      0.96      8439\n",
      "           4       0.99      0.99      0.99      9205\n",
      "           5       0.97      0.98      0.98       922\n",
      "           6       0.96      0.99      0.97      4426\n",
      "           7       0.94      1.00      0.97      5408\n",
      "           8       0.97      0.99      0.98       867\n",
      "           9       0.97      0.97      0.97      6825\n",
      "          10       0.98      0.97      0.97      4513\n",
      "          11       0.98      0.99      0.99      9178\n",
      "          12       1.00      0.97      0.98     10093\n",
      "          13       0.99      0.98      0.99     15392\n",
      "          14       0.99      0.99      0.99     46035\n",
      "          15       0.99      0.99      0.99     15488\n",
      "          16       0.97      0.98      0.98      4579\n",
      "          17       0.99      0.97      0.98      9491\n",
      "          18       0.99      1.00      1.00     38682\n",
      "          19       1.00      0.99      0.99     18126\n",
      "          20       0.99      0.99      0.99     23233\n",
      "          21       0.99      0.99      0.99      3368\n",
      "          22       0.98      0.99      0.98      8501\n",
      "          23       0.98      0.99      0.98      4911\n",
      "          24       0.99      0.99      0.99      8648\n",
      "          25       0.99      0.99      0.99      4837\n",
      "\n",
      "    accuracy                           0.99    297960\n",
      "   macro avg       0.98      0.98      0.98    297960\n",
      "weighted avg       0.99      0.99      0.99    297960\n",
      "\n",
      "\n",
      "Test classification report:\n",
      "              precision    recall  f1-score   support\n",
      "\n",
      "           0       0.97      0.98      0.98      2774\n",
      "           1       0.97      0.97      0.97      1669\n",
      "           2       0.99      0.98      0.98      4792\n",
      "           3       0.97      0.92      0.95      2153\n",
      "           4       0.98      0.98      0.98      2208\n",
      "           5       0.93      0.99      0.96       217\n",
      "           6       0.94      0.97      0.96      1146\n",
      "           7       0.92      0.99      0.95      1356\n",
      "           8       0.95      0.99      0.97       228\n",
      "           9       0.96      0.97      0.96      1659\n",
      "          10       0.97      0.95      0.96      1157\n",
      "          11       0.98      0.99      0.98      2301\n",
      "          12       0.99      0.96      0.97      2579\n",
      "          13       0.99      0.97      0.98      3813\n",
      "          14       0.99      0.99      0.99     11578\n",
      "          15       0.99      0.99      0.99      3880\n",
      "          16       0.95      0.97      0.96      1131\n",
      "          17       0.98      0.96      0.97      2341\n",
      "          18       0.99      1.00      0.99      9493\n",
      "          19       1.00      0.98      0.99      4498\n",
      "          20       0.99      0.98      0.99      5893\n",
      "          21       0.99      0.97      0.98       838\n",
      "          22       0.96      0.98      0.97      2146\n",
      "          23       0.96      0.99      0.97      1242\n",
      "          24       0.97      0.99      0.98      2174\n",
      "          25       0.98      0.98      0.98      1224\n",
      "\n",
      "    accuracy                           0.98     74490\n",
      "   macro avg       0.97      0.98      0.97     74490\n",
      "weighted avg       0.98      0.98      0.98     74490\n",
      "\n"
     ]
    }
   ],
   "source": [
    "model_predict_info()"
   ]
  },
  {
   "cell_type": "markdown",
   "id": "Eni0y2SQ3_Dd",
   "metadata": {
    "id": "Eni0y2SQ3_Dd"
   },
   "source": [
    "Based on the result, this model is more optimal in comparison to the other model (with another values for momentum) and the loss decreases with higher rate."
   ]
  },
  {
   "cell_type": "markdown",
   "id": "H5DNagfc4AJj",
   "metadata": {
    "id": "H5DNagfc4AJj"
   },
   "source": [
    "##### Momentum = 0.9"
   ]
  },
  {
   "cell_type": "code",
   "execution_count": null,
   "id": "72Ur2GDx4EPe",
   "metadata": {
    "colab": {
     "base_uri": "https://localhost:8080/"
    },
    "id": "72Ur2GDx4EPe",
    "outputId": "39f06348-97b8-4991-9580-fbd50f776849"
   },
   "outputs": [
    {
     "name": "stdout",
     "output_type": "stream",
     "text": [
      "Epoch 1/10\n",
      "9312/9312 [==============================] - 31s 3ms/step - loss: 0.2584 - accuracy: 0.9282 - val_loss: 0.1319 - val_accuracy: 0.9628\n",
      "Epoch 2/10\n",
      "9312/9312 [==============================] - 31s 3ms/step - loss: 0.1159 - accuracy: 0.9670 - val_loss: 0.0973 - val_accuracy: 0.9717\n",
      "Epoch 3/10\n",
      "9312/9312 [==============================] - 31s 3ms/step - loss: 0.0878 - accuracy: 0.9743 - val_loss: 0.0904 - val_accuracy: 0.9739\n",
      "Epoch 4/10\n",
      "9312/9312 [==============================] - 31s 3ms/step - loss: 0.0718 - accuracy: 0.9788 - val_loss: 0.0954 - val_accuracy: 0.9721\n",
      "Epoch 5/10\n",
      "9312/9312 [==============================] - 30s 3ms/step - loss: 0.0624 - accuracy: 0.9811 - val_loss: 0.0768 - val_accuracy: 0.9784\n",
      "Epoch 6/10\n",
      "9312/9312 [==============================] - 30s 3ms/step - loss: 0.0535 - accuracy: 0.9837 - val_loss: 0.0831 - val_accuracy: 0.9773\n",
      "Epoch 7/10\n",
      "9312/9312 [==============================] - 31s 3ms/step - loss: 0.0475 - accuracy: 0.9855 - val_loss: 0.0687 - val_accuracy: 0.9816\n",
      "Epoch 8/10\n",
      "9312/9312 [==============================] - 33s 4ms/step - loss: 0.0442 - accuracy: 0.9863 - val_loss: 0.0592 - val_accuracy: 0.9839\n",
      "Epoch 9/10\n",
      "9312/9312 [==============================] - 34s 4ms/step - loss: 0.0416 - accuracy: 0.9870 - val_loss: 0.0725 - val_accuracy: 0.9808\n",
      "Epoch 10/10\n",
      "9312/9312 [==============================] - 32s 3ms/step - loss: 0.0395 - accuracy: 0.9875 - val_loss: 0.0778 - val_accuracy: 0.9795\n"
     ]
    }
   ],
   "source": [
    "del input\n",
    "del output\n",
    "del model\n",
    "del log\n",
    "gc.collect()\n",
    "\n",
    "input = keras.layers.Input(shape=(784))\n",
    "output = keras.layers.Flatten()(input)\n",
    "output = keras.layers.Dense(1024, activation='LeakyReLU')(output)\n",
    "output = keras.layers.Dense(512, activation='LeakyReLU')(output)\n",
    "output = keras.layers.Dense(26, activation='softmax')(output)\n",
    "model = keras.models.Model(inputs=input, outputs=output)\n",
    "model.compile(optimizer=optimizers.SGD(learning_rate=0.01, momentum=0.9), loss='categorical_crossentropy', metrics=['accuracy'])\n",
    "\n",
    "log = model.fit(X_train, Y_train, validation_data=(X_test, Y_test) , epochs = 10, batch_size=32)"
   ]
  },
  {
   "cell_type": "code",
   "execution_count": null,
   "id": "mR1kI7qx4GCd",
   "metadata": {
    "colab": {
     "base_uri": "https://localhost:8080/",
     "height": 1000
    },
    "id": "mR1kI7qx4GCd",
    "outputId": "2b70abaf-de56-45fe-8fb7-e087a575fba8"
   },
   "outputs": [
    {
     "data": {
      "image/png": "[encoded data removed]",
      "text/plain": [
       "<Figure size 432x288 with 1 Axes>"
      ]
     },
     "metadata": {
      "needs_background": "light"
     },
     "output_type": "display_data"
    },
    {
     "data": {
      "image/png": "[encoded data removed]",
      "text/plain": [
       "<Figure size 432x288 with 1 Axes>"
      ]
     },
     "metadata": {
      "needs_background": "light"
     },
     "output_type": "display_data"
    },
    {
     "name": "stdout",
     "output_type": "stream",
     "text": [
      "-----------------------------------------------------------------------\n",
      "9312/9312 [==============================] - 14s 1ms/step\n",
      "2328/2328 [==============================] - 3s 1ms/step\n",
      "\n",
      "Train classification report:\n",
      "              precision    recall  f1-score   support\n",
      "\n",
      "           0       1.00      0.98      0.99     11282\n",
      "           1       0.99      0.98      0.99      7029\n",
      "           2       0.97      1.00      0.98     18182\n",
      "           3       0.97      0.96      0.97      8168\n",
      "           4       0.98      0.99      0.99      9179\n",
      "           5       0.99      0.93      0.96       989\n",
      "           6       0.96      0.99      0.98      4434\n",
      "           7       0.86      1.00      0.92      4945\n",
      "           8       0.96      1.00      0.98       849\n",
      "           9       0.98      0.98      0.98      6855\n",
      "          10       0.95      0.98      0.97      4321\n",
      "          11       0.99      0.99      0.99      9262\n",
      "          12       0.99      0.99      0.99      9842\n",
      "          13       0.99      0.98      0.98     15406\n",
      "          14       0.99      0.99      0.99     46304\n",
      "          15       0.99      0.99      0.99     15482\n",
      "          16       0.99      0.97      0.98      4748\n",
      "          17       0.99      0.99      0.99      9314\n",
      "          18       1.00      0.99      1.00     38990\n",
      "          19       0.99      0.99      0.99     17988\n",
      "          20       0.99      1.00      0.99     22985\n",
      "          21       1.00      0.98      0.99      3415\n",
      "          22       1.00      0.95      0.97      9030\n",
      "          23       1.00      0.95      0.97      5259\n",
      "          24       0.99      0.97      0.98      8826\n",
      "          25       0.99      0.99      0.99      4876\n",
      "\n",
      "    accuracy                           0.99    297960\n",
      "   macro avg       0.98      0.98      0.98    297960\n",
      "weighted avg       0.99      0.99      0.99    297960\n",
      "\n",
      "\n",
      "Test classification report:\n",
      "              precision    recall  f1-score   support\n",
      "\n",
      "           0       0.99      0.97      0.98      2870\n",
      "           1       0.98      0.97      0.98      1695\n",
      "           2       0.97      0.99      0.98      4611\n",
      "           3       0.97      0.95      0.96      2075\n",
      "           4       0.97      0.99      0.98      2163\n",
      "           5       0.97      0.94      0.95       237\n",
      "           6       0.94      0.98      0.96      1137\n",
      "           7       0.84      1.00      0.91      1230\n",
      "           8       0.94      1.00      0.97       223\n",
      "           9       0.97      0.96      0.97      1676\n",
      "          10       0.93      0.95      0.94      1108\n",
      "          11       0.99      0.99      0.99      2313\n",
      "          12       0.98      0.99      0.99      2461\n",
      "          13       0.98      0.97      0.97      3795\n",
      "          14       0.99      0.99      0.99     11662\n",
      "          15       0.99      0.99      0.99      3868\n",
      "          16       0.98      0.95      0.96      1193\n",
      "          17       0.98      0.98      0.98      2297\n",
      "          18       0.99      0.99      0.99      9594\n",
      "          19       0.99      0.99      0.99      4447\n",
      "          20       0.99      0.99      0.99      5823\n",
      "          21       1.00      0.97      0.98       850\n",
      "          22       0.99      0.93      0.96      2330\n",
      "          23       0.99      0.93      0.96      1352\n",
      "          24       0.98      0.96      0.97      2247\n",
      "          25       0.98      0.98      0.98      1233\n",
      "\n",
      "    accuracy                           0.98     74490\n",
      "   macro avg       0.97      0.97      0.97     74490\n",
      "weighted avg       0.98      0.98      0.98     74490\n",
      "\n"
     ]
    }
   ],
   "source": [
    "model_predict_info()"
   ]
  },
  {
   "cell_type": "markdown",
   "id": "ZQtWFBGM4Uda",
   "metadata": {
    "id": "ZQtWFBGM4Uda"
   },
   "source": [
    "Based on the result, using 0.9 for momentum does not have any positive effect and the rate of the changing in loss has been decreased."
   ]
  },
  {
   "cell_type": "markdown",
   "id": "wBZJw2Mc4VLl",
   "metadata": {
    "id": "wBZJw2Mc4VLl"
   },
   "source": [
    "##### Momentum = 0.98"
   ]
  },
  {
   "cell_type": "code",
   "execution_count": 21,
   "id": "YM7hz26P4Zei",
   "metadata": {
    "colab": {
     "base_uri": "https://localhost:8080/"
    },
    "id": "YM7hz26P4Zei",
    "outputId": "5d455321-4dac-4470-c728-51dd8561c7b7"
   },
   "outputs": [
    {
     "name": "stdout",
     "output_type": "stream",
     "text": [
      "Epoch 1/10\n",
      "9312/9312 [==============================] - 33s 4ms/step - loss: 0.5604 - accuracy: 0.8550 - val_loss: 0.5183 - val_accuracy: 0.8849\n",
      "Epoch 2/10\n",
      "9312/9312 [==============================] - 31s 3ms/step - loss: 0.6281 - accuracy: 0.8655 - val_loss: 0.7349 - val_accuracy: 0.8689\n",
      "Epoch 3/10\n",
      "9312/9312 [==============================] - 30s 3ms/step - loss: 0.8035 - accuracy: 0.8551 - val_loss: 0.9625 - val_accuracy: 0.8382\n",
      "Epoch 4/10\n",
      "9312/9312 [==============================] - 30s 3ms/step - loss: nan - accuracy: 0.5762 - val_loss: nan - val_accuracy: 0.0377\n",
      "Epoch 5/10\n",
      "9312/9312 [==============================] - 29s 3ms/step - loss: nan - accuracy: 0.0371 - val_loss: nan - val_accuracy: 0.0377\n",
      "Epoch 6/10\n",
      "9312/9312 [==============================] - 30s 3ms/step - loss: nan - accuracy: 0.0371 - val_loss: nan - val_accuracy: 0.0377\n",
      "Epoch 7/10\n",
      "9312/9312 [==============================] - 30s 3ms/step - loss: nan - accuracy: 0.0371 - val_loss: nan - val_accuracy: 0.0377\n",
      "Epoch 8/10\n",
      "9312/9312 [==============================] - 30s 3ms/step - loss: nan - accuracy: 0.0371 - val_loss: nan - val_accuracy: 0.0377\n",
      "Epoch 9/10\n",
      "9312/9312 [==============================] - 30s 3ms/step - loss: nan - accuracy: 0.0371 - val_loss: nan - val_accuracy: 0.0377\n",
      "Epoch 10/10\n",
      "9312/9312 [==============================] - 29s 3ms/step - loss: nan - accuracy: 0.0371 - val_loss: nan - val_accuracy: 0.0377\n"
     ]
    }
   ],
   "source": [
    "del input\n",
    "del output\n",
    "del model\n",
    "del log\n",
    "gc.collect()\n",
    "\n",
    "input = keras.layers.Input(shape=(784))\n",
    "output = keras.layers.Flatten()(input)\n",
    "output = keras.layers.Dense(64, activation='LeakyReLU')(output)\n",
    "output = keras.layers.Dense(32, activation='LeakyReLU')(output)\n",
    "output = keras.layers.Dense(26, activation='softmax')(output)\n",
    "model = keras.models.Model(inputs=input, outputs=output)\n",
    "model.compile(optimizer=optimizers.SGD(learning_rate=0.01, momentum=0.98), loss='categorical_crossentropy', metrics=['accuracy'])\n",
    "\n",
    "log = model.fit(X_train, Y_train, validation_data=(X_test, Y_test) , epochs = 10, batch_size=32)"
   ]
  },
  {
   "cell_type": "code",
   "execution_count": 22,
   "id": "Vcd0QcdW4bSW",
   "metadata": {
    "colab": {
     "base_uri": "https://localhost:8080/",
     "height": 1000
    },
    "id": "Vcd0QcdW4bSW",
    "outputId": "42e656c4-a141-4c0b-f177-c1a06f52a798"
   },
   "outputs": [
    {
     "data": {
      "image/png": "[encoded data removed]",
      "text/plain": [
       "<Figure size 432x288 with 1 Axes>"
      ]
     },
     "metadata": {
      "needs_background": "light"
     },
     "output_type": "display_data"
    },
    {
     "data": {
      "image/png": "[encoded data removed]",
      "text/plain": [
       "<Figure size 432x288 with 1 Axes>"
      ]
     },
     "metadata": {
      "needs_background": "light"
     },
     "output_type": "display_data"
    },
    {
     "name": "stdout",
     "output_type": "stream",
     "text": [
      "-----------------------------------------------------------------------\n",
      "9312/9312 [==============================] - 13s 1ms/step\n",
      "2328/2328 [==============================] - 3s 1ms/step\n",
      "\n",
      "Train classification report:\n"
     ]
    },
    {
     "name": "stderr",
     "output_type": "stream",
     "text": [
      "/usr/local/lib/python3.7/dist-packages/sklearn/metrics/_classification.py:1318: UndefinedMetricWarning: Recall and F-score are ill-defined and being set to 0.0 in labels with no true samples. Use `zero_division` parameter to control this behavior.\n",
      "  _warn_prf(average, modifier, msg_start, len(result))\n",
      "/usr/local/lib/python3.7/dist-packages/sklearn/metrics/_classification.py:1318: UndefinedMetricWarning: Recall and F-score are ill-defined and being set to 0.0 in labels with no true samples. Use `zero_division` parameter to control this behavior.\n",
      "  _warn_prf(average, modifier, msg_start, len(result))\n",
      "/usr/local/lib/python3.7/dist-packages/sklearn/metrics/_classification.py:1318: UndefinedMetricWarning: Recall and F-score are ill-defined and being set to 0.0 in labels with no true samples. Use `zero_division` parameter to control this behavior.\n",
      "  _warn_prf(average, modifier, msg_start, len(result))\n",
      "/usr/local/lib/python3.7/dist-packages/sklearn/metrics/_classification.py:1318: UndefinedMetricWarning: Recall and F-score are ill-defined and being set to 0.0 in labels with no true samples. Use `zero_division` parameter to control this behavior.\n",
      "  _warn_prf(average, modifier, msg_start, len(result))\n"
     ]
    },
    {
     "name": "stdout",
     "output_type": "stream",
     "text": [
      "              precision    recall  f1-score   support\n",
      "\n",
      "           0       1.00      0.04      0.07    297960\n",
      "           1       0.00      0.00      0.00         0\n",
      "           2       0.00      0.00      0.00         0\n",
      "           3       0.00      0.00      0.00         0\n",
      "           4       0.00      0.00      0.00         0\n",
      "           5       0.00      0.00      0.00         0\n",
      "           6       0.00      0.00      0.00         0\n",
      "           7       0.00      0.00      0.00         0\n",
      "           8       0.00      0.00      0.00         0\n",
      "           9       0.00      0.00      0.00         0\n",
      "          10       0.00      0.00      0.00         0\n",
      "          11       0.00      0.00      0.00         0\n",
      "          12       0.00      0.00      0.00         0\n",
      "          13       0.00      0.00      0.00         0\n",
      "          14       0.00      0.00      0.00         0\n",
      "          15       0.00      0.00      0.00         0\n",
      "          16       0.00      0.00      0.00         0\n",
      "          17       0.00      0.00      0.00         0\n",
      "          18       0.00      0.00      0.00         0\n",
      "          19       0.00      0.00      0.00         0\n",
      "          20       0.00      0.00      0.00         0\n",
      "          21       0.00      0.00      0.00         0\n",
      "          22       0.00      0.00      0.00         0\n",
      "          23       0.00      0.00      0.00         0\n",
      "          24       0.00      0.00      0.00         0\n",
      "          25       0.00      0.00      0.00         0\n",
      "\n",
      "    accuracy                           0.04    297960\n",
      "   macro avg       0.04      0.00      0.00    297960\n",
      "weighted avg       1.00      0.04      0.07    297960\n",
      "\n",
      "\n",
      "Test classification report:\n",
      "              precision    recall  f1-score   support\n",
      "\n",
      "           0       1.00      0.04      0.07     74490\n",
      "           1       0.00      0.00      0.00         0\n",
      "           2       0.00      0.00      0.00         0\n",
      "           3       0.00      0.00      0.00         0\n",
      "           4       0.00      0.00      0.00         0\n",
      "           5       0.00      0.00      0.00         0\n",
      "           6       0.00      0.00      0.00         0\n",
      "           7       0.00      0.00      0.00         0\n",
      "           8       0.00      0.00      0.00         0\n",
      "           9       0.00      0.00      0.00         0\n",
      "          10       0.00      0.00      0.00         0\n",
      "          11       0.00      0.00      0.00         0\n",
      "          12       0.00      0.00      0.00         0\n",
      "          13       0.00      0.00      0.00         0\n",
      "          14       0.00      0.00      0.00         0\n",
      "          15       0.00      0.00      0.00         0\n",
      "          16       0.00      0.00      0.00         0\n",
      "          17       0.00      0.00      0.00         0\n",
      "          18       0.00      0.00      0.00         0\n",
      "          19       0.00      0.00      0.00         0\n",
      "          20       0.00      0.00      0.00         0\n",
      "          21       0.00      0.00      0.00         0\n",
      "          22       0.00      0.00      0.00         0\n",
      "          23       0.00      0.00      0.00         0\n",
      "          24       0.00      0.00      0.00         0\n",
      "          25       0.00      0.00      0.00         0\n",
      "\n",
      "    accuracy                           0.04     74490\n",
      "   macro avg       0.04      0.00      0.00     74490\n",
      "weighted avg       1.00      0.04      0.07     74490\n",
      "\n"
     ]
    },
    {
     "name": "stderr",
     "output_type": "stream",
     "text": [
      "/usr/local/lib/python3.7/dist-packages/sklearn/metrics/_classification.py:1318: UndefinedMetricWarning: Recall and F-score are ill-defined and being set to 0.0 in labels with no true samples. Use `zero_division` parameter to control this behavior.\n",
      "  _warn_prf(average, modifier, msg_start, len(result))\n",
      "/usr/local/lib/python3.7/dist-packages/sklearn/metrics/_classification.py:1318: UndefinedMetricWarning: Recall and F-score are ill-defined and being set to 0.0 in labels with no true samples. Use `zero_division` parameter to control this behavior.\n",
      "  _warn_prf(average, modifier, msg_start, len(result))\n"
     ]
    }
   ],
   "source": [
    "model_predict_info()"
   ]
  },
  {
   "cell_type": "markdown",
   "id": "RmBpayAF4aB5",
   "metadata": {
    "id": "RmBpayAF4aB5"
   },
   "source": [
    "Base on the result, the weights in this model are not updating in a correct direction and it seems that this model will not reach to an optimal solution.\n",
    "\n",
    "As we can observer in the previous outputs, When momentum gets high It misses the optimal values.\n",
    "For example from the physics prespective when a ball gets down the hill with lots of acceleration it misses the point.\n",
    "Really low momentum values are prone to not learning and getting stuck in the local minima."
   ]
  },
  {
   "cell_type": "markdown",
   "id": "CvWaODOqzaI6",
   "metadata": {
    "id": "CvWaODOqzaI6"
   },
   "source": [
    "#### Questions 3: Large momentum\n",
    "As shown here increasing momentum rapidly doesn't always help the model work better. With a reasonably higher momentum the predictions become more stable but with really high momentums the model will became stable for just one class and will predict all the data in that class so this means that higher momentum is good but too high and it'll cause problems.\n",
    "\n",
    "As the momentum increases, the speed of our movement towards the answer increases in such a way that it becomes difficult to reach the answer meaning that if for example momentum is too high we'll overshoot the answer each time and never reach it. It's better to move slower as we get closer to the answer. Higher momentum will make the model almost random and also in each propagation the weights will change more rapidly which isn't what we want.\n",
    "\n",
    "With momentum we have to hit the sweet spot, not too high to overshoot not too low to be very slow, we have to tune it as much as possible. \n",
    "\n",
    "Momentum or SGD with momentum is a method which helps us to accelerate gradient In fact, momentum makes each step of the learning process dependent on its previous. If we set momentum and learning rate to large values, we will have bigger steps, and based on the dependency that we mentioned above, the next steps will be larger and larger. As a result, weights won't be updated in a correct way, and they will never reach optimal values. Therefore, large momentum does not necessarily lead to higher accuracies.\n",
    "\n",
    "Choosing a really high value for the momentum term is not always a good choice, because it may miss the minimum.\n",
    "Maybe one good choice is to start with little momentum values and then gradually add to the momentum value.\n",
    "\n"
   ]
  },
  {
   "cell_type": "markdown",
   "id": "ISigSq71zaZt",
   "metadata": {
    "id": "ISigSq71zaZt"
   },
   "source": [
    "#### Questions 4: Adam Optimizer\n",
    "Adam is an optimization algorithm that can be used instead of the classical stochastic gradient descent procedure to update network weights iterative based in training data and more efficiently.\n",
    "adam has so many effective features:\n",
    "\n",
    "* Straightforward to implement\n",
    "* Computationally efficient\n",
    "* Little memory requirements\n",
    "* Appropriate for problems with very noisy and/or sparse gradients\n",
    "* ..."
   ]
  },
  {
   "cell_type": "code",
   "execution_count": null,
   "id": "rH1fR9qH5znv",
   "metadata": {
    "colab": {
     "base_uri": "https://localhost:8080/"
    },
    "id": "rH1fR9qH5znv",
    "outputId": "cfad9ba1-cddc-490d-b22f-f8cd6f1206d9"
   },
   "outputs": [
    {
     "name": "stdout",
     "output_type": "stream",
     "text": [
      "Epoch 1/10\n",
      "9312/9312 [==============================] - 33s 4ms/step - loss: 0.2896 - accuracy: 0.9206 - val_loss: 0.2114 - val_accuracy: 0.9451\n",
      "Epoch 2/10\n",
      "9312/9312 [==============================] - 33s 4ms/step - loss: 0.1885 - accuracy: 0.9506 - val_loss: 0.1474 - val_accuracy: 0.9625\n",
      "Epoch 3/10\n",
      "9312/9312 [==============================] - 33s 4ms/step - loss: 0.1630 - accuracy: 0.9581 - val_loss: 0.1562 - val_accuracy: 0.9632\n",
      "Epoch 4/10\n",
      "9312/9312 [==============================] - 31s 3ms/step - loss: 0.1498 - accuracy: 0.9624 - val_loss: 0.1522 - val_accuracy: 0.9656\n",
      "Epoch 5/10\n",
      "9312/9312 [==============================] - 31s 3ms/step - loss: 0.1428 - accuracy: 0.9653 - val_loss: 0.1792 - val_accuracy: 0.9613\n",
      "Epoch 6/10\n",
      "9312/9312 [==============================] - 32s 3ms/step - loss: 0.1381 - accuracy: 0.9673 - val_loss: 0.1624 - val_accuracy: 0.9649\n",
      "Epoch 7/10\n",
      "9312/9312 [==============================] - 33s 4ms/step - loss: 0.1362 - accuracy: 0.9688 - val_loss: 0.1648 - val_accuracy: 0.9654\n",
      "Epoch 8/10\n",
      "9312/9312 [==============================] - 31s 3ms/step - loss: 0.1310 - accuracy: 0.9706 - val_loss: 0.1575 - val_accuracy: 0.9712\n",
      "Epoch 9/10\n",
      "9312/9312 [==============================] - 31s 3ms/step - loss: 0.1319 - accuracy: 0.9719 - val_loss: 0.1639 - val_accuracy: 0.9686\n",
      "Epoch 10/10\n",
      "9312/9312 [==============================] - 31s 3ms/step - loss: 0.1308 - accuracy: 0.9729 - val_loss: 0.1541 - val_accuracy: 0.9715\n"
     ]
    }
   ],
   "source": [
    "del input\n",
    "del output\n",
    "del model\n",
    "del log\n",
    "gc.collect()\n",
    "\n",
    "input = keras.layers.Input(shape=(784))\n",
    "output = keras.layers.Flatten()(input)\n",
    "output = keras.layers.Dense(1024, activation='LeakyReLU')(output)\n",
    "output = keras.layers.Dense(512, activation='LeakyReLU')(output)\n",
    "output = keras.layers.Dense(26, activation='softmax')(output)\n",
    "model = keras.models.Model(inputs=input, outputs=output)\n",
    "model.compile(optimizer=optimizers.Adam(learning_rate=0.001), loss='categorical_crossentropy', metrics=['accuracy'])\n",
    "\n",
    "log = model.fit(X_train, Y_train, validation_data=(X_test, Y_test) , epochs = 10, batch_size=32)"
   ]
  },
  {
   "cell_type": "code",
   "execution_count": null,
   "id": "gHf-XhHI6Eee",
   "metadata": {
    "colab": {
     "base_uri": "https://localhost:8080/",
     "height": 1000
    },
    "id": "gHf-XhHI6Eee",
    "outputId": "5ab29bd1-8cb8-44b6-9d4e-136927575cd7"
   },
   "outputs": [
    {
     "data": {
      "image/png": "[encoded data removed]",
      "text/plain": [
       "<Figure size 432x288 with 1 Axes>"
      ]
     },
     "metadata": {
      "needs_background": "light"
     },
     "output_type": "display_data"
    },
    {
     "data": {
      "image/png": "[encoded data removed]",
      "text/plain": [
       "<Figure size 432x288 with 1 Axes>"
      ]
     },
     "metadata": {
      "needs_background": "light"
     },
     "output_type": "display_data"
    },
    {
     "name": "stdout",
     "output_type": "stream",
     "text": [
      "-----------------------------------------------------------------------\n",
      "9312/9312 [==============================] - 14s 1ms/step\n",
      "2328/2328 [==============================] - 3s 1ms/step\n",
      "\n",
      "Train classification report:\n",
      "              precision    recall  f1-score   support\n",
      "\n",
      "           0       0.96      0.98      0.97     10859\n",
      "           1       0.96      0.97      0.97      6954\n",
      "           2       0.99      0.98      0.98     18763\n",
      "           3       0.91      0.96      0.93      7654\n",
      "           4       0.98      0.96      0.97      9485\n",
      "           5       0.93      0.99      0.96       875\n",
      "           6       0.92      0.99      0.95      4284\n",
      "           7       0.96      0.93      0.95      5931\n",
      "           8       0.91      0.97      0.94       827\n",
      "           9       0.97      0.95      0.96      6969\n",
      "          10       0.93      0.98      0.95      4244\n",
      "          11       0.97      0.99      0.98      9068\n",
      "          12       0.96      0.99      0.98      9554\n",
      "          13       0.97      0.97      0.97     15260\n",
      "          14       0.99      0.98      0.99     46995\n",
      "          15       0.98      0.99      0.99     15232\n",
      "          16       0.97      0.96      0.97      4706\n",
      "          17       0.94      0.99      0.97      8790\n",
      "          18       1.00      0.99      0.99     39179\n",
      "          19       1.00      0.99      0.99     18239\n",
      "          20       0.98      0.98      0.98     23139\n",
      "          21       0.98      0.99      0.98      3316\n",
      "          22       0.98      0.97      0.98      8621\n",
      "          23       0.97      0.94      0.96      5154\n",
      "          24       0.99      0.94      0.96      9147\n",
      "          25       0.97      0.99      0.98      4715\n",
      "\n",
      "    accuracy                           0.98    297960\n",
      "   macro avg       0.96      0.97      0.97    297960\n",
      "weighted avg       0.98      0.98      0.98    297960\n",
      "\n",
      "\n",
      "Test classification report:\n",
      "              precision    recall  f1-score   support\n",
      "\n",
      "           0       0.95      0.98      0.96      2736\n",
      "           1       0.95      0.95      0.95      1669\n",
      "           2       0.98      0.98      0.98      4780\n",
      "           3       0.90      0.95      0.93      1945\n",
      "           4       0.97      0.95      0.96      2275\n",
      "           5       0.88      0.99      0.93       206\n",
      "           6       0.90      0.98      0.94      1087\n",
      "           7       0.96      0.91      0.93      1547\n",
      "           8       0.90      0.96      0.93       221\n",
      "           9       0.96      0.93      0.94      1723\n",
      "          10       0.91      0.96      0.94      1075\n",
      "          11       0.96      0.99      0.98      2248\n",
      "          12       0.96      0.99      0.97      2417\n",
      "          13       0.97      0.97      0.97      3747\n",
      "          14       0.99      0.98      0.99     11809\n",
      "          15       0.98      0.99      0.98      3811\n",
      "          16       0.96      0.95      0.95      1175\n",
      "          17       0.93      0.98      0.96      2165\n",
      "          18       0.99      0.98      0.99      9620\n",
      "          19       0.99      0.98      0.99      4514\n",
      "          20       0.98      0.98      0.98      5858\n",
      "          21       0.98      0.98      0.98       825\n",
      "          22       0.96      0.96      0.96      2197\n",
      "          23       0.96      0.93      0.95      1319\n",
      "          24       0.98      0.93      0.96      2326\n",
      "          25       0.96      0.98      0.97      1195\n",
      "\n",
      "    accuracy                           0.97     74490\n",
      "   macro avg       0.96      0.97      0.96     74490\n",
      "weighted avg       0.97      0.97      0.97     74490\n",
      "\n"
     ]
    }
   ],
   "source": [
    "model_predict_info()"
   ]
  },
  {
   "cell_type": "markdown",
   "id": "JVV3YY5I5z_l",
   "metadata": {
    "id": "JVV3YY5I5z_l"
   },
   "source": [
    "Based on the result, Adam is much faster than SGD and the model converges in earlier epochs in comparison to SGD. Moreover, it works fine with default hyperparmeters.  But as we can see Adam has convergence problems that often SGD + momentum can converge better with longer training time."
   ]
  },
  {
   "cell_type": "markdown",
   "id": "ZEqrp1jk7Daj",
   "metadata": {
    "id": "ZEqrp1jk7Daj"
   },
   "source": [
    "### Part II: Epochs"
   ]
  },
  {
   "cell_type": "markdown",
   "id": "3tAJJMRY7WX8",
   "metadata": {
    "id": "3tAJJMRY7WX8"
   },
   "source": [
    "#### Epochs = 20"
   ]
  },
  {
   "cell_type": "code",
   "execution_count": 23,
   "id": "-t3rM_wv7dpI",
   "metadata": {
    "colab": {
     "base_uri": "https://localhost:8080/"
    },
    "id": "-t3rM_wv7dpI",
    "outputId": "3e86f5cd-55fc-4e46-c044-a41a45056816"
   },
   "outputs": [
    {
     "name": "stdout",
     "output_type": "stream",
     "text": [
      "Epoch 1/20\n",
      "9312/9312 [==============================] - 34s 4ms/step - loss: 0.2923 - accuracy: 0.9199 - val_loss: 0.2156 - val_accuracy: 0.9395\n",
      "Epoch 2/20\n",
      "9312/9312 [==============================] - 33s 4ms/step - loss: 0.1880 - accuracy: 0.9511 - val_loss: 0.1955 - val_accuracy: 0.9522\n",
      "Epoch 3/20\n",
      "9312/9312 [==============================] - 33s 4ms/step - loss: 0.1626 - accuracy: 0.9582 - val_loss: 0.1614 - val_accuracy: 0.9596\n",
      "Epoch 4/20\n",
      "9312/9312 [==============================] - 32s 3ms/step - loss: 0.1480 - accuracy: 0.9627 - val_loss: 0.1547 - val_accuracy: 0.9614\n",
      "Epoch 5/20\n",
      "9312/9312 [==============================] - 33s 4ms/step - loss: 0.1402 - accuracy: 0.9656 - val_loss: 0.1491 - val_accuracy: 0.9673\n",
      "Epoch 6/20\n",
      "9312/9312 [==============================] - 33s 4ms/step - loss: 0.1338 - accuracy: 0.9680 - val_loss: 0.1644 - val_accuracy: 0.9637\n",
      "Epoch 7/20\n",
      "9312/9312 [==============================] - 32s 3ms/step - loss: 0.1326 - accuracy: 0.9693 - val_loss: 0.1507 - val_accuracy: 0.9689\n",
      "Epoch 8/20\n",
      "9312/9312 [==============================] - 32s 3ms/step - loss: 0.1308 - accuracy: 0.9708 - val_loss: 0.1800 - val_accuracy: 0.9647\n",
      "Epoch 9/20\n",
      "9312/9312 [==============================] - 33s 4ms/step - loss: 0.1278 - accuracy: 0.9720 - val_loss: 0.2059 - val_accuracy: 0.9614\n",
      "Epoch 10/20\n",
      "9312/9312 [==============================] - 32s 3ms/step - loss: 0.1272 - accuracy: 0.9733 - val_loss: 0.1676 - val_accuracy: 0.9703\n",
      "Epoch 11/20\n",
      "9312/9312 [==============================] - 32s 3ms/step - loss: 0.1262 - accuracy: 0.9741 - val_loss: 0.1747 - val_accuracy: 0.9690\n",
      "Epoch 12/20\n",
      "9312/9312 [==============================] - 32s 3ms/step - loss: 0.1271 - accuracy: 0.9750 - val_loss: 0.1898 - val_accuracy: 0.9685\n",
      "Epoch 13/20\n",
      "9312/9312 [==============================] - 32s 3ms/step - loss: 0.1287 - accuracy: 0.9758 - val_loss: 0.1949 - val_accuracy: 0.9714\n",
      "Epoch 14/20\n",
      "9312/9312 [==============================] - 33s 4ms/step - loss: 0.1280 - accuracy: 0.9767 - val_loss: 0.1664 - val_accuracy: 0.9750\n",
      "Epoch 15/20\n",
      "9312/9312 [==============================] - 33s 4ms/step - loss: 0.1283 - accuracy: 0.9771 - val_loss: 0.2114 - val_accuracy: 0.9694\n",
      "Epoch 16/20\n",
      "9312/9312 [==============================] - 33s 4ms/step - loss: 0.1305 - accuracy: 0.9779 - val_loss: 0.1698 - val_accuracy: 0.9755\n",
      "Epoch 17/20\n",
      "9312/9312 [==============================] - 32s 3ms/step - loss: 0.1292 - accuracy: 0.9788 - val_loss: 0.2061 - val_accuracy: 0.9735\n",
      "Epoch 18/20\n",
      "9312/9312 [==============================] - 33s 4ms/step - loss: 0.1311 - accuracy: 0.9793 - val_loss: 0.1998 - val_accuracy: 0.9758\n",
      "Epoch 19/20\n",
      "9312/9312 [==============================] - 32s 3ms/step - loss: 0.1323 - accuracy: 0.9797 - val_loss: 0.2073 - val_accuracy: 0.9745\n",
      "Epoch 20/20\n",
      "9312/9312 [==============================] - 32s 3ms/step - loss: 0.1321 - accuracy: 0.9802 - val_loss: 0.2517 - val_accuracy: 0.9725\n"
     ]
    }
   ],
   "source": [
    "del input\n",
    "del output\n",
    "del model\n",
    "del log\n",
    "gc.collect()\n",
    "\n",
    "input = keras.layers.Input(shape=(784))\n",
    "output = keras.layers.Flatten()(input)\n",
    "output = keras.layers.Dense(1024, activation='LeakyReLU')(output)\n",
    "output = keras.layers.Dense(512, activation='LeakyReLU')(output)\n",
    "output = keras.layers.Dense(26, activation='softmax')(output)\n",
    "model = keras.models.Model(inputs=input, outputs=output)\n",
    "model.compile(optimizer=optimizers.Adam(learning_rate=0.001), loss='categorical_crossentropy', metrics=['accuracy'])\n",
    "\n",
    "log = model.fit(X_train, Y_train, validation_data=(X_test, Y_test) , epochs = 20, batch_size=32)"
   ]
  },
  {
   "cell_type": "code",
   "execution_count": 24,
   "id": "YbuvlcxC7aqK",
   "metadata": {
    "colab": {
     "base_uri": "https://localhost:8080/",
     "height": 1000
    },
    "id": "YbuvlcxC7aqK",
    "outputId": "86e5748f-f4e8-47ec-e0b2-0edf101be04e"
   },
   "outputs": [
    {
     "data": {
      "image/png": "[encoded data removed]",
      "text/plain": [
       "<Figure size 432x288 with 1 Axes>"
      ]
     },
     "metadata": {
      "needs_background": "light"
     },
     "output_type": "display_data"
    },
    {
     "data": {
      "image/png": "[encoded data removed]",
      "text/plain": [
       "<Figure size 432x288 with 1 Axes>"
      ]
     },
     "metadata": {
      "needs_background": "light"
     },
     "output_type": "display_data"
    },
    {
     "name": "stdout",
     "output_type": "stream",
     "text": [
      "-----------------------------------------------------------------------\n",
      "9312/9312 [==============================] - 14s 1ms/step\n",
      "2328/2328 [==============================] - 3s 1ms/step\n",
      "\n",
      "Train classification report:\n",
      "              precision    recall  f1-score   support\n",
      "\n",
      "           0       0.99      0.97      0.98     11365\n",
      "           1       0.87      1.00      0.93      6093\n",
      "           2       0.99      0.98      0.98     18873\n",
      "           3       0.94      0.97      0.95      7788\n",
      "           4       0.98      0.99      0.99      9182\n",
      "           5       0.99      0.87      0.92      1063\n",
      "           6       0.98      0.86      0.92      5248\n",
      "           7       0.99      0.92      0.95      6152\n",
      "           8       0.98      0.98      0.98       879\n",
      "           9       0.97      0.97      0.97      6800\n",
      "          10       0.97      0.98      0.97      4460\n",
      "          11       0.99      0.99      0.99      9273\n",
      "          12       0.98      0.98      0.98      9887\n",
      "          13       0.95      1.00      0.97     14555\n",
      "          14       0.98      0.99      0.99     45973\n",
      "          15       0.96      1.00      0.98     14989\n",
      "          16       0.98      0.92      0.95      4998\n",
      "          17       0.99      0.97      0.98      9429\n",
      "          18       0.99      1.00      1.00     38705\n",
      "          19       0.99      0.98      0.99     18327\n",
      "          20       1.00      0.98      0.99     23525\n",
      "          21       0.94      0.99      0.97      3179\n",
      "          22       0.99      0.95      0.97      8943\n",
      "          23       0.98      0.99      0.98      4920\n",
      "          24       0.96      0.99      0.98      8426\n",
      "          25       0.99      0.98      0.98      4928\n",
      "\n",
      "    accuracy                           0.98    297960\n",
      "   macro avg       0.97      0.97      0.97    297960\n",
      "weighted avg       0.98      0.98      0.98    297960\n",
      "\n",
      "\n",
      "Test classification report:\n",
      "              precision    recall  f1-score   support\n",
      "\n",
      "           0       0.99      0.96      0.97      2884\n",
      "           1       0.85      0.99      0.92      1437\n",
      "           2       0.99      0.98      0.98      4795\n",
      "           3       0.92      0.96      0.94      1961\n",
      "           4       0.97      0.98      0.97      2195\n",
      "           5       0.97      0.85      0.91       263\n",
      "           6       0.97      0.85      0.90      1350\n",
      "           7       0.98      0.89      0.93      1606\n",
      "           8       0.95      0.97      0.96       232\n",
      "           9       0.94      0.97      0.95      1626\n",
      "          10       0.96      0.96      0.96      1132\n",
      "          11       0.98      0.98      0.98      2323\n",
      "          12       0.97      0.97      0.97      2489\n",
      "          13       0.94      0.99      0.96      3564\n",
      "          14       0.98      0.99      0.98     11581\n",
      "          15       0.96      0.99      0.97      3741\n",
      "          16       0.98      0.91      0.94      1246\n",
      "          17       0.97      0.96      0.97      2324\n",
      "          18       0.99      0.99      0.99      9533\n",
      "          19       0.99      0.97      0.98      4569\n",
      "          20       0.99      0.97      0.98      5985\n",
      "          21       0.94      0.99      0.97       784\n",
      "          22       0.98      0.95      0.96      2275\n",
      "          23       0.97      0.98      0.97      1249\n",
      "          24       0.94      0.99      0.97      2100\n",
      "          25       0.98      0.96      0.97      1246\n",
      "\n",
      "    accuracy                           0.97     74490\n",
      "   macro avg       0.96      0.96      0.96     74490\n",
      "weighted avg       0.97      0.97      0.97     74490\n",
      "\n"
     ]
    }
   ],
   "source": [
    "model_predict_info()"
   ]
  },
  {
   "cell_type": "markdown",
   "id": "lzqmCjv_73xj",
   "metadata": {
    "id": "lzqmCjv_73xj"
   },
   "source": [
    "#### Question 1: Why train neural network with multiple epochs\n",
    "In each epoch, weights are updated for several times and the whole data is checked. It is undeniable that we want to get good performance on non-training data and usually that takes more than one pass over the training data. Moreover, it is typical that gradient descent does not reach a global or local minimum after the first epoch. So, training just one epoch can lead to underfitting. As a result, we use multiple epochs.\n",
    "\n",
    "Training a neural network involves optimizing a large set of parameters which are heavily interdependent. Because of this, it can take a lot of labelled training examples before the network even settles into an area of the solution space which is close to the optimal solution. The whole situation is made worse by the stochastic nature of batch gradient descent and the common practice of starting with a large learning rate and slowly lowering it. In short, the optimization algorithm is very data-hungry.\n",
    "\n",
    "The sort of multidimensional data, neural nets require is expensive to label and takes up large amounts of storage space. Thus, even though you need to feed your network lots of data, the amount of samples available is generally much lower than the number of samples you need to reach a useful optimum. There may be enough information in these training samples, but the gradient descent algorithm takes time to extract it. You can make up for the limited number of samples by making multiple passes over the data. This will give the algorithm time to converge, without requiring an impractical amount of data. So in total batch gradient descent requires more iterations to converge than one pass over the data set will allow.\n",
    "\n",
    "It's safe to say that in some special problems 1 epoch can be enough we will get good accuracy and everything but it's importent to note that gradient Descent is an iterative process so updating the weights with single pass or one epoch is not enough. One epoch leads to underfitting. As the number of epochs increases, more times the weights are changed in the neural network so the curve goes from underfitting to optimal to overfitting curve. So in total since updating the weights needs multiple number of passings(epochs) we'll have to train the model for multiple epochs.\n",
    "\n",
    "After a lot of epochs the test accuracy starts to plummet but the train accuracy keeps on rising this is a clear sign of overfitting doing well on training set but doing horrible on test set. Even Loss value we can easily show overfitting, in the training set the loss keeps lowering but in test set loss value rises rapidly. So the best option is to train the model up until the very moment that overfitting starts by this approach we will prevent underfitting and also won't cause overfitting.\n"
   ]
  },
  {
   "cell_type": "markdown",
   "id": "hXw51BCR8azi",
   "metadata": {
    "id": "hXw51BCR8azi"
   },
   "source": [
    "#### Question 2: More epochs\n",
    "If we set the number of epochs to a very large number, it may lead to have and overfitted model, because we train the data for many times and our model will start to model the noises in our data and it is a sign of overfitting and the accuracy of the test data will be reduced.\n",
    "\n",
    "Increasing number of epochs by a lot will definitely result in overfitting so it won't be a good idea. To avoid the problem we have to hit the sweet spot meaning that we know really low number of epochs will result in underfitting and really high number of epochs will result in overfitting so the best possible way is to find where the underfitting stops and overfitting starts that is the best place since it neither has underfitting nor overfitting. That is the best possible epoch to achieve. But if we want to make our model better and overcome overfitting there all a lot of ways to do it and make the situation better like as we saw we can tune our hyperparameters, use different number of nodes in each hidden layer, use different number of hidden layers, study our data and know what approach to make based on the data, use other models and many more."
   ]
  },
  {
   "cell_type": "markdown",
   "id": "fjCn7XqAFksP",
   "metadata": {
    "id": "fjCn7XqAFksP"
   },
   "source": [
    "### Part III: Loss Function"
   ]
  },
  {
   "cell_type": "markdown",
   "id": "foK39sfxFm2y",
   "metadata": {
    "id": "foK39sfxFm2y"
   },
   "source": [
    "#### Question 1: MSE\n",
    "As we can see it works worse in comparison to the categorical cross entropy,\n",
    "And it does not learn well.\n",
    "\n",
    "Using MSE for classification is not a good choice because,\n",
    "It assumes that the data has a guassian distribution and this may not be true.\n",
    "The next reason is that it is not convex and it may get stuck in places and don't catch the global minumum.\n",
    "MSE is more commonly used in Regression problems."
   ]
  },
  {
   "cell_type": "code",
   "execution_count": 25,
   "id": "Jwe32veVF5UY",
   "metadata": {
    "colab": {
     "base_uri": "https://localhost:8080/"
    },
    "id": "Jwe32veVF5UY",
    "outputId": "18e09880-c04d-4b21-d46e-f0e28310bf70"
   },
   "outputs": [
    {
     "name": "stdout",
     "output_type": "stream",
     "text": [
      "Epoch 1/20\n",
      "9312/9312 [==============================] - 33s 3ms/step - loss: 0.0118 - accuracy: 0.8336 - val_loss: 0.0143 - val_accuracy: 0.8114\n",
      "Epoch 2/20\n",
      "9312/9312 [==============================] - 32s 3ms/step - loss: 0.0139 - accuracy: 0.8183 - val_loss: 0.0167 - val_accuracy: 0.7815\n",
      "Epoch 3/20\n",
      "9312/9312 [==============================] - 33s 4ms/step - loss: 0.0152 - accuracy: 0.8013 - val_loss: 0.0130 - val_accuracy: 0.8306\n",
      "Epoch 4/20\n",
      "9312/9312 [==============================] - 34s 4ms/step - loss: 0.0158 - accuracy: 0.7942 - val_loss: 0.0146 - val_accuracy: 0.8100\n",
      "Epoch 5/20\n",
      "9312/9312 [==============================] - 33s 4ms/step - loss: 0.0174 - accuracy: 0.7733 - val_loss: 0.0174 - val_accuracy: 0.7730\n",
      "Epoch 6/20\n",
      "9312/9312 [==============================] - 32s 3ms/step - loss: 0.0169 - accuracy: 0.7807 - val_loss: 0.0170 - val_accuracy: 0.7781\n",
      "Epoch 7/20\n",
      "9312/9312 [==============================] - 32s 3ms/step - loss: 0.0165 - accuracy: 0.7848 - val_loss: 0.0144 - val_accuracy: 0.8124\n",
      "Epoch 8/20\n",
      "9312/9312 [==============================] - 33s 4ms/step - loss: 0.0172 - accuracy: 0.7760 - val_loss: 0.0171 - val_accuracy: 0.7769\n",
      "Epoch 9/20\n",
      "9312/9312 [==============================] - 33s 4ms/step - loss: 0.0168 - accuracy: 0.7810 - val_loss: 0.0149 - val_accuracy: 0.8058\n",
      "Epoch 10/20\n",
      "9312/9312 [==============================] - 33s 4ms/step - loss: 0.0173 - accuracy: 0.7754 - val_loss: 0.0220 - val_accuracy: 0.7140\n",
      "Epoch 11/20\n",
      "9312/9312 [==============================] - 32s 3ms/step - loss: 0.0182 - accuracy: 0.7639 - val_loss: 0.0180 - val_accuracy: 0.7653\n",
      "Epoch 12/20\n",
      "9312/9312 [==============================] - 32s 3ms/step - loss: 0.0196 - accuracy: 0.7453 - val_loss: 0.0277 - val_accuracy: 0.6391\n",
      "Epoch 13/20\n",
      "9312/9312 [==============================] - 34s 4ms/step - loss: 0.0188 - accuracy: 0.7553 - val_loss: 0.0161 - val_accuracy: 0.7909\n",
      "Epoch 14/20\n",
      "9312/9312 [==============================] - 32s 3ms/step - loss: 0.0182 - accuracy: 0.7629 - val_loss: 0.0187 - val_accuracy: 0.7571\n",
      "Epoch 15/20\n",
      "9312/9312 [==============================] - 33s 4ms/step - loss: 0.0174 - accuracy: 0.7734 - val_loss: 0.0173 - val_accuracy: 0.7753\n",
      "Epoch 16/20\n",
      "9312/9312 [==============================] - 31s 3ms/step - loss: 0.0199 - accuracy: 0.7415 - val_loss: 0.0204 - val_accuracy: 0.7341\n",
      "Epoch 17/20\n",
      "9312/9312 [==============================] - 32s 3ms/step - loss: 0.0201 - accuracy: 0.7388 - val_loss: 0.0200 - val_accuracy: 0.7394\n",
      "Epoch 18/20\n",
      "9312/9312 [==============================] - 33s 4ms/step - loss: 0.0209 - accuracy: 0.7278 - val_loss: 0.0319 - val_accuracy: 0.5856\n",
      "Epoch 19/20\n",
      "9312/9312 [==============================] - 31s 3ms/step - loss: 0.0208 - accuracy: 0.7296 - val_loss: 0.0165 - val_accuracy: 0.7860\n",
      "Epoch 20/20\n",
      "9312/9312 [==============================] - 31s 3ms/step - loss: 0.0175 - accuracy: 0.7724 - val_loss: 0.0176 - val_accuracy: 0.7718\n"
     ]
    }
   ],
   "source": [
    "del input\n",
    "del output\n",
    "del model\n",
    "del log\n",
    "gc.collect()\n",
    "\n",
    "input = keras.layers.Input(shape=(784))\n",
    "output = keras.layers.Flatten()(input)\n",
    "output = keras.layers.Dense(1024, activation='LeakyReLU')(output)\n",
    "output = keras.layers.Dense(512, activation='LeakyReLU')(output)\n",
    "output = keras.layers.Dense(26, activation='softmax')(output)\n",
    "model = keras.models.Model(inputs=input, outputs=output)\n",
    "model.compile(optimizer=optimizers.Adam(learning_rate=0.001), loss=\"mean_squared_error\", metrics=['accuracy'])\n",
    "\n",
    "log = model.fit(X_train, Y_train, validation_data=(X_test, Y_test) , epochs = 20, batch_size=32)"
   ]
  },
  {
   "cell_type": "code",
   "execution_count": 26,
   "id": "QYxW4qGLF7TG",
   "metadata": {
    "colab": {
     "base_uri": "https://localhost:8080/",
     "height": 1000
    },
    "id": "QYxW4qGLF7TG",
    "outputId": "256b84ef-ad5c-406d-eb2d-65a06a918df7"
   },
   "outputs": [
    {
     "data": {
      "image/png": "[encoded data removed]",
      "text/plain": [
       "<Figure size 432x288 with 1 Axes>"
      ]
     },
     "metadata": {
      "needs_background": "light"
     },
     "output_type": "display_data"
    },
    {
     "data": {
      "image/png": "[encoded data removed]",
      "text/plain": [
       "<Figure size 432x288 with 1 Axes>"
      ]
     },
     "metadata": {
      "needs_background": "light"
     },
     "output_type": "display_data"
    },
    {
     "name": "stdout",
     "output_type": "stream",
     "text": [
      "-----------------------------------------------------------------------\n",
      "9312/9312 [==============================] - 14s 1ms/step\n",
      "2328/2328 [==============================] - 4s 2ms/step\n",
      "\n",
      "Train classification report:\n"
     ]
    },
    {
     "name": "stderr",
     "output_type": "stream",
     "text": [
      "/usr/local/lib/python3.7/dist-packages/sklearn/metrics/_classification.py:1318: UndefinedMetricWarning: Recall and F-score are ill-defined and being set to 0.0 in labels with no true samples. Use `zero_division` parameter to control this behavior.\n",
      "  _warn_prf(average, modifier, msg_start, len(result))\n",
      "/usr/local/lib/python3.7/dist-packages/sklearn/metrics/_classification.py:1318: UndefinedMetricWarning: Recall and F-score are ill-defined and being set to 0.0 in labels with no true samples. Use `zero_division` parameter to control this behavior.\n",
      "  _warn_prf(average, modifier, msg_start, len(result))\n",
      "/usr/local/lib/python3.7/dist-packages/sklearn/metrics/_classification.py:1318: UndefinedMetricWarning: Recall and F-score are ill-defined and being set to 0.0 in labels with no true samples. Use `zero_division` parameter to control this behavior.\n",
      "  _warn_prf(average, modifier, msg_start, len(result))\n"
     ]
    },
    {
     "name": "stdout",
     "output_type": "stream",
     "text": [
      "              precision    recall  f1-score   support\n",
      "\n",
      "           0       0.82      0.60      0.69     15310\n",
      "           1       0.69      0.52      0.59      9176\n",
      "           2       0.84      0.92      0.88     17117\n",
      "           3       0.86      0.37      0.52     18684\n",
      "           4       0.76      0.70      0.73     10079\n",
      "           5       0.43      0.86      0.58       467\n",
      "           6       0.63      0.66      0.64      4366\n",
      "           7       0.56      0.51      0.53      6333\n",
      "           8       0.00      0.00      0.00         0\n",
      "           9       0.59      0.61      0.60      6530\n",
      "          10       0.35      0.71      0.47      2211\n",
      "          11       0.72      0.87      0.79      7617\n",
      "          12       0.73      0.86      0.79      8364\n",
      "          13       0.73      0.77      0.75     14529\n",
      "          14       0.81      0.89      0.85     41933\n",
      "          15       0.91      0.75      0.82     18751\n",
      "          16       0.42      0.73      0.53      2696\n",
      "          17       0.61      0.80      0.69      7136\n",
      "          18       0.87      0.95      0.90     35488\n",
      "          19       0.85      0.97      0.91     15963\n",
      "          20       0.87      0.74      0.80     27248\n",
      "          21       0.78      0.78      0.78      3352\n",
      "          22       0.75      0.83      0.79      7733\n",
      "          23       0.73      0.60      0.66      6118\n",
      "          24       0.66      0.86      0.75      6631\n",
      "          25       0.71      0.83      0.77      4128\n",
      "\n",
      "    accuracy                           0.78    297960\n",
      "   macro avg       0.68      0.72      0.69    297960\n",
      "weighted avg       0.79      0.78      0.77    297960\n",
      "\n",
      "\n",
      "Test classification report:\n"
     ]
    },
    {
     "name": "stderr",
     "output_type": "stream",
     "text": [
      "/usr/local/lib/python3.7/dist-packages/sklearn/metrics/_classification.py:1318: UndefinedMetricWarning: Recall and F-score are ill-defined and being set to 0.0 in labels with no true samples. Use `zero_division` parameter to control this behavior.\n",
      "  _warn_prf(average, modifier, msg_start, len(result))\n",
      "/usr/local/lib/python3.7/dist-packages/sklearn/metrics/_classification.py:1318: UndefinedMetricWarning: Recall and F-score are ill-defined and being set to 0.0 in labels with no true samples. Use `zero_division` parameter to control this behavior.\n",
      "  _warn_prf(average, modifier, msg_start, len(result))\n",
      "/usr/local/lib/python3.7/dist-packages/sklearn/metrics/_classification.py:1318: UndefinedMetricWarning: Recall and F-score are ill-defined and being set to 0.0 in labels with no true samples. Use `zero_division` parameter to control this behavior.\n",
      "  _warn_prf(average, modifier, msg_start, len(result))\n"
     ]
    },
    {
     "name": "stdout",
     "output_type": "stream",
     "text": [
      "              precision    recall  f1-score   support\n",
      "\n",
      "           0       0.83      0.59      0.69      3935\n",
      "           1       0.69      0.51      0.58      2283\n",
      "           2       0.84      0.92      0.88      4316\n",
      "           3       0.87      0.37      0.52      4762\n",
      "           4       0.78      0.70      0.73      2472\n",
      "           5       0.39      0.90      0.54       100\n",
      "           6       0.63      0.66      0.65      1131\n",
      "           7       0.55      0.48      0.52      1665\n",
      "           8       0.00      0.00      0.00         0\n",
      "           9       0.59      0.62      0.60      1609\n",
      "          10       0.32      0.71      0.45       514\n",
      "          11       0.73      0.89      0.80      1884\n",
      "          12       0.73      0.86      0.79      2121\n",
      "          13       0.72      0.76      0.74      3573\n",
      "          14       0.80      0.89      0.84     10525\n",
      "          15       0.91      0.75      0.82      4674\n",
      "          16       0.41      0.73      0.52       650\n",
      "          17       0.61      0.80      0.69      1737\n",
      "          18       0.87      0.95      0.91      8700\n",
      "          19       0.86      0.97      0.91      3934\n",
      "          20       0.86      0.74      0.79      6803\n",
      "          21       0.76      0.77      0.76       818\n",
      "          22       0.75      0.83      0.79      2002\n",
      "          23       0.75      0.57      0.65      1661\n",
      "          24       0.64      0.87      0.73      1612\n",
      "          25       0.71      0.86      0.77      1009\n",
      "\n",
      "    accuracy                           0.77     74490\n",
      "   macro avg       0.68      0.72      0.68     74490\n",
      "weighted avg       0.79      0.77      0.77     74490\n",
      "\n"
     ]
    }
   ],
   "source": [
    "model_predict_info()"
   ]
  },
  {
   "cell_type": "markdown",
   "id": "LUxgUUAaHTpt",
   "metadata": {
    "id": "LUxgUUAaHTpt"
   },
   "source": [
    "Based on the result, by using this loss function, the rate of the learning process decreased and it seems that it will not converge and it refers to the reasons that we mentioned above."
   ]
  },
  {
   "cell_type": "markdown",
   "id": "mGXC2dR9GWmP",
   "metadata": {
    "id": "mGXC2dR9GWmP"
   },
   "source": [
    "#### Question 2: Why MSE not good\n",
    "There are two reasons that MSE loss function is not good for classification problems:\n",
    "\n",
    "1. when we use MSE, it means we assume the underlying data has been generated from a normal distribution. In Bayesian terms this means we assume a Gaussian prior. While in fact, our dataset can be classified into three categories. As a result, it is not from a normal distribution.\n",
    "\n",
    "2. the MSE function is non-convex for classification. In other words, if a classification model is trained with MSE loss function, it is not guaranteed to minimize the loss function. This is because MSE function expects real-valued inputs in range (-∞, ∞), while classification models output probabilities in range (0,1) through the activation function.\n",
    "\n",
    "As shown above the loss value while using MSE is constant meaning that the weights aren't updated. This will result in the network predicting everything as white class which is horrible Categorical Crossentropy is much better for our situation.\n",
    "\n",
    "The Mean Squared Error is used as a default metric for evaluation of the performance of most regression algorithms meaning that MSE loss function is mostly used in regressions.\n",
    "\n",
    "Using MSE means that we assume that the underlying data has been generated from a normal distribution in reality, a dataset that can be classified into categories is not always from a normal distribution. Also if classification model is trained with MSE Cost function, it is not guaranteed to minimize the Cost function. This is because MSE function expects real-valued inputs in range (-inf, inf), while here classification models output probabilities in range (0,4). Also as said before MSE is a good choice for a Cost function when we are doing Linear Regression."
   ]
  },
  {
   "cell_type": "markdown",
   "id": "tc63F-69HKPS",
   "metadata": {
    "id": "tc63F-69HKPS"
   },
   "source": [
    "### Part IV: Regularization\n",
    "As we mentioned in previous parts, if we train our model for more epochs, the risk of overfitting will be increased. One of the techniques to avoid overfitting is to use regularization methods that we want to discuss in this part.\n",
    "\n",
    "Adding the regularization component will drive the values of the weight matrix down. This will effectively decorrelate the neural network."
   ]
  },
  {
   "cell_type": "markdown",
   "id": "Jj1Oq1zrLtYF",
   "metadata": {
    "id": "Jj1Oq1zrLtYF"
   },
   "source": [
    "#### Question 1: L2\n",
    "In this approach we have the term (0.5)λw^2 and it helps us to control the weights.\n",
    "It means that it does not let them to grow a lot. It helps us keep the weights small and prevent overfitting.\n",
    "We can observer this in the output as well.\n",
    "\n",
    "L2 regularization works by adding a term to the error function used by the training algorithm. The additional term penalizes large weight values meaning that with L2 regularization you add a fraction of the sum of the squared weight values to the base error so on each training iteration, each weight is decayed toward zero by a small fraction of the weight's current value resulting in regularization and better results."
   ]
  },
  {
   "cell_type": "code",
   "execution_count": 27,
   "id": "-e9wt6o1L2s9",
   "metadata": {
    "colab": {
     "base_uri": "https://localhost:8080/"
    },
    "id": "-e9wt6o1L2s9",
    "outputId": "d76fc8df-5b74-440c-b9f8-150efadbcb50"
   },
   "outputs": [
    {
     "name": "stdout",
     "output_type": "stream",
     "text": [
      "Epoch 1/20\n",
      "9312/9312 [==============================] - 37s 4ms/step - loss: 0.3929 - accuracy: 0.9205 - val_loss: 0.2645 - val_accuracy: 0.9523\n",
      "Epoch 2/20\n",
      "9312/9312 [==============================] - 34s 4ms/step - loss: 0.2618 - accuracy: 0.9522 - val_loss: 0.2483 - val_accuracy: 0.9551\n",
      "Epoch 3/20\n",
      "9312/9312 [==============================] - 34s 4ms/step - loss: 0.2362 - accuracy: 0.9583 - val_loss: 0.2454 - val_accuracy: 0.9564\n",
      "Epoch 4/20\n",
      "9312/9312 [==============================] - 34s 4ms/step - loss: 0.2244 - accuracy: 0.9613 - val_loss: 0.2513 - val_accuracy: 0.9542\n",
      "Epoch 5/20\n",
      "9312/9312 [==============================] - 34s 4ms/step - loss: 0.2170 - accuracy: 0.9632 - val_loss: 0.2149 - val_accuracy: 0.9645\n",
      "Epoch 6/20\n",
      "9312/9312 [==============================] - 34s 4ms/step - loss: 0.2126 - accuracy: 0.9641 - val_loss: 0.2115 - val_accuracy: 0.9644\n",
      "Epoch 7/20\n",
      "9312/9312 [==============================] - 34s 4ms/step - loss: 0.2083 - accuracy: 0.9653 - val_loss: 0.2087 - val_accuracy: 0.9660\n",
      "Epoch 8/20\n",
      "9312/9312 [==============================] - 40s 4ms/step - loss: 0.2061 - accuracy: 0.9656 - val_loss: 0.2039 - val_accuracy: 0.9667\n",
      "Epoch 9/20\n",
      "9312/9312 [==============================] - 35s 4ms/step - loss: 0.2038 - accuracy: 0.9660 - val_loss: 0.2165 - val_accuracy: 0.9624\n",
      "Epoch 10/20\n",
      "9312/9312 [==============================] - 35s 4ms/step - loss: 0.2017 - accuracy: 0.9671 - val_loss: 0.2023 - val_accuracy: 0.9674\n",
      "Epoch 11/20\n",
      "9312/9312 [==============================] - 35s 4ms/step - loss: 0.1999 - accuracy: 0.9673 - val_loss: 0.2127 - val_accuracy: 0.9648\n",
      "Epoch 12/20\n",
      "9312/9312 [==============================] - 34s 4ms/step - loss: 0.2001 - accuracy: 0.9674 - val_loss: 0.1987 - val_accuracy: 0.9688\n",
      "Epoch 13/20\n",
      "9312/9312 [==============================] - 34s 4ms/step - loss: 0.1972 - accuracy: 0.9678 - val_loss: 0.2149 - val_accuracy: 0.9619\n",
      "Epoch 14/20\n",
      "9312/9312 [==============================] - 34s 4ms/step - loss: 0.1972 - accuracy: 0.9678 - val_loss: 0.1916 - val_accuracy: 0.9700\n",
      "Epoch 15/20\n",
      "9312/9312 [==============================] - 35s 4ms/step - loss: 0.1956 - accuracy: 0.9684 - val_loss: 0.1951 - val_accuracy: 0.9677\n",
      "Epoch 16/20\n",
      "9312/9312 [==============================] - 40s 4ms/step - loss: 0.1962 - accuracy: 0.9681 - val_loss: 0.1943 - val_accuracy: 0.9698\n",
      "Epoch 17/20\n",
      "9312/9312 [==============================] - 35s 4ms/step - loss: 0.1946 - accuracy: 0.9684 - val_loss: 0.2017 - val_accuracy: 0.9668\n",
      "Epoch 18/20\n",
      "9312/9312 [==============================] - 35s 4ms/step - loss: 0.1941 - accuracy: 0.9687 - val_loss: 0.2157 - val_accuracy: 0.9629\n",
      "Epoch 19/20\n",
      "9312/9312 [==============================] - 35s 4ms/step - loss: 0.1938 - accuracy: 0.9686 - val_loss: 0.2067 - val_accuracy: 0.9657\n",
      "Epoch 20/20\n",
      "9312/9312 [==============================] - 35s 4ms/step - loss: 0.1934 - accuracy: 0.9690 - val_loss: 0.1887 - val_accuracy: 0.9703\n"
     ]
    }
   ],
   "source": [
    "del input\n",
    "del output\n",
    "del model\n",
    "del log\n",
    "gc.collect()\n",
    "\n",
    "input = keras.layers.Input(shape=(784))\n",
    "output = keras.layers.Flatten()(input)\n",
    "output = keras.layers.Dense(1024, activation='LeakyReLU', kernel_regularizer=regularizers.l2(0.0001))(output)\n",
    "output = keras.layers.Dense(512, activation='LeakyReLU', kernel_regularizer=regularizers.l2(0.0001))(output)\n",
    "output = keras.layers.Dense(26, activation='softmax', kernel_regularizer=regularizers.l2(0.0001))(output)\n",
    "model = keras.models.Model(inputs=input, outputs=output)\n",
    "model.compile(optimizer=optimizers.Adam(learning_rate=0.001), loss=\"categorical_crossentropy\", metrics=['accuracy'])\n",
    "\n",
    "log = model.fit(X_train, Y_train, validation_data=(X_test, Y_test) , epochs = 20, batch_size=32)"
   ]
  },
  {
   "cell_type": "code",
   "execution_count": 28,
   "id": "Wq-se1BQMHu1",
   "metadata": {
    "colab": {
     "base_uri": "https://localhost:8080/",
     "height": 1000
    },
    "id": "Wq-se1BQMHu1",
    "outputId": "5a11f8d2-d1c2-4293-fd75-1fa1dd5a2f45"
   },
   "outputs": [
    {
     "data": {
      "image/png": "[encoded data removed]",
      "text/plain": [
       "<Figure size 432x288 with 1 Axes>"
      ]
     },
     "metadata": {
      "needs_background": "light"
     },
     "output_type": "display_data"
    },
    {
     "data": {
      "image/png": "[encoded data removed]",
      "text/plain": [
       "<Figure size 432x288 with 1 Axes>"
      ]
     },
     "metadata": {
      "needs_background": "light"
     },
     "output_type": "display_data"
    },
    {
     "name": "stdout",
     "output_type": "stream",
     "text": [
      "-----------------------------------------------------------------------\n",
      "9312/9312 [==============================] - 14s 2ms/step\n",
      "2328/2328 [==============================] - 3s 1ms/step\n",
      "\n",
      "Train classification report:\n",
      "              precision    recall  f1-score   support\n",
      "\n",
      "           0       0.99      0.95      0.97     11589\n",
      "           1       0.96      0.95      0.95      7105\n",
      "           2       0.98      0.98      0.98     18610\n",
      "           3       0.94      0.94      0.94      8098\n",
      "           4       0.98      0.93      0.95      9788\n",
      "           5       0.96      0.87      0.91      1021\n",
      "           6       0.93      0.98      0.95      4330\n",
      "           7       0.93      0.98      0.95      5489\n",
      "           8       0.87      0.99      0.93       781\n",
      "           9       0.96      0.94      0.95      6987\n",
      "          10       0.89      0.98      0.94      4044\n",
      "          11       0.97      0.97      0.97      9239\n",
      "          12       0.97      0.98      0.98      9735\n",
      "          13       0.98      0.97      0.97     15431\n",
      "          14       0.99      0.98      0.99     46592\n",
      "          15       0.98      0.99      0.98     15322\n",
      "          16       0.94      0.95      0.94      4605\n",
      "          17       0.91      0.98      0.95      8642\n",
      "          18       0.99      0.99      0.99     38997\n",
      "          19       1.00      0.97      0.98     18518\n",
      "          20       0.99      0.98      0.99     23180\n",
      "          21       0.98      0.98      0.98      3378\n",
      "          22       0.95      0.99      0.97      8235\n",
      "          23       0.96      0.97      0.97      4945\n",
      "          24       0.96      0.97      0.97      8533\n",
      "          25       0.97      0.98      0.98      4766\n",
      "\n",
      "    accuracy                           0.97    297960\n",
      "   macro avg       0.96      0.97      0.96    297960\n",
      "weighted avg       0.97      0.97      0.97    297960\n",
      "\n",
      "\n",
      "Test classification report:\n",
      "              precision    recall  f1-score   support\n",
      "\n",
      "           0       0.98      0.94      0.96      2920\n",
      "           1       0.96      0.94      0.95      1701\n",
      "           2       0.98      0.98      0.98      4722\n",
      "           3       0.94      0.93      0.94      2056\n",
      "           4       0.98      0.92      0.94      2359\n",
      "           5       0.95      0.88      0.91       250\n",
      "           6       0.92      0.98      0.95      1111\n",
      "           7       0.93      0.96      0.95      1410\n",
      "           8       0.89      0.99      0.94       214\n",
      "           9       0.95      0.94      0.95      1688\n",
      "          10       0.89      0.98      0.93      1027\n",
      "          11       0.97      0.97      0.97      2325\n",
      "          12       0.97      0.97      0.97      2471\n",
      "          13       0.97      0.96      0.97      3803\n",
      "          14       0.99      0.98      0.98     11729\n",
      "          15       0.97      0.98      0.98      3845\n",
      "          16       0.92      0.93      0.93      1147\n",
      "          17       0.91      0.98      0.94      2132\n",
      "          18       0.99      0.99      0.99      9572\n",
      "          19       1.00      0.96      0.98      4598\n",
      "          20       0.98      0.98      0.98      5865\n",
      "          21       0.99      0.97      0.98       839\n",
      "          22       0.94      0.99      0.96      2092\n",
      "          23       0.96      0.97      0.96      1253\n",
      "          24       0.95      0.97      0.96      2153\n",
      "          25       0.96      0.98      0.97      1208\n",
      "\n",
      "    accuracy                           0.97     74490\n",
      "   macro avg       0.95      0.96      0.96     74490\n",
      "weighted avg       0.97      0.97      0.97     74490\n",
      "\n"
     ]
    }
   ],
   "source": [
    "model_predict_info()"
   ]
  },
  {
   "cell_type": "markdown",
   "id": "Z7i-7ceoMznw",
   "metadata": {
    "id": "Z7i-7ceoMznw"
   },
   "source": [
    "Based on the result, the loss curve is smoother and it shows that our model has not faced with overfitting, during the learning process."
   ]
  },
  {
   "cell_type": "markdown",
   "id": "cGr96R1hL3qa",
   "metadata": {
    "id": "cGr96R1hL3qa"
   },
   "source": [
    "#### Question 2: dropout\n",
    "In this approach we drop some neurons with respect to a probability and it helps us prevent overfitting.\n",
    "We will learn just some values in each part and it helps generalizing better.\n",
    "We can see the following observation in the output as well.\n",
    "\n",
    "L2 regularization works by adding a term to the error function used by the training algorithm. The additional term penalizes large weight values meaning that with L2 regularization you add a fraction of the sum of the squared weight values to the base error so on each training iteration, each weight is decayed toward zero by a small fraction of the weight's current value resulting in regularization and better results."
   ]
  },
  {
   "cell_type": "code",
   "execution_count": 29,
   "id": "XkKaawPfNVv3",
   "metadata": {
    "colab": {
     "base_uri": "https://localhost:8080/"
    },
    "id": "XkKaawPfNVv3",
    "outputId": "d7d62dec-4d0d-481a-dcd1-6b01f6ad3080"
   },
   "outputs": [
    {
     "name": "stdout",
     "output_type": "stream",
     "text": [
      "Epoch 1/20\n",
      "9312/9312 [==============================] - 34s 4ms/step - loss: 0.3349 - accuracy: 0.9097 - val_loss: 0.2118 - val_accuracy: 0.9455\n",
      "Epoch 2/20\n",
      "9312/9312 [==============================] - 34s 4ms/step - loss: 0.2501 - accuracy: 0.9368 - val_loss: 0.2175 - val_accuracy: 0.9486\n",
      "Epoch 3/20\n",
      "9312/9312 [==============================] - 34s 4ms/step - loss: 0.2335 - accuracy: 0.9433 - val_loss: 0.2234 - val_accuracy: 0.9480\n",
      "Epoch 4/20\n",
      "9312/9312 [==============================] - 33s 4ms/step - loss: 0.2224 - accuracy: 0.9467 - val_loss: 0.1873 - val_accuracy: 0.9574\n",
      "Epoch 5/20\n",
      "9312/9312 [==============================] - 33s 4ms/step - loss: 0.2239 - accuracy: 0.9480 - val_loss: 0.1842 - val_accuracy: 0.9562\n",
      "Epoch 6/20\n",
      "9312/9312 [==============================] - 33s 4ms/step - loss: 0.2173 - accuracy: 0.9508 - val_loss: 0.1787 - val_accuracy: 0.9614\n",
      "Epoch 7/20\n",
      "9312/9312 [==============================] - 33s 4ms/step - loss: 0.2164 - accuracy: 0.9521 - val_loss: 0.2103 - val_accuracy: 0.9561\n",
      "Epoch 8/20\n",
      "9312/9312 [==============================] - 34s 4ms/step - loss: 0.2148 - accuracy: 0.9537 - val_loss: 0.1989 - val_accuracy: 0.9547\n",
      "Epoch 9/20\n",
      "9312/9312 [==============================] - 34s 4ms/step - loss: 0.2171 - accuracy: 0.9543 - val_loss: 0.2266 - val_accuracy: 0.9572\n",
      "Epoch 10/20\n",
      "9312/9312 [==============================] - 34s 4ms/step - loss: 0.2202 - accuracy: 0.9551 - val_loss: 0.1747 - val_accuracy: 0.9669\n",
      "Epoch 11/20\n",
      "9312/9312 [==============================] - 34s 4ms/step - loss: 0.2204 - accuracy: 0.9558 - val_loss: 0.1620 - val_accuracy: 0.9692\n",
      "Epoch 12/20\n",
      "9312/9312 [==============================] - 34s 4ms/step - loss: 0.2199 - accuracy: 0.9569 - val_loss: 0.2169 - val_accuracy: 0.9589\n",
      "Epoch 13/20\n",
      "9312/9312 [==============================] - 33s 4ms/step - loss: 0.2259 - accuracy: 0.9568 - val_loss: 0.1807 - val_accuracy: 0.9670\n",
      "Epoch 14/20\n",
      "9312/9312 [==============================] - 34s 4ms/step - loss: 0.2246 - accuracy: 0.9573 - val_loss: 0.1759 - val_accuracy: 0.9699\n",
      "Epoch 15/20\n",
      "9312/9312 [==============================] - 34s 4ms/step - loss: 0.2266 - accuracy: 0.9586 - val_loss: 0.1548 - val_accuracy: 0.9717\n",
      "Epoch 16/20\n",
      "9312/9312 [==============================] - 34s 4ms/step - loss: 0.2279 - accuracy: 0.9588 - val_loss: 0.1678 - val_accuracy: 0.9713\n",
      "Epoch 17/20\n",
      "9312/9312 [==============================] - 34s 4ms/step - loss: 0.2315 - accuracy: 0.9590 - val_loss: 0.2333 - val_accuracy: 0.9640\n",
      "Epoch 18/20\n",
      "9312/9312 [==============================] - 39s 4ms/step - loss: 0.2305 - accuracy: 0.9599 - val_loss: 0.1835 - val_accuracy: 0.9694\n",
      "Epoch 19/20\n",
      "9312/9312 [==============================] - 34s 4ms/step - loss: 0.2362 - accuracy: 0.9599 - val_loss: 0.2066 - val_accuracy: 0.9689\n",
      "Epoch 20/20\n",
      "9312/9312 [==============================] - 34s 4ms/step - loss: 0.2371 - accuracy: 0.9604 - val_loss: 0.2207 - val_accuracy: 0.9661\n"
     ]
    }
   ],
   "source": [
    "del input\n",
    "del output\n",
    "del model\n",
    "del log\n",
    "gc.collect()\n",
    "\n",
    "input = keras.layers.Input(shape=(784))\n",
    "output = keras.layers.Flatten()(input)\n",
    "output = keras.layers.Dense(1024, activation='LeakyReLU')(output)\n",
    "output = keras.layers.Dropout(rate=0.1)(output)\n",
    "output = keras.layers.Dense(512, activation='LeakyReLU')(output)\n",
    "output = keras.layers.Dropout(rate=0.1)(output)\n",
    "output = keras.layers.Dense(26, activation='softmax')(output)\n",
    "model = keras.models.Model(inputs=input, outputs=output)\n",
    "model.compile(optimizer=optimizers.Adam(learning_rate=0.001), loss=\"categorical_crossentropy\", metrics=['accuracy'])\n",
    "\n",
    "log = model.fit(X_train, Y_train, validation_data=(X_test, Y_test) , epochs = 20, batch_size=32)"
   ]
  },
  {
   "cell_type": "code",
   "execution_count": 30,
   "id": "JD0XP42LNXLY",
   "metadata": {
    "colab": {
     "base_uri": "https://localhost:8080/",
     "height": 1000
    },
    "id": "JD0XP42LNXLY",
    "outputId": "193273f7-3a94-4c54-f106-ee9cb533387d"
   },
   "outputs": [
    {
     "data": {
      "image/png": "[encoded data removed]",
      "text/plain": [
       "<Figure size 432x288 with 1 Axes>"
      ]
     },
     "metadata": {
      "needs_background": "light"
     },
     "output_type": "display_data"
    },
    {
     "data": {
      "image/png": "[encoded data removed]",
      "text/plain": [
       "<Figure size 432x288 with 1 Axes>"
      ]
     },
     "metadata": {
      "needs_background": "light"
     },
     "output_type": "display_data"
    },
    {
     "name": "stdout",
     "output_type": "stream",
     "text": [
      "-----------------------------------------------------------------------\n",
      "9312/9312 [==============================] - 14s 1ms/step\n",
      "2328/2328 [==============================] - 4s 2ms/step\n",
      "\n",
      "Train classification report:\n",
      "              precision    recall  f1-score   support\n",
      "\n",
      "           0       0.96      0.99      0.98     10702\n",
      "           1       0.98      0.95      0.96      7203\n",
      "           2       0.94      0.99      0.96     17601\n",
      "           3       0.84      0.98      0.90      6906\n",
      "           4       0.97      0.95      0.96      9395\n",
      "           5       0.92      0.99      0.96       866\n",
      "           6       0.93      0.95      0.94      4522\n",
      "           7       0.97      0.95      0.96      5909\n",
      "           8       0.97      0.92      0.95       933\n",
      "           9       0.90      0.98      0.94      6292\n",
      "          10       0.96      0.96      0.96      4509\n",
      "          11       0.99      0.92      0.95     10019\n",
      "          12       0.98      0.99      0.98      9766\n",
      "          13       0.98      0.98      0.98     15266\n",
      "          14       0.99      0.97      0.98     47303\n",
      "          15       0.98      0.99      0.99     15230\n",
      "          16       0.91      0.98      0.94      4308\n",
      "          17       0.98      0.95      0.97      9517\n",
      "          18       1.00      0.96      0.98     40245\n",
      "          19       0.99      0.99      0.99     17951\n",
      "          20       0.99      0.97      0.98     23547\n",
      "          21       0.99      0.96      0.97      3459\n",
      "          22       0.95      1.00      0.97      8197\n",
      "          23       0.96      0.99      0.97      4873\n",
      "          24       0.98      0.97      0.97      8738\n",
      "          25       0.96      0.99      0.98      4703\n",
      "\n",
      "    accuracy                           0.97    297960\n",
      "   macro avg       0.96      0.97      0.96    297960\n",
      "weighted avg       0.97      0.97      0.97    297960\n",
      "\n",
      "\n",
      "Test classification report:\n",
      "              precision    recall  f1-score   support\n",
      "\n",
      "           0       0.95      0.99      0.97      2700\n",
      "           1       0.97      0.93      0.95      1730\n",
      "           2       0.93      0.99      0.96      4435\n",
      "           3       0.84      0.97      0.90      1757\n",
      "           4       0.96      0.94      0.95      2260\n",
      "           5       0.90      1.00      0.94       208\n",
      "           6       0.92      0.92      0.92      1182\n",
      "           7       0.95      0.93      0.94      1502\n",
      "           8       0.95      0.91      0.93       248\n",
      "           9       0.89      0.97      0.93      1533\n",
      "          10       0.96      0.93      0.94      1173\n",
      "          11       0.99      0.91      0.95      2511\n",
      "          12       0.97      0.98      0.98      2456\n",
      "          13       0.97      0.97      0.97      3769\n",
      "          14       0.99      0.97      0.98     11914\n",
      "          15       0.97      0.99      0.98      3792\n",
      "          16       0.91      0.98      0.94      1076\n",
      "          17       0.97      0.94      0.96      2357\n",
      "          18       1.00      0.96      0.98      9921\n",
      "          19       0.99      0.99      0.99      4429\n",
      "          20       0.99      0.96      0.98      5987\n",
      "          21       0.99      0.94      0.96       863\n",
      "          22       0.93      0.99      0.96      2056\n",
      "          23       0.95      0.98      0.96      1224\n",
      "          24       0.96      0.96      0.96      2214\n",
      "          25       0.96      0.98      0.97      1193\n",
      "\n",
      "    accuracy                           0.97     74490\n",
      "   macro avg       0.95      0.96      0.96     74490\n",
      "weighted avg       0.97      0.97      0.97     74490\n",
      "\n"
     ]
    }
   ],
   "source": [
    "model_predict_info()"
   ]
  },
  {
   "cell_type": "markdown",
   "id": "B3ATSwsENufB",
   "metadata": {
    "id": "B3ATSwsENufB"
   },
   "source": [
    "Here, the loss curve is smoother than the previous part and it seems that this method can deal with overfitting in a better way."
   ]
  },
  {
   "cell_type": "markdown",
   "id": "03ynhRmSN18S",
   "metadata": {
    "id": "03ynhRmSN18S"
   },
   "source": [
    "By using L2 regularization we improved the test accuracy and it's also noticeable that the model is not overfitting. Adding the dropout will make the results even better."
   ]
  }
 ],
 "metadata": {
  "accelerator": "GPU",
  "colab": {
   "collapsed_sections": [],
   "name": "AI-CA5-P2.ipynb",
   "provenance": [],
   "toc_visible": true
  },
  "gpuClass": "standard",
  "kernelspec": {
   "display_name": "Python 3",
   "language": "python",
   "name": "python3"
  },
  "language_info": {
   "codemirror_mode": {
    "name": "ipython",
    "version": 3
   },
   "file_extension": ".py",
   "mimetype": "text/x-python",
   "name": "python",
   "nbconvert_exporter": "python",
   "pygments_lexer": "ipython3",
   "version": "3.8.8"
  }
 },
 "nbformat": 4,
 "nbformat_minor": 5
}
