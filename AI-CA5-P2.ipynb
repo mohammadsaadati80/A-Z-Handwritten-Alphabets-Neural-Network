{
  "cells": [
    {
      "cell_type": "markdown",
      "id": "bf02f54f",
      "metadata": {
        "id": "bf02f54f"
      },
      "source": [
        "# AI Computer Assignment 5 Phase 2 (Neural Network: TensorFlow & Keras)\n",
        "Mohammad Saadati - \n",
        "_810198410_"
      ]
    },
    {
      "cell_type": "markdown",
      "id": "65cdf740",
      "metadata": {
        "id": "65cdf740"
      },
      "source": [
        "## Introduction\n",
        "Neural networks are one of the most powerful machine learning structures that have found many applications in various scientific and industrial fields in recent years due to the increasing computing power of processors. One of the advantages of these algorithms is that it makes it possible to construct any desired derivative function using only two hidden layers of neurons. Therefore, it is possible to implement and learn nonlinear functions with their help. Due to the recent advances in this structure and its increasing use in industry, very powerful frameworks have been offered to facilitate the creation of very complex and highly efficient neural networks. In this project, we intend to investigate some issues related to neural networks with the `TensorFlow` library and using the `Keras` high-level interface.\n",
        "\n",
        "In this project, we intend to use neural networks to recognize the **English alphabet** based on their image.\n",
        "\n",
        "[A-Z Handwritten Alphabets](https://www.kaggle.com/datasets/sachinpatel21/az-handwritten-alphabets-in-csv-format) is a collection of handwritten images of the English alphabet. This dataset contains 372,450 images along with their corresponding labels."
      ]
    },
    {
      "cell_type": "markdown",
      "id": "78249482",
      "metadata": {
        "id": "78249482"
      },
      "source": [
        "### Import Libraries\n",
        "In this part, some of the necessary libraries were imported in order to use their helpful functions."
      ]
    },
    {
      "cell_type": "code",
      "execution_count": 2,
      "id": "9097b3ff",
      "metadata": {
        "colab": {
          "base_uri": "https://localhost:8080/"
        },
        "id": "9097b3ff",
        "outputId": "751d32a2-b589-493f-c794-b7f92f3f10c9"
      },
      "outputs": [
        {
          "output_type": "stream",
          "name": "stdout",
          "text": [
            "Drive already mounted at /content/drive; to attempt to forcibly remount, call drive.mount(\"/content/drive\", force_remount=True).\n"
          ]
        }
      ],
      "source": [
        "import numpy as np\n",
        "import pandas as pd\n",
        "import matplotlib.pyplot as plt\n",
        "import random\n",
        "import pickle\n",
        "from sklearn.model_selection import train_test_split\n",
        "from sklearn.preprocessing import OneHotEncoder\n",
        "import cv2\n",
        "from tensorflow.keras import *\n",
        "from tensorflow.keras.utils import *\n",
        "from sklearn.metrics import accuracy_score, classification_report\n",
        "import keras\n",
        "from sklearn.model_selection import train_test_split\n",
        "from sklearn.preprocessing import OneHotEncoder\n",
        "import tensorflow as tf\n",
        "\n",
        "from google.colab import drive\n",
        "drive.mount('/content/drive')"
      ]
    },
    {
      "cell_type": "markdown",
      "id": "88691246",
      "metadata": {
        "id": "88691246"
      },
      "source": [
        "## Phase 1: Data review and preprocessing\n",
        "Data splitting is an important phase, If we use whole data for both train and test our mesurments may not be precise,\n",
        "because there may be overfitting on train data.\n",
        "So we can split our data to train/test to handle this challenge, but again there is another problem.\n",
        "First of all we have to divide our dataset to two parts trainset and testset so by using `train_test_split` method of `sklearn` and setting `test_size` we'll determine what percentage of our data is for test. For the division `train_test_split` fucntions from `sklearn.model_selection` is used which returns 4 dataset likes. Two are for the training data and two are for test data. And the dependent variable which here is the `type` feature.\n",
        "\n",
        "The `P` ratio depends on lots of metrics but two important metrics to mention are the number of rows in our data and our data itself.\n",
        "Assume that we have extremely small data in this situations small p may effect our learning accuracy.\n",
        "In larger datasets we can do the split with more confidence. After reading some documents online I came to the understanding that 10% to 30% is a good percentage for test size and by experimenting different values I decided to use the value 20%.\n",
        "\n",
        "Another important note to mention is randomness. We must shuffle our data so there is no learning from the sequence of data itself.\n",
        "`random_state` is for getting the same set of data each time so that we don't get different results, meaning it won't give us random data each time. `random_state` is like the seed that we set for random. "
      ]
    },
    {
      "cell_type": "markdown",
      "id": "a18c9b3f",
      "metadata": {
        "id": "a18c9b3f"
      },
      "source": [
        "### Question 1:\n",
        "First we load csv file as a DataFrame using pandas library."
      ]
    },
    {
      "cell_type": "code",
      "execution_count": 3,
      "id": "4a680615",
      "metadata": {
        "scrolled": true,
        "colab": {
          "base_uri": "https://localhost:8080/",
          "height": 424
        },
        "id": "4a680615",
        "outputId": "cabe9b00-7882-4e72-f786-39b4fc3130af"
      },
      "outputs": [
        {
          "output_type": "execute_result",
          "data": {
            "text/plain": [
              "         0  0.1  0.2  0.3  0.4  0.5  0.6  0.7  0.8  0.9  ...  0.639  0.640  \\\n",
              "0        0    0    0    0    0    0    0    0    0    0  ...      0      0   \n",
              "1        0    0    0    0    0    0    0    0    0    0  ...      0      0   \n",
              "2        0    0    0    0    0    0    0    0    0    0  ...      0      0   \n",
              "3        0    0    0    0    0    0    0    0    0    0  ...      0      0   \n",
              "4        0    0    0    0    0    0    0    0    0    0  ...      0      0   \n",
              "...     ..  ...  ...  ...  ...  ...  ...  ...  ...  ...  ...    ...    ...   \n",
              "372445  25    0    0    0    0    0    0    0    0    0  ...      0      0   \n",
              "372446  25    0    0    0    0    0    0    0    0    0  ...      0      0   \n",
              "372447  25    0    0    0    0    0    0    0    0    0  ...      0      0   \n",
              "372448  25    0    0    0    0    0    0    0    0    0  ...      0      0   \n",
              "372449  25    0    0    0    0    0    0    0    0    0  ...      0      0   \n",
              "\n",
              "        0.641  0.642  0.643  0.644  0.645  0.646  0.647  0.648  \n",
              "0           0      0      0      0      0      0      0      0  \n",
              "1           0      0      0      0      0      0      0      0  \n",
              "2           0      0      0      0      0      0      0      0  \n",
              "3           0      0      0      0      0      0      0      0  \n",
              "4           0      0      0      0      0      0      0      0  \n",
              "...       ...    ...    ...    ...    ...    ...    ...    ...  \n",
              "372445      0      0      0      0      0      0      0      0  \n",
              "372446      0      0      0      0      0      0      0      0  \n",
              "372447      0      0      0      0      0      0      0      0  \n",
              "372448      0      0      0      0      0      0      0      0  \n",
              "372449      0      0      0      0      0      0      0      0  \n",
              "\n",
              "[372450 rows x 785 columns]"
            ],
            "text/html": [
              "\n",
              "  <div id=\"df-91b29f6a-54e4-4e62-903c-3c7292eab306\">\n",
              "    <div class=\"colab-df-container\">\n",
              "      <div>\n",
              "<style scoped>\n",
              "    .dataframe tbody tr th:only-of-type {\n",
              "        vertical-align: middle;\n",
              "    }\n",
              "\n",
              "    .dataframe tbody tr th {\n",
              "        vertical-align: top;\n",
              "    }\n",
              "\n",
              "    .dataframe thead th {\n",
              "        text-align: right;\n",
              "    }\n",
              "</style>\n",
              "<table border=\"1\" class=\"dataframe\">\n",
              "  <thead>\n",
              "    <tr style=\"text-align: right;\">\n",
              "      <th></th>\n",
              "      <th>0</th>\n",
              "      <th>0.1</th>\n",
              "      <th>0.2</th>\n",
              "      <th>0.3</th>\n",
              "      <th>0.4</th>\n",
              "      <th>0.5</th>\n",
              "      <th>0.6</th>\n",
              "      <th>0.7</th>\n",
              "      <th>0.8</th>\n",
              "      <th>0.9</th>\n",
              "      <th>...</th>\n",
              "      <th>0.639</th>\n",
              "      <th>0.640</th>\n",
              "      <th>0.641</th>\n",
              "      <th>0.642</th>\n",
              "      <th>0.643</th>\n",
              "      <th>0.644</th>\n",
              "      <th>0.645</th>\n",
              "      <th>0.646</th>\n",
              "      <th>0.647</th>\n",
              "      <th>0.648</th>\n",
              "    </tr>\n",
              "  </thead>\n",
              "  <tbody>\n",
              "    <tr>\n",
              "      <th>0</th>\n",
              "      <td>0</td>\n",
              "      <td>0</td>\n",
              "      <td>0</td>\n",
              "      <td>0</td>\n",
              "      <td>0</td>\n",
              "      <td>0</td>\n",
              "      <td>0</td>\n",
              "      <td>0</td>\n",
              "      <td>0</td>\n",
              "      <td>0</td>\n",
              "      <td>...</td>\n",
              "      <td>0</td>\n",
              "      <td>0</td>\n",
              "      <td>0</td>\n",
              "      <td>0</td>\n",
              "      <td>0</td>\n",
              "      <td>0</td>\n",
              "      <td>0</td>\n",
              "      <td>0</td>\n",
              "      <td>0</td>\n",
              "      <td>0</td>\n",
              "    </tr>\n",
              "    <tr>\n",
              "      <th>1</th>\n",
              "      <td>0</td>\n",
              "      <td>0</td>\n",
              "      <td>0</td>\n",
              "      <td>0</td>\n",
              "      <td>0</td>\n",
              "      <td>0</td>\n",
              "      <td>0</td>\n",
              "      <td>0</td>\n",
              "      <td>0</td>\n",
              "      <td>0</td>\n",
              "      <td>...</td>\n",
              "      <td>0</td>\n",
              "      <td>0</td>\n",
              "      <td>0</td>\n",
              "      <td>0</td>\n",
              "      <td>0</td>\n",
              "      <td>0</td>\n",
              "      <td>0</td>\n",
              "      <td>0</td>\n",
              "      <td>0</td>\n",
              "      <td>0</td>\n",
              "    </tr>\n",
              "    <tr>\n",
              "      <th>2</th>\n",
              "      <td>0</td>\n",
              "      <td>0</td>\n",
              "      <td>0</td>\n",
              "      <td>0</td>\n",
              "      <td>0</td>\n",
              "      <td>0</td>\n",
              "      <td>0</td>\n",
              "      <td>0</td>\n",
              "      <td>0</td>\n",
              "      <td>0</td>\n",
              "      <td>...</td>\n",
              "      <td>0</td>\n",
              "      <td>0</td>\n",
              "      <td>0</td>\n",
              "      <td>0</td>\n",
              "      <td>0</td>\n",
              "      <td>0</td>\n",
              "      <td>0</td>\n",
              "      <td>0</td>\n",
              "      <td>0</td>\n",
              "      <td>0</td>\n",
              "    </tr>\n",
              "    <tr>\n",
              "      <th>3</th>\n",
              "      <td>0</td>\n",
              "      <td>0</td>\n",
              "      <td>0</td>\n",
              "      <td>0</td>\n",
              "      <td>0</td>\n",
              "      <td>0</td>\n",
              "      <td>0</td>\n",
              "      <td>0</td>\n",
              "      <td>0</td>\n",
              "      <td>0</td>\n",
              "      <td>...</td>\n",
              "      <td>0</td>\n",
              "      <td>0</td>\n",
              "      <td>0</td>\n",
              "      <td>0</td>\n",
              "      <td>0</td>\n",
              "      <td>0</td>\n",
              "      <td>0</td>\n",
              "      <td>0</td>\n",
              "      <td>0</td>\n",
              "      <td>0</td>\n",
              "    </tr>\n",
              "    <tr>\n",
              "      <th>4</th>\n",
              "      <td>0</td>\n",
              "      <td>0</td>\n",
              "      <td>0</td>\n",
              "      <td>0</td>\n",
              "      <td>0</td>\n",
              "      <td>0</td>\n",
              "      <td>0</td>\n",
              "      <td>0</td>\n",
              "      <td>0</td>\n",
              "      <td>0</td>\n",
              "      <td>...</td>\n",
              "      <td>0</td>\n",
              "      <td>0</td>\n",
              "      <td>0</td>\n",
              "      <td>0</td>\n",
              "      <td>0</td>\n",
              "      <td>0</td>\n",
              "      <td>0</td>\n",
              "      <td>0</td>\n",
              "      <td>0</td>\n",
              "      <td>0</td>\n",
              "    </tr>\n",
              "    <tr>\n",
              "      <th>...</th>\n",
              "      <td>...</td>\n",
              "      <td>...</td>\n",
              "      <td>...</td>\n",
              "      <td>...</td>\n",
              "      <td>...</td>\n",
              "      <td>...</td>\n",
              "      <td>...</td>\n",
              "      <td>...</td>\n",
              "      <td>...</td>\n",
              "      <td>...</td>\n",
              "      <td>...</td>\n",
              "      <td>...</td>\n",
              "      <td>...</td>\n",
              "      <td>...</td>\n",
              "      <td>...</td>\n",
              "      <td>...</td>\n",
              "      <td>...</td>\n",
              "      <td>...</td>\n",
              "      <td>...</td>\n",
              "      <td>...</td>\n",
              "      <td>...</td>\n",
              "    </tr>\n",
              "    <tr>\n",
              "      <th>372445</th>\n",
              "      <td>25</td>\n",
              "      <td>0</td>\n",
              "      <td>0</td>\n",
              "      <td>0</td>\n",
              "      <td>0</td>\n",
              "      <td>0</td>\n",
              "      <td>0</td>\n",
              "      <td>0</td>\n",
              "      <td>0</td>\n",
              "      <td>0</td>\n",
              "      <td>...</td>\n",
              "      <td>0</td>\n",
              "      <td>0</td>\n",
              "      <td>0</td>\n",
              "      <td>0</td>\n",
              "      <td>0</td>\n",
              "      <td>0</td>\n",
              "      <td>0</td>\n",
              "      <td>0</td>\n",
              "      <td>0</td>\n",
              "      <td>0</td>\n",
              "    </tr>\n",
              "    <tr>\n",
              "      <th>372446</th>\n",
              "      <td>25</td>\n",
              "      <td>0</td>\n",
              "      <td>0</td>\n",
              "      <td>0</td>\n",
              "      <td>0</td>\n",
              "      <td>0</td>\n",
              "      <td>0</td>\n",
              "      <td>0</td>\n",
              "      <td>0</td>\n",
              "      <td>0</td>\n",
              "      <td>...</td>\n",
              "      <td>0</td>\n",
              "      <td>0</td>\n",
              "      <td>0</td>\n",
              "      <td>0</td>\n",
              "      <td>0</td>\n",
              "      <td>0</td>\n",
              "      <td>0</td>\n",
              "      <td>0</td>\n",
              "      <td>0</td>\n",
              "      <td>0</td>\n",
              "    </tr>\n",
              "    <tr>\n",
              "      <th>372447</th>\n",
              "      <td>25</td>\n",
              "      <td>0</td>\n",
              "      <td>0</td>\n",
              "      <td>0</td>\n",
              "      <td>0</td>\n",
              "      <td>0</td>\n",
              "      <td>0</td>\n",
              "      <td>0</td>\n",
              "      <td>0</td>\n",
              "      <td>0</td>\n",
              "      <td>...</td>\n",
              "      <td>0</td>\n",
              "      <td>0</td>\n",
              "      <td>0</td>\n",
              "      <td>0</td>\n",
              "      <td>0</td>\n",
              "      <td>0</td>\n",
              "      <td>0</td>\n",
              "      <td>0</td>\n",
              "      <td>0</td>\n",
              "      <td>0</td>\n",
              "    </tr>\n",
              "    <tr>\n",
              "      <th>372448</th>\n",
              "      <td>25</td>\n",
              "      <td>0</td>\n",
              "      <td>0</td>\n",
              "      <td>0</td>\n",
              "      <td>0</td>\n",
              "      <td>0</td>\n",
              "      <td>0</td>\n",
              "      <td>0</td>\n",
              "      <td>0</td>\n",
              "      <td>0</td>\n",
              "      <td>...</td>\n",
              "      <td>0</td>\n",
              "      <td>0</td>\n",
              "      <td>0</td>\n",
              "      <td>0</td>\n",
              "      <td>0</td>\n",
              "      <td>0</td>\n",
              "      <td>0</td>\n",
              "      <td>0</td>\n",
              "      <td>0</td>\n",
              "      <td>0</td>\n",
              "    </tr>\n",
              "    <tr>\n",
              "      <th>372449</th>\n",
              "      <td>25</td>\n",
              "      <td>0</td>\n",
              "      <td>0</td>\n",
              "      <td>0</td>\n",
              "      <td>0</td>\n",
              "      <td>0</td>\n",
              "      <td>0</td>\n",
              "      <td>0</td>\n",
              "      <td>0</td>\n",
              "      <td>0</td>\n",
              "      <td>...</td>\n",
              "      <td>0</td>\n",
              "      <td>0</td>\n",
              "      <td>0</td>\n",
              "      <td>0</td>\n",
              "      <td>0</td>\n",
              "      <td>0</td>\n",
              "      <td>0</td>\n",
              "      <td>0</td>\n",
              "      <td>0</td>\n",
              "      <td>0</td>\n",
              "    </tr>\n",
              "  </tbody>\n",
              "</table>\n",
              "<p>372450 rows × 785 columns</p>\n",
              "</div>\n",
              "      <button class=\"colab-df-convert\" onclick=\"convertToInteractive('df-91b29f6a-54e4-4e62-903c-3c7292eab306')\"\n",
              "              title=\"Convert this dataframe to an interactive table.\"\n",
              "              style=\"display:none;\">\n",
              "        \n",
              "  <svg xmlns=\"http://www.w3.org/2000/svg\" height=\"24px\"viewBox=\"0 0 24 24\"\n",
              "       width=\"24px\">\n",
              "    <path d=\"M0 0h24v24H0V0z\" fill=\"none\"/>\n",
              "    <path d=\"M18.56 5.44l.94 2.06.94-2.06 2.06-.94-2.06-.94-.94-2.06-.94 2.06-2.06.94zm-11 1L8.5 8.5l.94-2.06 2.06-.94-2.06-.94L8.5 2.5l-.94 2.06-2.06.94zm10 10l.94 2.06.94-2.06 2.06-.94-2.06-.94-.94-2.06-.94 2.06-2.06.94z\"/><path d=\"M17.41 7.96l-1.37-1.37c-.4-.4-.92-.59-1.43-.59-.52 0-1.04.2-1.43.59L10.3 9.45l-7.72 7.72c-.78.78-.78 2.05 0 2.83L4 21.41c.39.39.9.59 1.41.59.51 0 1.02-.2 1.41-.59l7.78-7.78 2.81-2.81c.8-.78.8-2.07 0-2.86zM5.41 20L4 18.59l7.72-7.72 1.47 1.35L5.41 20z\"/>\n",
              "  </svg>\n",
              "      </button>\n",
              "      \n",
              "  <style>\n",
              "    .colab-df-container {\n",
              "      display:flex;\n",
              "      flex-wrap:wrap;\n",
              "      gap: 12px;\n",
              "    }\n",
              "\n",
              "    .colab-df-convert {\n",
              "      background-color: #E8F0FE;\n",
              "      border: none;\n",
              "      border-radius: 50%;\n",
              "      cursor: pointer;\n",
              "      display: none;\n",
              "      fill: #1967D2;\n",
              "      height: 32px;\n",
              "      padding: 0 0 0 0;\n",
              "      width: 32px;\n",
              "    }\n",
              "\n",
              "    .colab-df-convert:hover {\n",
              "      background-color: #E2EBFA;\n",
              "      box-shadow: 0px 1px 2px rgba(60, 64, 67, 0.3), 0px 1px 3px 1px rgba(60, 64, 67, 0.15);\n",
              "      fill: #174EA6;\n",
              "    }\n",
              "\n",
              "    [theme=dark] .colab-df-convert {\n",
              "      background-color: #3B4455;\n",
              "      fill: #D2E3FC;\n",
              "    }\n",
              "\n",
              "    [theme=dark] .colab-df-convert:hover {\n",
              "      background-color: #434B5C;\n",
              "      box-shadow: 0px 1px 3px 1px rgba(0, 0, 0, 0.15);\n",
              "      filter: drop-shadow(0px 1px 2px rgba(0, 0, 0, 0.3));\n",
              "      fill: #FFFFFF;\n",
              "    }\n",
              "  </style>\n",
              "\n",
              "      <script>\n",
              "        const buttonEl =\n",
              "          document.querySelector('#df-91b29f6a-54e4-4e62-903c-3c7292eab306 button.colab-df-convert');\n",
              "        buttonEl.style.display =\n",
              "          google.colab.kernel.accessAllowed ? 'block' : 'none';\n",
              "\n",
              "        async function convertToInteractive(key) {\n",
              "          const element = document.querySelector('#df-91b29f6a-54e4-4e62-903c-3c7292eab306');\n",
              "          const dataTable =\n",
              "            await google.colab.kernel.invokeFunction('convertToInteractive',\n",
              "                                                     [key], {});\n",
              "          if (!dataTable) return;\n",
              "\n",
              "          const docLinkHtml = 'Like what you see? Visit the ' +\n",
              "            '<a target=\"_blank\" href=https://colab.research.google.com/notebooks/data_table.ipynb>data table notebook</a>'\n",
              "            + ' to learn more about interactive tables.';\n",
              "          element.innerHTML = '';\n",
              "          dataTable['output_type'] = 'display_data';\n",
              "          await google.colab.output.renderOutput(dataTable, element);\n",
              "          const docLink = document.createElement('div');\n",
              "          docLink.innerHTML = docLinkHtml;\n",
              "          element.appendChild(docLink);\n",
              "        }\n",
              "      </script>\n",
              "    </div>\n",
              "  </div>\n",
              "  "
            ]
          },
          "metadata": {},
          "execution_count": 3
        }
      ],
      "source": [
        "# url='https://drive.google.com/file/d/1WIKPIjFiIjYwbKzeURBdiGQg-ubhCrOr/view?usp=sharing'\n",
        "# path='https://drive.google.com/uc?export=download&id='+url.split('/')[-2]\n",
        "\n",
        "dataset_df = pd.read_csv('drive/My Drive/UT/Term6/AI/CA5-P2/A_Z Handwritten Data.csv')\n",
        "dataset_df"
      ]
    },
    {
      "cell_type": "markdown",
      "source": [
        "### Question 2:\n",
        "Now we separate the data and the corresponding label of each of them and store them properly."
      ],
      "metadata": {
        "id": "nxJTEi7a9-cH"
      },
      "id": "nxJTEi7a9-cH"
    },
    {
      "cell_type": "code",
      "source": [
        "labels = dataset_df['0'] # .values.tolist()"
      ],
      "metadata": {
        "id": "4tzyaP_fEqta"
      },
      "id": "4tzyaP_fEqta",
      "execution_count": 4,
      "outputs": []
    },
    {
      "cell_type": "code",
      "source": [
        "data = dataset_df.drop(['0'], axis = 1)\n",
        "data"
      ],
      "metadata": {
        "colab": {
          "base_uri": "https://localhost:8080/",
          "height": 424
        },
        "id": "57KGp6S899d4",
        "outputId": "585b29ed-ee82-46dc-ed94-0ed890621c6f"
      },
      "id": "57KGp6S899d4",
      "execution_count": 5,
      "outputs": [
        {
          "output_type": "execute_result",
          "data": {
            "text/plain": [
              "        0.1  0.2  0.3  0.4  0.5  0.6  0.7  0.8  0.9  0.10  ...  0.639  0.640  \\\n",
              "0         0    0    0    0    0    0    0    0    0     0  ...      0      0   \n",
              "1         0    0    0    0    0    0    0    0    0     0  ...      0      0   \n",
              "2         0    0    0    0    0    0    0    0    0     0  ...      0      0   \n",
              "3         0    0    0    0    0    0    0    0    0     0  ...      0      0   \n",
              "4         0    0    0    0    0    0    0    0    0     0  ...      0      0   \n",
              "...     ...  ...  ...  ...  ...  ...  ...  ...  ...   ...  ...    ...    ...   \n",
              "372445    0    0    0    0    0    0    0    0    0     0  ...      0      0   \n",
              "372446    0    0    0    0    0    0    0    0    0     0  ...      0      0   \n",
              "372447    0    0    0    0    0    0    0    0    0     0  ...      0      0   \n",
              "372448    0    0    0    0    0    0    0    0    0     0  ...      0      0   \n",
              "372449    0    0    0    0    0    0    0    0    0     0  ...      0      0   \n",
              "\n",
              "        0.641  0.642  0.643  0.644  0.645  0.646  0.647  0.648  \n",
              "0           0      0      0      0      0      0      0      0  \n",
              "1           0      0      0      0      0      0      0      0  \n",
              "2           0      0      0      0      0      0      0      0  \n",
              "3           0      0      0      0      0      0      0      0  \n",
              "4           0      0      0      0      0      0      0      0  \n",
              "...       ...    ...    ...    ...    ...    ...    ...    ...  \n",
              "372445      0      0      0      0      0      0      0      0  \n",
              "372446      0      0      0      0      0      0      0      0  \n",
              "372447      0      0      0      0      0      0      0      0  \n",
              "372448      0      0      0      0      0      0      0      0  \n",
              "372449      0      0      0      0      0      0      0      0  \n",
              "\n",
              "[372450 rows x 784 columns]"
            ],
            "text/html": [
              "\n",
              "  <div id=\"df-5adcc782-79b8-462e-a13a-807130303764\">\n",
              "    <div class=\"colab-df-container\">\n",
              "      <div>\n",
              "<style scoped>\n",
              "    .dataframe tbody tr th:only-of-type {\n",
              "        vertical-align: middle;\n",
              "    }\n",
              "\n",
              "    .dataframe tbody tr th {\n",
              "        vertical-align: top;\n",
              "    }\n",
              "\n",
              "    .dataframe thead th {\n",
              "        text-align: right;\n",
              "    }\n",
              "</style>\n",
              "<table border=\"1\" class=\"dataframe\">\n",
              "  <thead>\n",
              "    <tr style=\"text-align: right;\">\n",
              "      <th></th>\n",
              "      <th>0.1</th>\n",
              "      <th>0.2</th>\n",
              "      <th>0.3</th>\n",
              "      <th>0.4</th>\n",
              "      <th>0.5</th>\n",
              "      <th>0.6</th>\n",
              "      <th>0.7</th>\n",
              "      <th>0.8</th>\n",
              "      <th>0.9</th>\n",
              "      <th>0.10</th>\n",
              "      <th>...</th>\n",
              "      <th>0.639</th>\n",
              "      <th>0.640</th>\n",
              "      <th>0.641</th>\n",
              "      <th>0.642</th>\n",
              "      <th>0.643</th>\n",
              "      <th>0.644</th>\n",
              "      <th>0.645</th>\n",
              "      <th>0.646</th>\n",
              "      <th>0.647</th>\n",
              "      <th>0.648</th>\n",
              "    </tr>\n",
              "  </thead>\n",
              "  <tbody>\n",
              "    <tr>\n",
              "      <th>0</th>\n",
              "      <td>0</td>\n",
              "      <td>0</td>\n",
              "      <td>0</td>\n",
              "      <td>0</td>\n",
              "      <td>0</td>\n",
              "      <td>0</td>\n",
              "      <td>0</td>\n",
              "      <td>0</td>\n",
              "      <td>0</td>\n",
              "      <td>0</td>\n",
              "      <td>...</td>\n",
              "      <td>0</td>\n",
              "      <td>0</td>\n",
              "      <td>0</td>\n",
              "      <td>0</td>\n",
              "      <td>0</td>\n",
              "      <td>0</td>\n",
              "      <td>0</td>\n",
              "      <td>0</td>\n",
              "      <td>0</td>\n",
              "      <td>0</td>\n",
              "    </tr>\n",
              "    <tr>\n",
              "      <th>1</th>\n",
              "      <td>0</td>\n",
              "      <td>0</td>\n",
              "      <td>0</td>\n",
              "      <td>0</td>\n",
              "      <td>0</td>\n",
              "      <td>0</td>\n",
              "      <td>0</td>\n",
              "      <td>0</td>\n",
              "      <td>0</td>\n",
              "      <td>0</td>\n",
              "      <td>...</td>\n",
              "      <td>0</td>\n",
              "      <td>0</td>\n",
              "      <td>0</td>\n",
              "      <td>0</td>\n",
              "      <td>0</td>\n",
              "      <td>0</td>\n",
              "      <td>0</td>\n",
              "      <td>0</td>\n",
              "      <td>0</td>\n",
              "      <td>0</td>\n",
              "    </tr>\n",
              "    <tr>\n",
              "      <th>2</th>\n",
              "      <td>0</td>\n",
              "      <td>0</td>\n",
              "      <td>0</td>\n",
              "      <td>0</td>\n",
              "      <td>0</td>\n",
              "      <td>0</td>\n",
              "      <td>0</td>\n",
              "      <td>0</td>\n",
              "      <td>0</td>\n",
              "      <td>0</td>\n",
              "      <td>...</td>\n",
              "      <td>0</td>\n",
              "      <td>0</td>\n",
              "      <td>0</td>\n",
              "      <td>0</td>\n",
              "      <td>0</td>\n",
              "      <td>0</td>\n",
              "      <td>0</td>\n",
              "      <td>0</td>\n",
              "      <td>0</td>\n",
              "      <td>0</td>\n",
              "    </tr>\n",
              "    <tr>\n",
              "      <th>3</th>\n",
              "      <td>0</td>\n",
              "      <td>0</td>\n",
              "      <td>0</td>\n",
              "      <td>0</td>\n",
              "      <td>0</td>\n",
              "      <td>0</td>\n",
              "      <td>0</td>\n",
              "      <td>0</td>\n",
              "      <td>0</td>\n",
              "      <td>0</td>\n",
              "      <td>...</td>\n",
              "      <td>0</td>\n",
              "      <td>0</td>\n",
              "      <td>0</td>\n",
              "      <td>0</td>\n",
              "      <td>0</td>\n",
              "      <td>0</td>\n",
              "      <td>0</td>\n",
              "      <td>0</td>\n",
              "      <td>0</td>\n",
              "      <td>0</td>\n",
              "    </tr>\n",
              "    <tr>\n",
              "      <th>4</th>\n",
              "      <td>0</td>\n",
              "      <td>0</td>\n",
              "      <td>0</td>\n",
              "      <td>0</td>\n",
              "      <td>0</td>\n",
              "      <td>0</td>\n",
              "      <td>0</td>\n",
              "      <td>0</td>\n",
              "      <td>0</td>\n",
              "      <td>0</td>\n",
              "      <td>...</td>\n",
              "      <td>0</td>\n",
              "      <td>0</td>\n",
              "      <td>0</td>\n",
              "      <td>0</td>\n",
              "      <td>0</td>\n",
              "      <td>0</td>\n",
              "      <td>0</td>\n",
              "      <td>0</td>\n",
              "      <td>0</td>\n",
              "      <td>0</td>\n",
              "    </tr>\n",
              "    <tr>\n",
              "      <th>...</th>\n",
              "      <td>...</td>\n",
              "      <td>...</td>\n",
              "      <td>...</td>\n",
              "      <td>...</td>\n",
              "      <td>...</td>\n",
              "      <td>...</td>\n",
              "      <td>...</td>\n",
              "      <td>...</td>\n",
              "      <td>...</td>\n",
              "      <td>...</td>\n",
              "      <td>...</td>\n",
              "      <td>...</td>\n",
              "      <td>...</td>\n",
              "      <td>...</td>\n",
              "      <td>...</td>\n",
              "      <td>...</td>\n",
              "      <td>...</td>\n",
              "      <td>...</td>\n",
              "      <td>...</td>\n",
              "      <td>...</td>\n",
              "      <td>...</td>\n",
              "    </tr>\n",
              "    <tr>\n",
              "      <th>372445</th>\n",
              "      <td>0</td>\n",
              "      <td>0</td>\n",
              "      <td>0</td>\n",
              "      <td>0</td>\n",
              "      <td>0</td>\n",
              "      <td>0</td>\n",
              "      <td>0</td>\n",
              "      <td>0</td>\n",
              "      <td>0</td>\n",
              "      <td>0</td>\n",
              "      <td>...</td>\n",
              "      <td>0</td>\n",
              "      <td>0</td>\n",
              "      <td>0</td>\n",
              "      <td>0</td>\n",
              "      <td>0</td>\n",
              "      <td>0</td>\n",
              "      <td>0</td>\n",
              "      <td>0</td>\n",
              "      <td>0</td>\n",
              "      <td>0</td>\n",
              "    </tr>\n",
              "    <tr>\n",
              "      <th>372446</th>\n",
              "      <td>0</td>\n",
              "      <td>0</td>\n",
              "      <td>0</td>\n",
              "      <td>0</td>\n",
              "      <td>0</td>\n",
              "      <td>0</td>\n",
              "      <td>0</td>\n",
              "      <td>0</td>\n",
              "      <td>0</td>\n",
              "      <td>0</td>\n",
              "      <td>...</td>\n",
              "      <td>0</td>\n",
              "      <td>0</td>\n",
              "      <td>0</td>\n",
              "      <td>0</td>\n",
              "      <td>0</td>\n",
              "      <td>0</td>\n",
              "      <td>0</td>\n",
              "      <td>0</td>\n",
              "      <td>0</td>\n",
              "      <td>0</td>\n",
              "    </tr>\n",
              "    <tr>\n",
              "      <th>372447</th>\n",
              "      <td>0</td>\n",
              "      <td>0</td>\n",
              "      <td>0</td>\n",
              "      <td>0</td>\n",
              "      <td>0</td>\n",
              "      <td>0</td>\n",
              "      <td>0</td>\n",
              "      <td>0</td>\n",
              "      <td>0</td>\n",
              "      <td>0</td>\n",
              "      <td>...</td>\n",
              "      <td>0</td>\n",
              "      <td>0</td>\n",
              "      <td>0</td>\n",
              "      <td>0</td>\n",
              "      <td>0</td>\n",
              "      <td>0</td>\n",
              "      <td>0</td>\n",
              "      <td>0</td>\n",
              "      <td>0</td>\n",
              "      <td>0</td>\n",
              "    </tr>\n",
              "    <tr>\n",
              "      <th>372448</th>\n",
              "      <td>0</td>\n",
              "      <td>0</td>\n",
              "      <td>0</td>\n",
              "      <td>0</td>\n",
              "      <td>0</td>\n",
              "      <td>0</td>\n",
              "      <td>0</td>\n",
              "      <td>0</td>\n",
              "      <td>0</td>\n",
              "      <td>0</td>\n",
              "      <td>...</td>\n",
              "      <td>0</td>\n",
              "      <td>0</td>\n",
              "      <td>0</td>\n",
              "      <td>0</td>\n",
              "      <td>0</td>\n",
              "      <td>0</td>\n",
              "      <td>0</td>\n",
              "      <td>0</td>\n",
              "      <td>0</td>\n",
              "      <td>0</td>\n",
              "    </tr>\n",
              "    <tr>\n",
              "      <th>372449</th>\n",
              "      <td>0</td>\n",
              "      <td>0</td>\n",
              "      <td>0</td>\n",
              "      <td>0</td>\n",
              "      <td>0</td>\n",
              "      <td>0</td>\n",
              "      <td>0</td>\n",
              "      <td>0</td>\n",
              "      <td>0</td>\n",
              "      <td>0</td>\n",
              "      <td>...</td>\n",
              "      <td>0</td>\n",
              "      <td>0</td>\n",
              "      <td>0</td>\n",
              "      <td>0</td>\n",
              "      <td>0</td>\n",
              "      <td>0</td>\n",
              "      <td>0</td>\n",
              "      <td>0</td>\n",
              "      <td>0</td>\n",
              "      <td>0</td>\n",
              "    </tr>\n",
              "  </tbody>\n",
              "</table>\n",
              "<p>372450 rows × 784 columns</p>\n",
              "</div>\n",
              "      <button class=\"colab-df-convert\" onclick=\"convertToInteractive('df-5adcc782-79b8-462e-a13a-807130303764')\"\n",
              "              title=\"Convert this dataframe to an interactive table.\"\n",
              "              style=\"display:none;\">\n",
              "        \n",
              "  <svg xmlns=\"http://www.w3.org/2000/svg\" height=\"24px\"viewBox=\"0 0 24 24\"\n",
              "       width=\"24px\">\n",
              "    <path d=\"M0 0h24v24H0V0z\" fill=\"none\"/>\n",
              "    <path d=\"M18.56 5.44l.94 2.06.94-2.06 2.06-.94-2.06-.94-.94-2.06-.94 2.06-2.06.94zm-11 1L8.5 8.5l.94-2.06 2.06-.94-2.06-.94L8.5 2.5l-.94 2.06-2.06.94zm10 10l.94 2.06.94-2.06 2.06-.94-2.06-.94-.94-2.06-.94 2.06-2.06.94z\"/><path d=\"M17.41 7.96l-1.37-1.37c-.4-.4-.92-.59-1.43-.59-.52 0-1.04.2-1.43.59L10.3 9.45l-7.72 7.72c-.78.78-.78 2.05 0 2.83L4 21.41c.39.39.9.59 1.41.59.51 0 1.02-.2 1.41-.59l7.78-7.78 2.81-2.81c.8-.78.8-2.07 0-2.86zM5.41 20L4 18.59l7.72-7.72 1.47 1.35L5.41 20z\"/>\n",
              "  </svg>\n",
              "      </button>\n",
              "      \n",
              "  <style>\n",
              "    .colab-df-container {\n",
              "      display:flex;\n",
              "      flex-wrap:wrap;\n",
              "      gap: 12px;\n",
              "    }\n",
              "\n",
              "    .colab-df-convert {\n",
              "      background-color: #E8F0FE;\n",
              "      border: none;\n",
              "      border-radius: 50%;\n",
              "      cursor: pointer;\n",
              "      display: none;\n",
              "      fill: #1967D2;\n",
              "      height: 32px;\n",
              "      padding: 0 0 0 0;\n",
              "      width: 32px;\n",
              "    }\n",
              "\n",
              "    .colab-df-convert:hover {\n",
              "      background-color: #E2EBFA;\n",
              "      box-shadow: 0px 1px 2px rgba(60, 64, 67, 0.3), 0px 1px 3px 1px rgba(60, 64, 67, 0.15);\n",
              "      fill: #174EA6;\n",
              "    }\n",
              "\n",
              "    [theme=dark] .colab-df-convert {\n",
              "      background-color: #3B4455;\n",
              "      fill: #D2E3FC;\n",
              "    }\n",
              "\n",
              "    [theme=dark] .colab-df-convert:hover {\n",
              "      background-color: #434B5C;\n",
              "      box-shadow: 0px 1px 3px 1px rgba(0, 0, 0, 0.15);\n",
              "      filter: drop-shadow(0px 1px 2px rgba(0, 0, 0, 0.3));\n",
              "      fill: #FFFFFF;\n",
              "    }\n",
              "  </style>\n",
              "\n",
              "      <script>\n",
              "        const buttonEl =\n",
              "          document.querySelector('#df-5adcc782-79b8-462e-a13a-807130303764 button.colab-df-convert');\n",
              "        buttonEl.style.display =\n",
              "          google.colab.kernel.accessAllowed ? 'block' : 'none';\n",
              "\n",
              "        async function convertToInteractive(key) {\n",
              "          const element = document.querySelector('#df-5adcc782-79b8-462e-a13a-807130303764');\n",
              "          const dataTable =\n",
              "            await google.colab.kernel.invokeFunction('convertToInteractive',\n",
              "                                                     [key], {});\n",
              "          if (!dataTable) return;\n",
              "\n",
              "          const docLinkHtml = 'Like what you see? Visit the ' +\n",
              "            '<a target=\"_blank\" href=https://colab.research.google.com/notebooks/data_table.ipynb>data table notebook</a>'\n",
              "            + ' to learn more about interactive tables.';\n",
              "          element.innerHTML = '';\n",
              "          dataTable['output_type'] = 'display_data';\n",
              "          await google.colab.output.renderOutput(dataTable, element);\n",
              "          const docLink = document.createElement('div');\n",
              "          docLink.innerHTML = docLinkHtml;\n",
              "          element.appendChild(docLink);\n",
              "        }\n",
              "      </script>\n",
              "    </div>\n",
              "  </div>\n",
              "  "
            ]
          },
          "metadata": {},
          "execution_count": 5
        }
      ]
    },
    {
      "cell_type": "markdown",
      "id": "709eb228",
      "metadata": {
        "id": "709eb228"
      },
      "source": [
        "### Question 3:\n",
        "Now resize the images to $28 * 28$. To do this, we use the `resize` function"
      ]
    },
    {
      "cell_type": "code",
      "execution_count": 6,
      "id": "c9bf42b5",
      "metadata": {
        "id": "c9bf42b5"
      },
      "outputs": [],
      "source": [
        "# images = data.values.tolist()\n",
        "\n",
        "\n",
        "# # X_train = [np.resize(image,(25 , 25)) for image in X_train]\n",
        "# # X_test = [np.resize(image,(25 , 25)) for image in X_test]\n",
        "\n",
        "# X_train = [cv2.resize(image, dsize=(25 , 25), interpolation=cv2.INTER_CUBIC) for image in X_train]\n",
        "# X_test = [cv2.resize(image, dsize=(25 , 25), interpolation=cv2.INTER_CUBIC) for image in X_test]\n",
        "\n",
        "# image = X_train[random.randint(0 , len(X_train) - 1)]\n",
        "\n",
        "# plt.figure(figsize = (2 , 2))\n",
        "# plt.imshow(image)\n",
        "# plt.title(\"Random Image From data\")\n",
        "# plt.show()\n",
        "\n",
        "# print(\"\\nMinimum value in image: \" + str(np.amin(image)))\n",
        "# print(\"Maximum value in image: \" + str(np.amax(image)))"
      ]
    },
    {
      "cell_type": "markdown",
      "source": [
        "### Question 4:\n",
        "In this part, we print the number of data read and the number of available classes."
      ],
      "metadata": {
        "id": "fKcZhL5hD8wc"
      },
      "id": "fKcZhL5hD8wc"
    },
    {
      "cell_type": "code",
      "source": [
        "print(\"number of data read:\", data.shape[0])\n",
        "print(\"number of available classes:\", labels.nunique())"
      ],
      "metadata": {
        "colab": {
          "base_uri": "https://localhost:8080/"
        },
        "id": "1DT62b8fD9C3",
        "outputId": "4150cccd-2bd6-4b02-9587-09b328ba61e8"
      },
      "id": "1DT62b8fD9C3",
      "execution_count": 7,
      "outputs": [
        {
          "output_type": "stream",
          "name": "stdout",
          "text": [
            "number of data read: 372450\n",
            "number of available classes: 26\n"
          ]
        }
      ]
    },
    {
      "cell_type": "markdown",
      "id": "8a4663d8",
      "metadata": {
        "id": "8a4663d8"
      },
      "source": [
        "### Question 5:\n",
        "Now calculate the number of images in each category  and draw a bar chart for them."
      ]
    },
    {
      "cell_type": "code",
      "execution_count": 8,
      "id": "19426c0c",
      "metadata": {
        "colab": {
          "base_uri": "https://localhost:8080/",
          "height": 681
        },
        "id": "19426c0c",
        "outputId": "103fe798-0604-4b8c-caed-c4b0d5bd9473"
      },
      "outputs": [
        {
          "output_type": "display_data",
          "data": {
            "text/plain": [
              "<Figure size 1080x720 with 1 Axes>"
            ],
            "image/png": "[encoded data removed]"
          },
          "metadata": {
            "needs_background": "light"
          }
        }
      ],
      "source": [
        "fig = plt.figure(figsize=(15, 10))\n",
        "plt.hist((labels), label=['data'])\n",
        "plt.xlabel('Labels', fontsize = 12)\n",
        "plt.ylabel('Image Counts', fontsize = 15)\n",
        "plt.suptitle('Number of Images Per Class', fontsize = 15)\n",
        "plt.legend()\n",
        "plt.xticks(range(0,27))\n",
        "plt.show()"
      ]
    },
    {
      "cell_type": "markdown",
      "id": "8018202b",
      "metadata": {
        "id": "8018202b"
      },
      "source": [
        "### Question 6:\n",
        "In this part, we select and display an image of each class in the train data set. For each image, we display its type along with the image."
      ]
    },
    {
      "cell_type": "code",
      "execution_count": 9,
      "id": "1cd5ce77",
      "metadata": {
        "colab": {
          "base_uri": "https://localhost:8080/",
          "height": 1000
        },
        "id": "1cd5ce77",
        "outputId": "3bffe66c-e7fe-492e-9b58-a85918a3a72c"
      },
      "outputs": [
        {
          "output_type": "stream",
          "name": "stdout",
          "text": [
            "========== CLASS No. 0 ==========\n"
          ]
        },
        {
          "output_type": "display_data",
          "data": {
            "text/plain": [
              "<Figure size 432x288 with 1 Axes>"
            ],
            "image/png": "[encoded data removed]"
          },
          "metadata": {
            "needs_background": "light"
          }
        },
        {
          "output_type": "stream",
          "name": "stdout",
          "text": [
            "========== CLASS No. 1 ==========\n"
          ]
        },
        {
          "output_type": "display_data",
          "data": {
            "text/plain": [
              "<Figure size 432x288 with 1 Axes>"
            ],
            "image/png": "[encoded data removed]"
          },
          "metadata": {
            "needs_background": "light"
          }
        },
        {
          "output_type": "stream",
          "name": "stdout",
          "text": [
            "========== CLASS No. 2 ==========\n"
          ]
        },
        {
          "output_type": "display_data",
          "data": {
            "text/plain": [
              "<Figure size 432x288 with 1 Axes>"
            ],
            "image/png": "[encoded data removed]"
          },
          "metadata": {
            "needs_background": "light"
          }
        },
        {
          "output_type": "stream",
          "name": "stdout",
          "text": [
            "========== CLASS No. 3 ==========\n"
          ]
        },
        {
          "output_type": "display_data",
          "data": {
            "text/plain": [
              "<Figure size 432x288 with 1 Axes>"
            ],
            "image/png": "[encoded data removed]"
          },
          "metadata": {
            "needs_background": "light"
          }
        },
        {
          "output_type": "stream",
          "name": "stdout",
          "text": [
            "========== CLASS No. 4 ==========\n"
          ]
        },
        {
          "output_type": "display_data",
          "data": {
            "text/plain": [
              "<Figure size 432x288 with 1 Axes>"
            ],
            "image/png": "[encoded data removed]"
          },
          "metadata": {
            "needs_background": "light"
          }
        },
        {
          "output_type": "stream",
          "name": "stdout",
          "text": [
            "========== CLASS No. 5 ==========\n"
          ]
        },
        {
          "output_type": "display_data",
          "data": {
            "text/plain": [
              "<Figure size 432x288 with 1 Axes>"
            ],
            "image/png": "[encoded data removed]"
          },
          "metadata": {
            "needs_background": "light"
          }
        },
        {
          "output_type": "stream",
          "name": "stdout",
          "text": [
            "========== CLASS No. 6 ==========\n"
          ]
        },
        {
          "output_type": "display_data",
          "data": {
            "text/plain": [
              "<Figure size 432x288 with 1 Axes>"
            ],
            "image/png": "[encoded data removed]"
          },
          "metadata": {
            "needs_background": "light"
          }
        },
        {
          "output_type": "stream",
          "name": "stdout",
          "text": [
            "========== CLASS No. 7 ==========\n"
          ]
        },
        {
          "output_type": "display_data",
          "data": {
            "text/plain": [
              "<Figure size 432x288 with 1 Axes>"
            ],
            "image/png": "[encoded data removed]"
          },
          "metadata": {
            "needs_background": "light"
          }
        },
        {
          "output_type": "stream",
          "name": "stdout",
          "text": [
            "========== CLASS No. 8 ==========\n"
          ]
        },
        {
          "output_type": "display_data",
          "data": {
            "text/plain": [
              "<Figure size 432x288 with 1 Axes>"
            ],
            "image/png": "[encoded data removed]"
          },
          "metadata": {
            "needs_background": "light"
          }
        },
        {
          "output_type": "stream",
          "name": "stdout",
          "text": [
            "========== CLASS No. 9 ==========\n"
          ]
        },
        {
          "output_type": "display_data",
          "data": {
            "text/plain": [
              "<Figure size 432x288 with 1 Axes>"
            ],
            "image/png": "[encoded data removed]"
          },
          "metadata": {
            "needs_background": "light"
          }
        },
        {
          "output_type": "stream",
          "name": "stdout",
          "text": [
            "========== CLASS No. 10 ==========\n"
          ]
        },
        {
          "output_type": "display_data",
          "data": {
            "text/plain": [
              "<Figure size 432x288 with 1 Axes>"
            ],
            "image/png": "[encoded data removed]"
          },
          "metadata": {
            "needs_background": "light"
          }
        },
        {
          "output_type": "stream",
          "name": "stdout",
          "text": [
            "========== CLASS No. 11 ==========\n"
          ]
        },
        {
          "output_type": "display_data",
          "data": {
            "text/plain": [
              "<Figure size 432x288 with 1 Axes>"
            ],
            "image/png": "[encoded data removed]"
          },
          "metadata": {
            "needs_background": "light"
          }
        },
        {
          "output_type": "stream",
          "name": "stdout",
          "text": [
            "========== CLASS No. 12 ==========\n"
          ]
        },
        {
          "output_type": "display_data",
          "data": {
            "text/plain": [
              "<Figure size 432x288 with 1 Axes>"
            ],
            "image/png": "[encoded data removed]"
          },
          "metadata": {
            "needs_background": "light"
          }
        },
        {
          "output_type": "stream",
          "name": "stdout",
          "text": [
            "========== CLASS No. 13 ==========\n"
          ]
        },
        {
          "output_type": "display_data",
          "data": {
            "text/plain": [
              "<Figure size 432x288 with 1 Axes>"
            ],
            "image/png": "[encoded data removed]"
          },
          "metadata": {
            "needs_background": "light"
          }
        },
        {
          "output_type": "stream",
          "name": "stdout",
          "text": [
            "========== CLASS No. 14 ==========\n"
          ]
        },
        {
          "output_type": "display_data",
          "data": {
            "text/plain": [
              "<Figure size 432x288 with 1 Axes>"
            ],
            "image/png": "[encoded data removed]"
          },
          "metadata": {
            "needs_background": "light"
          }
        },
        {
          "output_type": "stream",
          "name": "stdout",
          "text": [
            "========== CLASS No. 15 ==========\n"
          ]
        },
        {
          "output_type": "display_data",
          "data": {
            "text/plain": [
              "<Figure size 432x288 with 1 Axes>"
            ],
            "image/png": "[encoded data removed]"
          },
          "metadata": {
            "needs_background": "light"
          }
        },
        {
          "output_type": "stream",
          "name": "stdout",
          "text": [
            "========== CLASS No. 16 ==========\n"
          ]
        },
        {
          "output_type": "display_data",
          "data": {
            "text/plain": [
              "<Figure size 432x288 with 1 Axes>"
            ],
            "image/png": "[encoded data removed]"
          },
          "metadata": {
            "needs_background": "light"
          }
        },
        {
          "output_type": "stream",
          "name": "stdout",
          "text": [
            "========== CLASS No. 17 ==========\n"
          ]
        },
        {
          "output_type": "display_data",
          "data": {
            "text/plain": [
              "<Figure size 432x288 with 1 Axes>"
            ],
            "image/png": "[encoded data removed]"
          },
          "metadata": {
            "needs_background": "light"
          }
        },
        {
          "output_type": "stream",
          "name": "stdout",
          "text": [
            "========== CLASS No. 18 ==========\n"
          ]
        },
        {
          "output_type": "display_data",
          "data": {
            "text/plain": [
              "<Figure size 432x288 with 1 Axes>"
            ],
            "image/png": "[encoded data removed]"
          },
          "metadata": {
            "needs_background": "light"
          }
        },
        {
          "output_type": "stream",
          "name": "stdout",
          "text": [
            "========== CLASS No. 19 ==========\n"
          ]
        },
        {
          "output_type": "display_data",
          "data": {
            "text/plain": [
              "<Figure size 432x288 with 1 Axes>"
            ],
            "image/png": "[encoded data removed]"
          },
          "metadata": {
            "needs_background": "light"
          }
        },
        {
          "output_type": "stream",
          "name": "stdout",
          "text": [
            "========== CLASS No. 20 ==========\n"
          ]
        },
        {
          "output_type": "display_data",
          "data": {
            "text/plain": [
              "<Figure size 432x288 with 1 Axes>"
            ],
            "image/png": "[encoded data removed]"
          },
          "metadata": {
            "needs_background": "light"
          }
        },
        {
          "output_type": "stream",
          "name": "stdout",
          "text": [
            "========== CLASS No. 21 ==========\n"
          ]
        },
        {
          "output_type": "display_data",
          "data": {
            "text/plain": [
              "<Figure size 432x288 with 1 Axes>"
            ],
            "image/png": "[encoded data removed]"
          },
          "metadata": {
            "needs_background": "light"
          }
        },
        {
          "output_type": "stream",
          "name": "stdout",
          "text": [
            "========== CLASS No. 22 ==========\n"
          ]
        },
        {
          "output_type": "display_data",
          "data": {
            "text/plain": [
              "<Figure size 432x288 with 1 Axes>"
            ],
            "image/png": "[encoded data removed]"
          },
          "metadata": {
            "needs_background": "light"
          }
        },
        {
          "output_type": "stream",
          "name": "stdout",
          "text": [
            "========== CLASS No. 23 ==========\n"
          ]
        },
        {
          "output_type": "display_data",
          "data": {
            "text/plain": [
              "<Figure size 432x288 with 1 Axes>"
            ],
            "image/png": "[encoded data removed]"
          },
          "metadata": {
            "needs_background": "light"
          }
        },
        {
          "output_type": "stream",
          "name": "stdout",
          "text": [
            "========== CLASS No. 24 ==========\n"
          ]
        },
        {
          "output_type": "display_data",
          "data": {
            "text/plain": [
              "<Figure size 432x288 with 1 Axes>"
            ],
            "image/png": "[encoded data removed]"
          },
          "metadata": {
            "needs_background": "light"
          }
        },
        {
          "output_type": "stream",
          "name": "stdout",
          "text": [
            "========== CLASS No. 25 ==========\n"
          ]
        },
        {
          "output_type": "display_data",
          "data": {
            "text/plain": [
              "<Figure size 432x288 with 1 Axes>"
            ],
            "image/png": "[encoded data removed]"
          },
          "metadata": {
            "needs_background": "light"
          }
        }
      ],
      "source": [
        "for i in range(26):\n",
        "    dd = dataset_df[dataset_df['0']==i].iloc[1]\n",
        "    x = dd[1:].values\n",
        "    x = x.reshape((28, 28))\n",
        "    print(\"========== CLASS No.\",str(i),\"==========\")\n",
        "    plt.imshow(x, cmap='binary')\n",
        "    plt.show()\n",
        "\n",
        "# for i in range(0,10):\n",
        "#     index = 0\n",
        "#     while Y_train[index] != i:\n",
        "#         index += 1\n",
        "#     image = X_train[index]\n",
        "#     print(\"========== CLASS No.\",str(i),\"==========\")\n",
        "#     plt.figure(figsize = (2 , 2))\n",
        "#     plt.imshow(image)\n",
        "#     plt.title(i)\n",
        "#     plt.show()"
      ]
    },
    {
      "cell_type": "markdown",
      "id": "15cd7b7d",
      "metadata": {
        "id": "15cd7b7d"
      },
      "source": [
        "### Question 7:\n",
        "Data splitting is an important phase, If we use whole data for both train and test our mesurments may not be precise,\n",
        "because there may be overfitting on train data.\n",
        "So we can split our data to train/test to handle this challenge, but again there is another problem.\n",
        "First of all we have to divide our dataset to two parts trainset and testset so by using `train_test_split` method of `sklearn` and setting `test_size` we'll determine what percentage of our data is for test. For the division `train_test_split` fucntions from `sklearn.model_selection` is used which returns 4 dataset likes. Two are for the training data and two are for test data. And the dependent variable which here is the `type` feature.\n",
        "\n",
        "The `P` ratio depends on lots of metrics but two important metrics to mention are the number of rows in our data and our data itself.\n",
        "Assume that we have extremely small data in this situations small p may effect our learning accuracy.\n",
        "In larger datasets we can do the split with more confidence. After reading some documents online I came to the understanding that 10% to 30% is a good percentage for test size and by experimenting different values I decided to use the value 20%.\n",
        "\n",
        "Another important note to mention is randomness. We must shuffle our data so there is no learning from the sequence of data itself.\n",
        "`random_state` is for getting the same set of data each time so that we don't get different results, meaning it won't give us random data each time. `random_state` is like the seed that we set for random. "
      ]
    },
    {
      "cell_type": "code",
      "execution_count": 10,
      "id": "f802b36b",
      "metadata": {
        "id": "f802b36b"
      },
      "outputs": [],
      "source": [
        "X_train, X_test, Y_train, Y_test = train_test_split(data , labels , test_size = 0.20 , random_state = 42)"
      ]
    },
    {
      "cell_type": "markdown",
      "source": [
        "### Question 8:\n",
        "Some algorithms can work with categorical data directly.\n",
        "\n",
        "For example, a decision tree can be learned directly from categorical data with no data transform required (this depends on the specific implementation).\n",
        "\n",
        "Many machine learning algorithms cannot operate on label data directly. They require all input variables and output variables to be numeric.\n",
        "\n",
        "In general, this is mostly a constraint of the efficient implementation of machine learning algorithms rather than hard limitations on the algorithms themselves.\n",
        "\n",
        "This means that categorical data must be converted to a numerical form. If the categorical variable is an output variable, you may also want to convert predictions by the model back into a categorical form in order to present them or use them in some application.\n",
        "\n",
        "There are different ways for handling categirical data.\n",
        "* <b>Label Encoders:</b> Assigining numbers to each categorical value. \n",
        "* <b>One Hot Encoding:</b>  The basic strategy is to convert each category value into a new column and assigns a 1 or 0 (True/False) value to the column. This has the benefit of not weighting a value improperly but does have the downside of adding more columns to the data set. There are also other ways but here we choose to apply one Hot-Encode to categorical variables.\n",
        "* <b>Ordinal Encoding:</b> We use this categorical data encoding technique when the categorical feature is ordinal. In this case, retaining the order is important. Hence encoding should reflect the sequence.\n",
        "\n",
        "Label Encoders aren't a good option when we have no particular ordering in our categories. In these cases, we can use One Hot Encoding which takes a lot of memory since it is adding a new column for each new category. For categorical variables where no such ordinal relationship exists, the integer encoding is not enough. In this case, a one-hot encoding can be applied to the integer representation. This is where the integer encoded variable is removed and a new binary variable is added for each unique integer value."
      ],
      "metadata": {
        "id": "eOW9u-OoIDgi"
      },
      "id": "eOW9u-OoIDgi"
    },
    {
      "cell_type": "code",
      "source": [
        "brand_one_hot = pd.get_dummies(Y_train)\n",
        "Y_train = pd.concat([Y_train, brand_one_hot], axis = 1)\n",
        "Y_train = Y_train.iloc[: , 1:]\n",
        "\n",
        "brand_one_hot = pd.get_dummies(Y_test)\n",
        "Y_test = pd.concat([Y_test, brand_one_hot], axis = 1)\n",
        "Y_test = Y_test.iloc[: , 1:]\n",
        "\n",
        "# brand_one_hot = pd.get_dummies(labels)\n",
        "# labels = pd.concat([labels, brand_one_hot], axis = 1)\n",
        "# labels = labels.iloc[: , 1:]\n",
        "# labels"
      ],
      "metadata": {
        "id": "NyGzp7jMIDyQ"
      },
      "id": "NyGzp7jMIDyQ",
      "execution_count": 11,
      "outputs": []
    },
    {
      "cell_type": "markdown",
      "id": "d341eceb",
      "metadata": {
        "id": "d341eceb"
      },
      "source": [
        "## Phase 2: Neural network design"
      ]
    },
    {
      "cell_type": "code",
      "source": [
        "def create_nn_model():\n",
        "    # input = keras.layers.Input(shape=(28,28,1))\n",
        "    input = keras.layers.Input(shape=(784))\n",
        "    output = keras.layers.Flatten()(input)\n",
        "    output = keras.layers.Dense(1024, activation='relu')(output)\n",
        "    output = keras.layers.Dense(512, activation='relu')(output)\n",
        "    output = keras.layers.Dense(26, activation='softmax')(output)\n",
        "    model = keras.models.Model(inputs=input, outputs=output)\n",
        "    model.compile(optimizer=optimizers.SGD(learning_rate=0.01), loss='categorical_crossentropy', metrics=['accuracy'])\n",
        "    return model"
      ],
      "metadata": {
        "id": "9BsomD0JOpxm"
      },
      "id": "9BsomD0JOpxm",
      "execution_count": 12,
      "outputs": []
    },
    {
      "cell_type": "code",
      "source": [
        "model = create_nn_model()\n",
        "model.summary()"
      ],
      "metadata": {
        "colab": {
          "base_uri": "https://localhost:8080/"
        },
        "id": "JQZG3G21PSOV",
        "outputId": "fc31574e-ba9e-4ec4-ad46-893adb2bd62e"
      },
      "id": "JQZG3G21PSOV",
      "execution_count": 13,
      "outputs": [
        {
          "output_type": "stream",
          "name": "stdout",
          "text": [
            "Model: \"model\"\n",
            "_________________________________________________________________\n",
            " Layer (type)                Output Shape              Param #   \n",
            "=================================================================\n",
            " input_1 (InputLayer)        [(None, 784)]             0         \n",
            "                                                                 \n",
            " flatten (Flatten)           (None, 784)               0         \n",
            "                                                                 \n",
            " dense (Dense)               (None, 1024)              803840    \n",
            "                                                                 \n",
            " dense_1 (Dense)             (None, 512)               524800    \n",
            "                                                                 \n",
            " dense_2 (Dense)             (None, 26)                13338     \n",
            "                                                                 \n",
            "=================================================================\n",
            "Total params: 1,341,978\n",
            "Trainable params: 1,341,978\n",
            "Non-trainable params: 0\n",
            "_________________________________________________________________\n"
          ]
        }
      ]
    },
    {
      "cell_type": "markdown",
      "source": [
        "### Model analysis\n",
        "`summary()` is used to show each layers parameters. summary() will show useful information such as layers and their order in the model, output shape of each layer , number of parameters(weights) in each layer and total number of parameters(weights) in the model.\n",
        "\n",
        "For the network above first we have flatten the input, so (28, 28) will become (1, 784) which we will show as 784, then we have 1024 neurons in the first layer. So we had 784 neurons in the previous layer and 2048 in this layer. Also we have a bias vector with size of number of the neurons in this layer. Finally putting all of this together we will have the following number of parameters for this layer:\n",
        "\n",
        "$ 784 * 1024 + 1024 = 803840 $\n",
        "\n",
        "The number above is equal to the number given by `summary()`.\n",
        "\n",
        "The calculations for the next layer is exactly the same except the layers will change. 784 will change to 1024 and 1024 will change to 512 also in the new layer the bias size will be 512 so we'll have the following number of parameters for the second hidden layer:\n",
        "\n",
        "$ 1024 * 512 + 512 = 524800 $\n",
        "\n",
        "Like before the number above is equal to the corresponding number given by `summary()`.\n",
        "\n",
        "For the ouput layer the calculations is exactly the same as before but some number's will change as following:\n",
        "\n",
        "$ 512 * 26 + 26 = 13338 $\n",
        "\n",
        "Like before the number above is equal to the corresponding number given by `summary()`.\n",
        "\n",
        "All the parameters are calculated so in total we'll have:\n",
        "\n",
        "$ 803840 + 524800 + 13338 = 1341978 $\n",
        "\n",
        "Also the same as `summary()`."
      ],
      "metadata": {
        "id": "sBcNZbN7RDMp"
      },
      "id": "sBcNZbN7RDMp"
    },
    {
      "cell_type": "code",
      "source": [
        "utils.plot_model(model, show_shapes=True, expand_nested=True)"
      ],
      "metadata": {
        "colab": {
          "base_uri": "https://localhost:8080/",
          "height": 533
        },
        "id": "wmpOQ5p9QaF9",
        "outputId": "bbb0d5ea-cac4-49bc-9ced-d4196bb88f9a"
      },
      "id": "wmpOQ5p9QaF9",
      "execution_count": 14,
      "outputs": [
        {
          "output_type": "execute_result",
          "data": {
            "text/plain": [
              "<IPython.core.display.Image object>"
            ],
            "image/png": "[encoded data removed]"
          },
          "metadata": {},
          "execution_count": 14
        }
      ]
    },
    {
      "cell_type": "code",
      "source": [
        "with tf.device('/device:GPU:0'):\n",
        "  history = model.fit(X_train, Y_train , epochs = 10, batch_size=32)"
      ],
      "metadata": {
        "colab": {
          "base_uri": "https://localhost:8080/",
          "height": 397
        },
        "id": "iPaTFKDRUDmt",
        "outputId": "9d58b2b2-8659-4097-f054-988d9e7bfd4f"
      },
      "id": "iPaTFKDRUDmt",
      "execution_count": 17,
      "outputs": [
        {
          "output_type": "stream",
          "name": "stdout",
          "text": [
            "/bin/bash: del: command not found\n",
            "Epoch 1/10\n",
            "1988/9312 [=====>........................] - ETA: 1:58 - loss: nan - accuracy: 0.0367"
          ]
        },
        {
          "output_type": "error",
          "ename": "KeyboardInterrupt",
          "evalue": "ignored",
          "traceback": [
            "\u001b[0;31m---------------------------------------------------------------------------\u001b[0m",
            "\u001b[0;31mKeyboardInterrupt\u001b[0m                         Traceback (most recent call last)",
            "\u001b[0;32m<ipython-input-17-10bf8732d2b2>\u001b[0m in \u001b[0;36m<module>\u001b[0;34m()\u001b[0m\n\u001b[1;32m      2\u001b[0m \u001b[0;34m\u001b[0m\u001b[0m\n\u001b[1;32m      3\u001b[0m \u001b[0;32mwith\u001b[0m \u001b[0mtf\u001b[0m\u001b[0;34m.\u001b[0m\u001b[0mdevice\u001b[0m\u001b[0;34m(\u001b[0m\u001b[0;34m'/device:GPU:0'\u001b[0m\u001b[0;34m)\u001b[0m\u001b[0;34m:\u001b[0m\u001b[0;34m\u001b[0m\u001b[0;34m\u001b[0m\u001b[0m\n\u001b[0;32m----> 4\u001b[0;31m   \u001b[0mhistory\u001b[0m \u001b[0;34m=\u001b[0m \u001b[0mmodel\u001b[0m\u001b[0;34m.\u001b[0m\u001b[0mfit\u001b[0m\u001b[0;34m(\u001b[0m\u001b[0mX_train\u001b[0m\u001b[0;34m,\u001b[0m \u001b[0mY_train\u001b[0m \u001b[0;34m,\u001b[0m \u001b[0mepochs\u001b[0m \u001b[0;34m=\u001b[0m \u001b[0;36m10\u001b[0m\u001b[0;34m,\u001b[0m \u001b[0mbatch_size\u001b[0m\u001b[0;34m=\u001b[0m\u001b[0;36m32\u001b[0m\u001b[0;34m)\u001b[0m\u001b[0;34m\u001b[0m\u001b[0;34m\u001b[0m\u001b[0m\n\u001b[0m",
            "\u001b[0;32m/usr/local/lib/python3.7/dist-packages/keras/utils/traceback_utils.py\u001b[0m in \u001b[0;36merror_handler\u001b[0;34m(*args, **kwargs)\u001b[0m\n\u001b[1;32m     62\u001b[0m     \u001b[0mfiltered_tb\u001b[0m \u001b[0;34m=\u001b[0m \u001b[0;32mNone\u001b[0m\u001b[0;34m\u001b[0m\u001b[0;34m\u001b[0m\u001b[0m\n\u001b[1;32m     63\u001b[0m     \u001b[0;32mtry\u001b[0m\u001b[0;34m:\u001b[0m\u001b[0;34m\u001b[0m\u001b[0;34m\u001b[0m\u001b[0m\n\u001b[0;32m---> 64\u001b[0;31m       \u001b[0;32mreturn\u001b[0m \u001b[0mfn\u001b[0m\u001b[0;34m(\u001b[0m\u001b[0;34m*\u001b[0m\u001b[0margs\u001b[0m\u001b[0;34m,\u001b[0m \u001b[0;34m**\u001b[0m\u001b[0mkwargs\u001b[0m\u001b[0;34m)\u001b[0m\u001b[0;34m\u001b[0m\u001b[0;34m\u001b[0m\u001b[0m\n\u001b[0m\u001b[1;32m     65\u001b[0m     \u001b[0;32mexcept\u001b[0m \u001b[0mException\u001b[0m \u001b[0;32mas\u001b[0m \u001b[0me\u001b[0m\u001b[0;34m:\u001b[0m  \u001b[0;31m# pylint: disable=broad-except\u001b[0m\u001b[0;34m\u001b[0m\u001b[0;34m\u001b[0m\u001b[0m\n\u001b[1;32m     66\u001b[0m       \u001b[0mfiltered_tb\u001b[0m \u001b[0;34m=\u001b[0m \u001b[0m_process_traceback_frames\u001b[0m\u001b[0;34m(\u001b[0m\u001b[0me\u001b[0m\u001b[0;34m.\u001b[0m\u001b[0m__traceback__\u001b[0m\u001b[0;34m)\u001b[0m\u001b[0;34m\u001b[0m\u001b[0;34m\u001b[0m\u001b[0m\n",
            "\u001b[0;32m/usr/local/lib/python3.7/dist-packages/keras/engine/training.py\u001b[0m in \u001b[0;36mfit\u001b[0;34m(self, x, y, batch_size, epochs, verbose, callbacks, validation_split, validation_data, shuffle, class_weight, sample_weight, initial_epoch, steps_per_epoch, validation_steps, validation_batch_size, validation_freq, max_queue_size, workers, use_multiprocessing)\u001b[0m\n\u001b[1;32m   1374\u001b[0m         \u001b[0mcallbacks\u001b[0m\u001b[0;34m.\u001b[0m\u001b[0mon_epoch_begin\u001b[0m\u001b[0;34m(\u001b[0m\u001b[0mepoch\u001b[0m\u001b[0;34m)\u001b[0m\u001b[0;34m\u001b[0m\u001b[0;34m\u001b[0m\u001b[0m\n\u001b[1;32m   1375\u001b[0m         \u001b[0;32mwith\u001b[0m \u001b[0mdata_handler\u001b[0m\u001b[0;34m.\u001b[0m\u001b[0mcatch_stop_iteration\u001b[0m\u001b[0;34m(\u001b[0m\u001b[0;34m)\u001b[0m\u001b[0;34m:\u001b[0m\u001b[0;34m\u001b[0m\u001b[0;34m\u001b[0m\u001b[0m\n\u001b[0;32m-> 1376\u001b[0;31m           \u001b[0;32mfor\u001b[0m \u001b[0mstep\u001b[0m \u001b[0;32min\u001b[0m \u001b[0mdata_handler\u001b[0m\u001b[0;34m.\u001b[0m\u001b[0msteps\u001b[0m\u001b[0;34m(\u001b[0m\u001b[0;34m)\u001b[0m\u001b[0;34m:\u001b[0m\u001b[0;34m\u001b[0m\u001b[0;34m\u001b[0m\u001b[0m\n\u001b[0m\u001b[1;32m   1377\u001b[0m             with tf.profiler.experimental.Trace(\n\u001b[1;32m   1378\u001b[0m                 \u001b[0;34m'train'\u001b[0m\u001b[0;34m,\u001b[0m\u001b[0;34m\u001b[0m\u001b[0;34m\u001b[0m\u001b[0m\n",
            "\u001b[0;32m/usr/local/lib/python3.7/dist-packages/keras/engine/data_adapter.py\u001b[0m in \u001b[0;36msteps\u001b[0;34m(self)\u001b[0m\n\u001b[1;32m   1244\u001b[0m       \u001b[0;32mif\u001b[0m \u001b[0mself\u001b[0m\u001b[0;34m.\u001b[0m\u001b[0m_insufficient_data\u001b[0m\u001b[0;34m:\u001b[0m  \u001b[0;31m# Set by `catch_stop_iteration`.\u001b[0m\u001b[0;34m\u001b[0m\u001b[0;34m\u001b[0m\u001b[0m\n\u001b[1;32m   1245\u001b[0m         \u001b[0;32mbreak\u001b[0m\u001b[0;34m\u001b[0m\u001b[0;34m\u001b[0m\u001b[0m\n\u001b[0;32m-> 1246\u001b[0;31m       \u001b[0moriginal_spe\u001b[0m \u001b[0;34m=\u001b[0m \u001b[0mself\u001b[0m\u001b[0;34m.\u001b[0m\u001b[0m_steps_per_execution\u001b[0m\u001b[0;34m.\u001b[0m\u001b[0mnumpy\u001b[0m\u001b[0;34m(\u001b[0m\u001b[0;34m)\u001b[0m\u001b[0;34m.\u001b[0m\u001b[0mitem\u001b[0m\u001b[0;34m(\u001b[0m\u001b[0;34m)\u001b[0m\u001b[0;34m\u001b[0m\u001b[0;34m\u001b[0m\u001b[0m\n\u001b[0m\u001b[1;32m   1247\u001b[0m       can_run_full_execution = (\n\u001b[1;32m   1248\u001b[0m           \u001b[0moriginal_spe\u001b[0m \u001b[0;34m==\u001b[0m \u001b[0;36m1\u001b[0m \u001b[0;32mor\u001b[0m\u001b[0;34m\u001b[0m\u001b[0;34m\u001b[0m\u001b[0m\n",
            "\u001b[0;32m/usr/local/lib/python3.7/dist-packages/tensorflow/python/ops/resource_variable_ops.py\u001b[0m in \u001b[0;36mnumpy\u001b[0;34m(self)\u001b[0m\n\u001b[1;32m    672\u001b[0m   \u001b[0;32mdef\u001b[0m \u001b[0mnumpy\u001b[0m\u001b[0;34m(\u001b[0m\u001b[0mself\u001b[0m\u001b[0;34m)\u001b[0m\u001b[0;34m:\u001b[0m\u001b[0;34m\u001b[0m\u001b[0;34m\u001b[0m\u001b[0m\n\u001b[1;32m    673\u001b[0m     \u001b[0;32mif\u001b[0m \u001b[0mcontext\u001b[0m\u001b[0;34m.\u001b[0m\u001b[0mexecuting_eagerly\u001b[0m\u001b[0;34m(\u001b[0m\u001b[0;34m)\u001b[0m\u001b[0;34m:\u001b[0m\u001b[0;34m\u001b[0m\u001b[0;34m\u001b[0m\u001b[0m\n\u001b[0;32m--> 674\u001b[0;31m       \u001b[0;32mreturn\u001b[0m \u001b[0mself\u001b[0m\u001b[0;34m.\u001b[0m\u001b[0mread_value\u001b[0m\u001b[0;34m(\u001b[0m\u001b[0;34m)\u001b[0m\u001b[0;34m.\u001b[0m\u001b[0mnumpy\u001b[0m\u001b[0;34m(\u001b[0m\u001b[0;34m)\u001b[0m\u001b[0;34m\u001b[0m\u001b[0;34m\u001b[0m\u001b[0m\n\u001b[0m\u001b[1;32m    675\u001b[0m     raise NotImplementedError(\n\u001b[1;32m    676\u001b[0m         \"numpy() is only available when eager execution is enabled.\")\n",
            "\u001b[0;32m/usr/local/lib/python3.7/dist-packages/tensorflow/python/ops/resource_variable_ops.py\u001b[0m in \u001b[0;36mread_value\u001b[0;34m(self)\u001b[0m\n\u001b[1;32m    750\u001b[0m     \u001b[0;31m# Return an identity so it can get placed on whatever device the context\u001b[0m\u001b[0;34m\u001b[0m\u001b[0;34m\u001b[0m\u001b[0;34m\u001b[0m\u001b[0m\n\u001b[1;32m    751\u001b[0m     \u001b[0;31m# specifies instead of the device where the variable is.\u001b[0m\u001b[0;34m\u001b[0m\u001b[0;34m\u001b[0m\u001b[0;34m\u001b[0m\u001b[0m\n\u001b[0;32m--> 752\u001b[0;31m     \u001b[0;32mreturn\u001b[0m \u001b[0marray_ops\u001b[0m\u001b[0;34m.\u001b[0m\u001b[0midentity\u001b[0m\u001b[0;34m(\u001b[0m\u001b[0mvalue\u001b[0m\u001b[0;34m)\u001b[0m\u001b[0;34m\u001b[0m\u001b[0;34m\u001b[0m\u001b[0m\n\u001b[0m\u001b[1;32m    753\u001b[0m \u001b[0;34m\u001b[0m\u001b[0m\n\u001b[1;32m    754\u001b[0m   \u001b[0;32mdef\u001b[0m \u001b[0msparse_read\u001b[0m\u001b[0;34m(\u001b[0m\u001b[0mself\u001b[0m\u001b[0;34m,\u001b[0m \u001b[0mindices\u001b[0m\u001b[0;34m,\u001b[0m \u001b[0mname\u001b[0m\u001b[0;34m=\u001b[0m\u001b[0;32mNone\u001b[0m\u001b[0;34m)\u001b[0m\u001b[0;34m:\u001b[0m\u001b[0;34m\u001b[0m\u001b[0;34m\u001b[0m\u001b[0m\n",
            "\u001b[0;32m/usr/local/lib/python3.7/dist-packages/tensorflow/python/util/traceback_utils.py\u001b[0m in \u001b[0;36merror_handler\u001b[0;34m(*args, **kwargs)\u001b[0m\n\u001b[1;32m    148\u001b[0m     \u001b[0mfiltered_tb\u001b[0m \u001b[0;34m=\u001b[0m \u001b[0;32mNone\u001b[0m\u001b[0;34m\u001b[0m\u001b[0;34m\u001b[0m\u001b[0m\n\u001b[1;32m    149\u001b[0m     \u001b[0;32mtry\u001b[0m\u001b[0;34m:\u001b[0m\u001b[0;34m\u001b[0m\u001b[0;34m\u001b[0m\u001b[0m\n\u001b[0;32m--> 150\u001b[0;31m       \u001b[0;32mreturn\u001b[0m \u001b[0mfn\u001b[0m\u001b[0;34m(\u001b[0m\u001b[0;34m*\u001b[0m\u001b[0margs\u001b[0m\u001b[0;34m,\u001b[0m \u001b[0;34m**\u001b[0m\u001b[0mkwargs\u001b[0m\u001b[0;34m)\u001b[0m\u001b[0;34m\u001b[0m\u001b[0;34m\u001b[0m\u001b[0m\n\u001b[0m\u001b[1;32m    151\u001b[0m     \u001b[0;32mexcept\u001b[0m \u001b[0mException\u001b[0m \u001b[0;32mas\u001b[0m \u001b[0me\u001b[0m\u001b[0;34m:\u001b[0m\u001b[0;34m\u001b[0m\u001b[0;34m\u001b[0m\u001b[0m\n\u001b[1;32m    152\u001b[0m       \u001b[0mfiltered_tb\u001b[0m \u001b[0;34m=\u001b[0m \u001b[0m_process_traceback_frames\u001b[0m\u001b[0;34m(\u001b[0m\u001b[0me\u001b[0m\u001b[0;34m.\u001b[0m\u001b[0m__traceback__\u001b[0m\u001b[0;34m)\u001b[0m\u001b[0;34m\u001b[0m\u001b[0;34m\u001b[0m\u001b[0m\n",
            "\u001b[0;32m/usr/local/lib/python3.7/dist-packages/tensorflow/python/util/dispatch.py\u001b[0m in \u001b[0;36mop_dispatch_handler\u001b[0;34m(*args, **kwargs)\u001b[0m\n\u001b[1;32m   1080\u001b[0m       \u001b[0;31m# Fallback dispatch system (dispatch v1):\u001b[0m\u001b[0;34m\u001b[0m\u001b[0;34m\u001b[0m\u001b[0;34m\u001b[0m\u001b[0m\n\u001b[1;32m   1081\u001b[0m       \u001b[0;32mtry\u001b[0m\u001b[0;34m:\u001b[0m\u001b[0;34m\u001b[0m\u001b[0;34m\u001b[0m\u001b[0m\n\u001b[0;32m-> 1082\u001b[0;31m         \u001b[0;32mreturn\u001b[0m \u001b[0mdispatch_target\u001b[0m\u001b[0;34m(\u001b[0m\u001b[0;34m*\u001b[0m\u001b[0margs\u001b[0m\u001b[0;34m,\u001b[0m \u001b[0;34m**\u001b[0m\u001b[0mkwargs\u001b[0m\u001b[0;34m)\u001b[0m\u001b[0;34m\u001b[0m\u001b[0;34m\u001b[0m\u001b[0m\n\u001b[0m\u001b[1;32m   1083\u001b[0m       \u001b[0;32mexcept\u001b[0m \u001b[0;34m(\u001b[0m\u001b[0mTypeError\u001b[0m\u001b[0;34m,\u001b[0m \u001b[0mValueError\u001b[0m\u001b[0;34m)\u001b[0m\u001b[0;34m:\u001b[0m\u001b[0;34m\u001b[0m\u001b[0;34m\u001b[0m\u001b[0m\n\u001b[1;32m   1084\u001b[0m         \u001b[0;31m# Note: convert_to_eager_tensor currently raises a ValueError, not a\u001b[0m\u001b[0;34m\u001b[0m\u001b[0;34m\u001b[0m\u001b[0;34m\u001b[0m\u001b[0m\n",
            "\u001b[0;32m/usr/local/lib/python3.7/dist-packages/tensorflow/python/ops/array_ops.py\u001b[0m in \u001b[0;36midentity\u001b[0;34m(input, name)\u001b[0m\n\u001b[1;32m    285\u001b[0m     \u001b[0;31m# variables. Variables have correct handle data when graph building.\u001b[0m\u001b[0;34m\u001b[0m\u001b[0;34m\u001b[0m\u001b[0;34m\u001b[0m\u001b[0m\n\u001b[1;32m    286\u001b[0m     \u001b[0minput\u001b[0m \u001b[0;34m=\u001b[0m \u001b[0mops\u001b[0m\u001b[0;34m.\u001b[0m\u001b[0mconvert_to_tensor\u001b[0m\u001b[0;34m(\u001b[0m\u001b[0minput\u001b[0m\u001b[0;34m)\u001b[0m\u001b[0;34m\u001b[0m\u001b[0;34m\u001b[0m\u001b[0m\n\u001b[0;32m--> 287\u001b[0;31m   \u001b[0mret\u001b[0m \u001b[0;34m=\u001b[0m \u001b[0mgen_array_ops\u001b[0m\u001b[0;34m.\u001b[0m\u001b[0midentity\u001b[0m\u001b[0;34m(\u001b[0m\u001b[0minput\u001b[0m\u001b[0;34m,\u001b[0m \u001b[0mname\u001b[0m\u001b[0;34m=\u001b[0m\u001b[0mname\u001b[0m\u001b[0;34m)\u001b[0m\u001b[0;34m\u001b[0m\u001b[0;34m\u001b[0m\u001b[0m\n\u001b[0m\u001b[1;32m    288\u001b[0m   \u001b[0;31m# Propagate handle data for happier shape inference for resource variables.\u001b[0m\u001b[0;34m\u001b[0m\u001b[0;34m\u001b[0m\u001b[0;34m\u001b[0m\u001b[0m\n\u001b[1;32m    289\u001b[0m   \u001b[0;32mif\u001b[0m \u001b[0mhasattr\u001b[0m\u001b[0;34m(\u001b[0m\u001b[0minput\u001b[0m\u001b[0;34m,\u001b[0m \u001b[0;34m\"_handle_data\"\u001b[0m\u001b[0;34m)\u001b[0m\u001b[0;34m:\u001b[0m\u001b[0;34m\u001b[0m\u001b[0;34m\u001b[0m\u001b[0m\n",
            "\u001b[0;32m/usr/local/lib/python3.7/dist-packages/tensorflow/python/ops/gen_array_ops.py\u001b[0m in \u001b[0;36midentity\u001b[0;34m(input, name)\u001b[0m\n\u001b[1;32m   4063\u001b[0m     \u001b[0;32mtry\u001b[0m\u001b[0;34m:\u001b[0m\u001b[0;34m\u001b[0m\u001b[0;34m\u001b[0m\u001b[0m\n\u001b[1;32m   4064\u001b[0m       _result = pywrap_tfe.TFE_Py_FastPathExecute(\n\u001b[0;32m-> 4065\u001b[0;31m         _ctx, \"Identity\", name, input)\n\u001b[0m\u001b[1;32m   4066\u001b[0m       \u001b[0;32mreturn\u001b[0m \u001b[0m_result\u001b[0m\u001b[0;34m\u001b[0m\u001b[0;34m\u001b[0m\u001b[0m\n\u001b[1;32m   4067\u001b[0m     \u001b[0;32mexcept\u001b[0m \u001b[0m_core\u001b[0m\u001b[0;34m.\u001b[0m\u001b[0m_NotOkStatusException\u001b[0m \u001b[0;32mas\u001b[0m \u001b[0me\u001b[0m\u001b[0;34m:\u001b[0m\u001b[0;34m\u001b[0m\u001b[0;34m\u001b[0m\u001b[0m\n",
            "\u001b[0;31mKeyboardInterrupt\u001b[0m: "
          ]
        }
      ]
    },
    {
      "cell_type": "markdown",
      "id": "1417ba3c",
      "metadata": {
        "id": "1417ba3c"
      },
      "source": [
        "## Phase 3: Data Classification\n",
        "In this section, we have to practice the neural network created on the data."
      ]
    },
    {
      "cell_type": "code",
      "execution_count": null,
      "id": "cfa5f39e",
      "metadata": {
        "id": "cfa5f39e"
      },
      "outputs": [],
      "source": [
        "def expand_pixels_numbers(inp):\n",
        "    r = []\n",
        "    for i in inp:\n",
        "        rr = []\n",
        "        for j in i:\n",
        "            for k in j:\n",
        "                rr.append(k)\n",
        "        r.append(rr)\n",
        "    return r"
      ]
    },
    {
      "cell_type": "code",
      "execution_count": null,
      "id": "287b4fe7",
      "metadata": {
        "id": "287b4fe7"
      },
      "outputs": [],
      "source": [
        "X_train, X_test = expand_pixels_numbers(X_train.tolist()), expand_pixels_numbers(X_test.tolist())"
      ]
    },
    {
      "cell_type": "code",
      "execution_count": null,
      "id": "e3b7a551",
      "metadata": {
        "id": "e3b7a551"
      },
      "outputs": [],
      "source": [
        "X_train = pd.DataFrame(data=X_train, columns=[\"PixelNo. %i\" % x for x in range(1, 25*25 + 1)])\n",
        "X_test = pd.DataFrame(data=X_test, columns=[\"PixelNo.%i\" % x for x in range(1, 25*25 + 1)])"
      ]
    },
    {
      "cell_type": "code",
      "execution_count": 39,
      "id": "de72471d",
      "metadata": {
        "colab": {
          "base_uri": "https://localhost:8080/",
          "height": 304
        },
        "id": "de72471d",
        "outputId": "e04dcd61-e53e-4692-f2f8-503cc6097e04"
      },
      "outputs": [
        {
          "output_type": "error",
          "ename": "AttributeError",
          "evalue": "ignored",
          "traceback": [
            "\u001b[0;31m---------------------------------------------------------------------------\u001b[0m",
            "\u001b[0;31mAttributeError\u001b[0m                            Traceback (most recent call last)",
            "\u001b[0;32m<ipython-input-39-ef2469a92877>\u001b[0m in \u001b[0;36m<module>\u001b[0;34m()\u001b[0m\n\u001b[0;32m----> 1\u001b[0;31m \u001b[0mY_train\u001b[0m \u001b[0;34m=\u001b[0m \u001b[0mpd\u001b[0m\u001b[0;34m.\u001b[0m\u001b[0mDataFrame\u001b[0m\u001b[0;34m(\u001b[0m\u001b[0mdata\u001b[0m\u001b[0;34m=\u001b[0m\u001b[0mY_train\u001b[0m\u001b[0;34m.\u001b[0m\u001b[0mtolist\u001b[0m\u001b[0;34m(\u001b[0m\u001b[0;34m)\u001b[0m\u001b[0;34m,\u001b[0m \u001b[0mcolumns\u001b[0m\u001b[0;34m=\u001b[0m\u001b[0;34m[\u001b[0m\u001b[0;34m\"labels\"\u001b[0m\u001b[0;34m]\u001b[0m\u001b[0;34m)\u001b[0m\u001b[0;34m\u001b[0m\u001b[0;34m\u001b[0m\u001b[0m\n\u001b[0m\u001b[1;32m      2\u001b[0m \u001b[0mY_test\u001b[0m \u001b[0;34m=\u001b[0m \u001b[0mpd\u001b[0m\u001b[0;34m.\u001b[0m\u001b[0mDataFrame\u001b[0m\u001b[0;34m(\u001b[0m\u001b[0mdata\u001b[0m\u001b[0;34m=\u001b[0m\u001b[0mY_test\u001b[0m\u001b[0;34m.\u001b[0m\u001b[0mtolist\u001b[0m\u001b[0;34m(\u001b[0m\u001b[0;34m)\u001b[0m\u001b[0;34m,\u001b[0m \u001b[0mcolumns\u001b[0m\u001b[0;34m=\u001b[0m\u001b[0;34m[\u001b[0m\u001b[0;34m\"labels\"\u001b[0m\u001b[0;34m]\u001b[0m\u001b[0;34m)\u001b[0m\u001b[0;34m\u001b[0m\u001b[0;34m\u001b[0m\u001b[0m\n",
            "\u001b[0;32m/usr/local/lib/python3.7/dist-packages/pandas/core/generic.py\u001b[0m in \u001b[0;36m__getattr__\u001b[0;34m(self, name)\u001b[0m\n\u001b[1;32m   5485\u001b[0m         ):\n\u001b[1;32m   5486\u001b[0m             \u001b[0;32mreturn\u001b[0m \u001b[0mself\u001b[0m\u001b[0;34m[\u001b[0m\u001b[0mname\u001b[0m\u001b[0;34m]\u001b[0m\u001b[0;34m\u001b[0m\u001b[0;34m\u001b[0m\u001b[0m\n\u001b[0;32m-> 5487\u001b[0;31m         \u001b[0;32mreturn\u001b[0m \u001b[0mobject\u001b[0m\u001b[0;34m.\u001b[0m\u001b[0m__getattribute__\u001b[0m\u001b[0;34m(\u001b[0m\u001b[0mself\u001b[0m\u001b[0;34m,\u001b[0m \u001b[0mname\u001b[0m\u001b[0;34m)\u001b[0m\u001b[0;34m\u001b[0m\u001b[0;34m\u001b[0m\u001b[0m\n\u001b[0m\u001b[1;32m   5488\u001b[0m \u001b[0;34m\u001b[0m\u001b[0m\n\u001b[1;32m   5489\u001b[0m     \u001b[0;32mdef\u001b[0m \u001b[0m__setattr__\u001b[0m\u001b[0;34m(\u001b[0m\u001b[0mself\u001b[0m\u001b[0;34m,\u001b[0m \u001b[0mname\u001b[0m\u001b[0;34m:\u001b[0m \u001b[0mstr\u001b[0m\u001b[0;34m,\u001b[0m \u001b[0mvalue\u001b[0m\u001b[0;34m)\u001b[0m \u001b[0;34m->\u001b[0m \u001b[0;32mNone\u001b[0m\u001b[0;34m:\u001b[0m\u001b[0;34m\u001b[0m\u001b[0;34m\u001b[0m\u001b[0m\n",
            "\u001b[0;31mAttributeError\u001b[0m: 'DataFrame' object has no attribute 'tolist'"
          ]
        }
      ],
      "source": [
        "Y_train = pd.DataFrame(data=Y_train.tolist(), columns=[\"labels\"])\n",
        "Y_test = pd.DataFrame(data=Y_test.tolist(), columns=[\"labels\"])"
      ]
    },
    {
      "cell_type": "markdown",
      "id": "df8d4969",
      "metadata": {
        "id": "df8d4969"
      },
      "source": [
        "### Training Sample Code"
      ]
    },
    {
      "cell_type": "code",
      "execution_count": null,
      "id": "d4dcf4d5",
      "metadata": {
        "id": "d4dcf4d5"
      },
      "outputs": [],
      "source": [
        "# Sample code for building and training a model\n",
        "\n",
        "INPUT_SHAPE = 25*25\n",
        "LEARNING_RATE = 0.001\n",
        "EPOCHS = 15\n",
        "BATCH_SIZE = 32\n",
        "\n",
        "TRAINLOADER = [batch for batch in Dataloader(X_train, Y_train, n_classes=10, batch_size=BATCH_SIZE, shuffle=False)]\n",
        "TESTLOADER = [batch for batch in Dataloader(X_test, Y_test, n_classes=10, batch_size=BATCH_SIZE, shuffle=False)]"
      ]
    },
    {
      "cell_type": "code",
      "execution_count": null,
      "id": "8a17bdae",
      "metadata": {
        "id": "8a17bdae"
      },
      "outputs": [],
      "source": [
        "network = FeedForwardNN(INPUT_SHAPE)\n",
        "network.add_layer(45, input_shape=INPUT_SHAPE, activation=Relu(), initial_weight='uniform')\n",
        "network.add_layer(10, activation=Identical(), initial_weight='uniform')\n",
        "network.set_training_param(loss=CrossEntropy(), lr=LEARNING_RATE)"
      ]
    },
    {
      "cell_type": "code",
      "execution_count": null,
      "id": "a06cb8bd",
      "metadata": {
        "scrolled": false,
        "id": "a06cb8bd",
        "outputId": "851da5bc-241f-43f2-f1b4-3baca55ce858"
      },
      "outputs": [
        {
          "name": "stdout",
          "output_type": "stream",
          "text": [
            "Epoch 1:\n",
            "\tTrain: Average Accuracy: 90.25376123485736\tAverage Loss: 0.3847507155842545\n",
            "\tTest: Average Accuracy: 95.40336277173913\tAverage Loss: 0.16517450651996887\n",
            "Epoch 2:\n",
            "\tTrain: Average Accuracy: 95.92858538491598\tAverage Loss: 0.14607685632193385\n",
            "\tTest: Average Accuracy: 96.09183933423913\tAverage Loss: 0.1411680770126691\n",
            "Epoch 3:\n",
            "\tTrain: Average Accuracy: 96.43293278624462\tAverage Loss: 0.12781926650468778\n",
            "\tTest: Average Accuracy: 96.39945652173913\tAverage Loss: 0.12976647168762795\n",
            "Epoch 4:\n",
            "\tTrain: Average Accuracy: 96.6857170769832\tAverage Loss: 0.1175970304556995\n",
            "\tTest: Average Accuracy: 96.58500339673913\tAverage Loss: 0.12378535091928833\n",
            "Epoch 5:\n",
            "\tTrain: Average Accuracy: 96.87866354044549\tAverage Loss: 0.11112524466371168\n",
            "\tTest: Average Accuracy: 96.72660495923913\tAverage Loss: 0.12027969300025414\n",
            "Epoch 6:\n",
            "\tTrain: Average Accuracy: 96.98700664322001\tAverage Loss: 0.10666944247178473\n",
            "\tTest: Average Accuracy: 96.79008152173913\tAverage Loss: 0.11809938645626379\n",
            "Epoch 7:\n",
            "\tTrain: Average Accuracy: 97.07615279406018\tAverage Loss: 0.1035338677959173\n",
            "\tTest: Average Accuracy: 96.78519870923913\tAverage Loss: 0.11684572613994973\n",
            "Epoch 8:\n",
            "\tTrain: Average Accuracy: 97.13599062133646\tAverage Loss: 0.10121820560832949\n",
            "\tTest: Average Accuracy: 96.77055027173913\tAverage Loss: 0.11612580578156564\n",
            "Epoch 9:\n",
            "\tTrain: Average Accuracy: 97.15552950371239\tAverage Loss: 0.09947757105147077\n",
            "\tTest: Average Accuracy: 96.70707370923913\tAverage Loss: 0.11576021688099081\n",
            "Epoch 10:\n",
            "\tTrain: Average Accuracy: 97.19216490816726\tAverage Loss: 0.09803704777270854\n",
            "\tTest: Average Accuracy: 96.63383152173913\tAverage Loss: 0.11552364366409032\n",
            "Epoch 11:\n",
            "\tTrain: Average Accuracy: 97.2336850332161\tAverage Loss: 0.09686339810923231\n",
            "\tTest: Average Accuracy: 96.63383152173913\tAverage Loss: 0.11541765482297901\n",
            "Epoch 12:\n",
            "\tTrain: Average Accuracy: 97.22880031262211\tAverage Loss: 0.09590474477726207\n",
            "\tTest: Average Accuracy: 96.62406589673913\tAverage Loss: 0.11535701272789671\n",
            "Epoch 13:\n",
            "\tTrain: Average Accuracy: 97.24623876514264\tAverage Loss: 0.09512293771802556\n",
            "\tTest: Average Accuracy: 96.62406589673913\tAverage Loss: 0.11538556255909567\n",
            "Epoch 14:\n",
            "\tTrain: Average Accuracy: 97.27432590855803\tAverage Loss: 0.0944009196050578\n",
            "\tTest: Average Accuracy: 96.61918308423913\tAverage Loss: 0.11557090946252897\n",
            "Epoch 15:\n",
            "\tTrain: Average Accuracy: 97.29142243063697\tAverage Loss: 0.0937687889336339\n",
            "\tTest: Average Accuracy: 96.67289402173913\tAverage Loss: 0.11594945213926044\n"
          ]
        }
      ],
      "source": [
        "log = network.fit(EPOCHS, TRAINLOADER, TESTLOADER)"
      ]
    },
    {
      "cell_type": "markdown",
      "id": "3f23c848",
      "metadata": {
        "id": "3f23c848"
      },
      "source": [
        "### Part I: Network training\n",
        "\n",
        "The neural network that I implemented consists of `1` input layer, `1` hidden layer and `1` output layer. `625` input nodes, `45` hidden nodes and `10` output nodes corresponding to `10` labels that we have.\n",
        "\n",
        "I have tried higher number of hidden nodes and it'll result in higher accuracy."
      ]
    },
    {
      "cell_type": "code",
      "execution_count": null,
      "id": "63e65ec2",
      "metadata": {
        "id": "63e65ec2",
        "outputId": "3ae2792a-855f-4f70-92e9-00de961eeaf4"
      },
      "outputs": [
        {
          "name": "stdout",
          "output_type": "stream",
          "text": [
            "Learning Rate =  3e-05 \n",
            "\n",
            "Epoch 1:\n",
            "\tTrain: Average Accuracy: 23.289566236811254\tAverage Loss: 2.0736098020554894\n",
            "\tTest: Average Accuracy: 55.7963230298913\tAverage Loss: 1.6387305587625103\n",
            "Epoch 2:\n",
            "\tTrain: Average Accuracy: 72.89385502149277\tAverage Loss: 1.1497983239585663\n",
            "\tTest: Average Accuracy: 80.40463654891305\tAverage Loss: 0.800214571363633\n",
            "Epoch 3:\n",
            "\tTrain: Average Accuracy: 83.68088120359515\tAverage Loss: 0.6359390133996106\n",
            "\tTest: Average Accuracy: 85.61353600543478\tAverage Loss: 0.5249838467810047\n",
            "Epoch 4:\n",
            "\tTrain: Average Accuracy: 86.9527647518562\tAverage Loss: 0.4570189281297503\n",
            "\tTest: Average Accuracy: 88.29122792119566\tAverage Loss: 0.4081770419265366\n",
            "Epoch 5:\n",
            "\tTrain: Average Accuracy: 89.26289566236811\tAverage Loss: 0.36835420370536626\n",
            "\tTest: Average Accuracy: 90.14266304347827\tAverage Loss: 0.3421507959017568\n",
            "Epoch 6:\n",
            "\tTrain: Average Accuracy: 91.09222352481439\tAverage Loss: 0.31479696836332105\n",
            "\tTest: Average Accuracy: 91.48246433423913\tAverage Loss: 0.30068412701764424\n",
            "Epoch 7:\n",
            "\tTrain: Average Accuracy: 92.22826299335678\tAverage Loss: 0.2800477711020799\n",
            "\tTest: Average Accuracy: 92.36137058423913\tAverage Loss: 0.27320516522882193\n",
            "Epoch 8:\n",
            "\tTrain: Average Accuracy: 92.89869089488081\tAverage Loss: 0.25635297400988866\n",
            "\tTest: Average Accuracy: 92.89359714673913\tAverage Loss: 0.25397835341517216\n",
            "Epoch 9:\n",
            "\tTrain: Average Accuracy: 93.38872606486909\tAverage Loss: 0.2393269853514573\n",
            "\tTest: Average Accuracy: 93.23051120923913\tAverage Loss: 0.23977647093648358\n",
            "Epoch 10:\n",
            "\tTrain: Average Accuracy: 93.66715513872606\tAverage Loss: 0.2264785770867552\n",
            "\tTest: Average Accuracy: 93.48441745923913\tAverage Loss: 0.22879214516488391\n",
            "Epoch 11:\n",
            "\tTrain: Average Accuracy: 93.92360296991012\tAverage Loss: 0.21637988853134743\n",
            "\tTest: Average Accuracy: 93.68461277173913\tAverage Loss: 0.21997946163534143\n",
            "Epoch 12:\n",
            "\tTrain: Average Accuracy: 94.13364595545134\tAverage Loss: 0.20818250870537197\n",
            "\tTest: Average Accuracy: 93.93851902173913\tAverage Loss: 0.21270762015672956\n",
            "Epoch 13:\n",
            "\tTrain: Average Accuracy: 94.34124658069558\tAverage Loss: 0.20135863040121557\n",
            "\tTest: Average Accuracy: 94.10453464673913\tAverage Loss: 0.20657568689678443\n",
            "Epoch 14:\n",
            "\tTrain: Average Accuracy: 94.49633645955451\tAverage Loss: 0.19556357312286396\n",
            "\tTest: Average Accuracy: 94.21195652173913\tAverage Loss: 0.20131746500188125\n",
            "Epoch 15:\n",
            "\tTrain: Average Accuracy: 94.6343298163345\tAverage Loss: 0.19056332149792607\n",
            "\tTest: Average Accuracy: 94.33890964673913\tAverage Loss: 0.19674875971280614\n"
          ]
        }
      ],
      "source": [
        "INPUT_SHAPE = 25*25\n",
        "LEARNING_RATE = 0.00003\n",
        "EPOCHS = 15\n",
        "BATCH_SIZE = 32\n",
        "\n",
        "print(\"Learning Rate = \", LEARNING_RATE, \"\\n\")\n",
        "\n",
        "network = FeedForwardNN(INPUT_SHAPE)\n",
        "\n",
        "network.add_layer(45, input_shape=INPUT_SHAPE, activation=Relu(), weight_initializer='uniform')\n",
        "# network.add_layer(45, input_shape=INPUT_SHAPE, activation=Relu(), weight_initializer='uniform')\n",
        "network.add_layer(10, activation=Identical(), weight_initializer='uniform')\n",
        "network.set_training_param(loss=CrossEntropy(), lr=LEARNING_RATE)\n",
        "\n",
        "log = network.fit(EPOCHS, TRAINLOADER, TESTLOADER)"
      ]
    },
    {
      "cell_type": "markdown",
      "id": "3ff1c664",
      "metadata": {
        "id": "3ff1c664"
      },
      "source": [
        "### Part II : Network Weighting\n",
        "\n",
        "If zero initial weights are chosen, then the learning rate has no influence on a neuron's predicted class label. If you initialize all weights with zeros then every hidden unit will get zero independent of the input since the weight matrix is all zeros and multiplication will result in zero. So, when all the hidden neurons start with the zero weights, then all of them will follow the same gradient and for this reason starting with zeros affects only the scale of the weight vector, not the direction. Also, having zero weights to start with will prevent the network from learning. The errors backpropagated through the network is proportional to the value of the weights. If all the weights are the same, then the backpropagated errors will be the same, so all of the weights will be updated by the same amount which means the whole process was useless. To avoid this problem, the initial weights of the network should be unequal a way of doing this is to assign random values to weights."
      ]
    },
    {
      "cell_type": "code",
      "execution_count": null,
      "id": "ebf6f482",
      "metadata": {
        "id": "ebf6f482",
        "outputId": "7360bd6d-0aeb-483f-90e7-9a0c93de3051"
      },
      "outputs": [
        {
          "name": "stdout",
          "output_type": "stream",
          "text": [
            "Epoch 1:\n",
            "\tTrain: Average Accuracy: 90.17682688550215\tAverage Loss: 0.38364604410908426\n",
            "\tTest: Average Accuracy: 95.33988620923913\tAverage Loss: 0.16878484023433798\n",
            "Epoch 2:\n",
            "\tTrain: Average Accuracy: 95.91637358343102\tAverage Loss: 0.1490250460965128\n",
            "\tTest: Average Accuracy: 95.96488620923913\tAverage Loss: 0.14629975487150587\n",
            "Epoch 3:\n",
            "\tTrain: Average Accuracy: 96.36332551778038\tAverage Loss: 0.13202452831262837\n",
            "\tTest: Average Accuracy: 96.26273777173913\tAverage Loss: 0.1360529592766703\n",
            "Epoch 4:\n",
            "\tTrain: Average Accuracy: 96.6295427901524\tAverage Loss: 0.1223523085913539\n",
            "\tTest: Average Accuracy: 96.44828464673913\tAverage Loss: 0.12957372090015856\n",
            "Epoch 5:\n",
            "\tTrain: Average Accuracy: 96.76997850722938\tAverage Loss: 0.11565806597194758\n",
            "\tTest: Average Accuracy: 96.57035495923913\tAverage Loss: 0.12502189327395888\n",
            "Epoch 6:\n",
            "\tTrain: Average Accuracy: 96.88354826103946\tAverage Loss: 0.11058329464724916\n",
            "\tTest: Average Accuracy: 96.66312839673913\tAverage Loss: 0.1216738106039144\n",
            "Epoch 7:\n",
            "\tTrain: Average Accuracy: 96.99467565455257\tAverage Loss: 0.10654851450103131\n",
            "\tTest: Average Accuracy: 96.73148777173913\tAverage Loss: 0.11924670810348928\n",
            "Epoch 8:\n",
            "\tTrain: Average Accuracy: 97.08626416568973\tAverage Loss: 0.10325663022129225\n",
            "\tTest: Average Accuracy: 96.76078464673913\tAverage Loss: 0.11710844247754029\n",
            "Epoch 9:\n",
            "\tTrain: Average Accuracy: 97.16441969519343\tAverage Loss: 0.10050517556659636\n",
            "\tTest: Average Accuracy: 96.74613620923913\tAverage Loss: 0.11535897802495246\n",
            "Epoch 10:\n",
            "\tTrain: Average Accuracy: 97.22669988276671\tAverage Loss: 0.09819470568151652\n",
            "\tTest: Average Accuracy: 96.73637058423913\tAverage Loss: 0.1140468561506914\n",
            "Epoch 11:\n",
            "\tTrain: Average Accuracy: 97.25845056662759\tAverage Loss: 0.09617119704352513\n",
            "\tTest: Average Accuracy: 96.78031589673913\tAverage Loss: 0.113006472583935\n",
            "Epoch 12:\n",
            "\tTrain: Average Accuracy: 97.29752833137944\tAverage Loss: 0.09441956509287029\n",
            "\tTest: Average Accuracy: 96.77055027173913\tAverage Loss: 0.1123251130420376\n",
            "Epoch 13:\n",
            "\tTrain: Average Accuracy: 97.33050019538882\tAverage Loss: 0.09287443648269081\n",
            "\tTest: Average Accuracy: 96.78031589673913\tAverage Loss: 0.11197628032256493\n",
            "Epoch 14:\n",
            "\tTrain: Average Accuracy: 97.35248143806174\tAverage Loss: 0.09153580829278272\n",
            "\tTest: Average Accuracy: 96.78031589673913\tAverage Loss: 0.111854183442081\n",
            "Epoch 15:\n",
            "\tTrain: Average Accuracy: 97.37446268073467\tAverage Loss: 0.09038304586389805\n",
            "\tTest: Average Accuracy: 96.76078464673913\tAverage Loss: 0.111758857148569\n"
          ]
        }
      ],
      "source": [
        "LEARNING_RATE = 0.001\n",
        "\n",
        "network = FeedForwardNN(INPUT_SHAPE)\n",
        "\n",
        "network.add_layer(45, input_shape=INPUT_SHAPE, activation=Relu(), weight_initializer='zero')\n",
        "# network.add_layer(40, activation=Relu(), weight_initializer='uniform')\n",
        "network.add_layer(10, activation=Identical(), weight_initializer='zero')\n",
        "network.set_training_param(loss=CrossEntropy(), lr=LEARNING_RATE)\n",
        "\n",
        "log = network.fit(EPOCHS, TRAINLOADER, TESTLOADER)"
      ]
    },
    {
      "cell_type": "markdown",
      "id": "829c262d",
      "metadata": {
        "id": "829c262d"
      },
      "source": [
        "### Part III : Impact of learning rate\n",
        "\n",
        "In this section, by decreasing and increasing the `learning rate` parameter, we will train the network and find the optimal value for our network\n",
        "\n",
        "The learning rate controls how quickly the model is adapted to the problem. Smaller learning rates require more training epochs given the smaller changes made to the weights each update, whereas larger learning rates result in rapid changes and require fewer training epochs."
      ]
    },
    {
      "cell_type": "code",
      "execution_count": null,
      "id": "40da32ce",
      "metadata": {
        "id": "40da32ce",
        "outputId": "e92da35e-0ac4-44cb-fde4-531d36e64e1b"
      },
      "outputs": [
        {
          "name": "stdout",
          "output_type": "stream",
          "text": [
            "Learning Rate =  1e-05 \n",
            "\n",
            "Epoch 1:\n",
            "\tTrain: Average Accuracy: 10.591441969519343\tAverage Loss: 2.2466900533232654\n",
            "\tTest: Average Accuracy: 9.710852581521738\tAverage Loss: 2.2089612944835153\n",
            "Epoch 2:\n",
            "\tTrain: Average Accuracy: 16.028819851504494\tAverage Loss: 2.1295537790917654\n",
            "\tTest: Average Accuracy: 19.875806725543477\tAverage Loss: 2.0223153030143104\n",
            "Epoch 3:\n",
            "\tTrain: Average Accuracy: 45.53648886283705\tAverage Loss: 1.8388027538432543\n",
            "\tTest: Average Accuracy: 63.32668138586956\tAverage Loss: 1.6391340213917907\n",
            "Epoch 4:\n",
            "\tTrain: Average Accuracy: 67.99135404454866\tAverage Loss: 1.43469815919188\n",
            "\tTest: Average Accuracy: 73.45639436141305\tAverage Loss: 1.2545685322308633\n",
            "Epoch 5:\n",
            "\tTrain: Average Accuracy: 76.39375732708089\tAverage Loss: 1.1028172981289395\n",
            "\tTest: Average Accuracy: 78.30502717391305\tAverage Loss: 0.9768053163423216\n",
            "Epoch 6:\n",
            "\tTrain: Average Accuracy: 80.36381398983978\tAverage Loss: 0.8724730893094429\n",
            "\tTest: Average Accuracy: 81.2073284646739\tAverage Loss: 0.7896508912287777\n",
            "Epoch 7:\n",
            "\tTrain: Average Accuracy: 82.60013677217663\tAverage Loss: 0.7195972677628664\n",
            "\tTest: Average Accuracy: 83.10568104619566\tAverage Loss: 0.6661537585247469\n",
            "Epoch 8:\n",
            "\tTrain: Average Accuracy: 84.10863618601016\tAverage Loss: 0.6173400861720288\n",
            "\tTest: Average Accuracy: 84.51681385869566\tAverage Loss: 0.5815578529920074\n",
            "Epoch 9:\n",
            "\tTrain: Average Accuracy: 85.29562329034779\tAverage Loss: 0.545272126662216\n",
            "\tTest: Average Accuracy: 85.73751698369566\tAverage Loss: 0.5200438596372943\n",
            "Epoch 10:\n",
            "\tTrain: Average Accuracy: 86.28477921062915\tAverage Loss: 0.4914573127160057\n",
            "\tTest: Average Accuracy: 86.66036854619566\tAverage Loss: 0.47293640349875055\n",
            "Epoch 11:\n",
            "\tTrain: Average Accuracy: 87.12006643220008\tAverage Loss: 0.4493684733660205\n",
            "\tTest: Average Accuracy: 87.55880604619566\tAverage Loss: 0.4354336042510636\n",
            "Epoch 12:\n",
            "\tTrain: Average Accuracy: 87.94680539273153\tAverage Loss: 0.4153066895994269\n",
            "\tTest: Average Accuracy: 88.26872452445653\tAverage Loss: 0.40472857979918375\n",
            "Epoch 13:\n",
            "\tTrain: Average Accuracy: 88.62089683470106\tAverage Loss: 0.3870649000096906\n",
            "\tTest: Average Accuracy: 88.95911175271739\tAverage Loss: 0.37909583597413227\n",
            "Epoch 14:\n",
            "\tTrain: Average Accuracy: 89.27999218444705\tAverage Loss: 0.36326108399484797\n",
            "\tTest: Average Accuracy: 89.62508491847827\tAverage Loss: 0.3574194141511861\n",
            "Epoch 15:\n",
            "\tTrain: Average Accuracy: 89.93576592418914\tAverage Loss: 0.34298165303978717\n",
            "\tTest: Average Accuracy: 90.12015964673913\tAverage Loss: 0.33893230664332025\n"
          ]
        }
      ],
      "source": [
        "LEARNING_RATE = 0.00001\n",
        "print(\"Learning Rate = \", LEARNING_RATE, \"\\n\")\n",
        "\n",
        "network = FeedForwardNN(INPUT_SHAPE)\n",
        "network.add_layer(45, input_shape=INPUT_SHAPE, activation=Relu(), weight_initializer='uniform')\n",
        "network.add_layer(10, activation=Identical(), weight_initializer='uniform')\n",
        "network.set_training_param(loss=CrossEntropy(), lr=LEARNING_RATE)\n",
        "log = network.fit(EPOCHS, TRAINLOADER, TESTLOADER)"
      ]
    },
    {
      "cell_type": "code",
      "execution_count": null,
      "id": "e28f6321",
      "metadata": {
        "scrolled": true,
        "id": "e28f6321",
        "outputId": "c38f7c83-6aec-4621-9e6e-bfd61798c62d"
      },
      "outputs": [
        {
          "name": "stdout",
          "output_type": "stream",
          "text": [
            "Learning Rate =  5e-05 \n",
            "\n",
            "Epoch 1:\n",
            "\tTrain: Average Accuracy: 41.808372411098084\tAverage Loss: 1.7554768104982963\n",
            "\tTest: Average Accuracy: 76.28354279891305\tAverage Loss: 0.9674776260524347\n",
            "Epoch 2:\n",
            "\tTrain: Average Accuracy: 82.80075224697147\tAverage Loss: 0.6562929152283555\n",
            "\tTest: Average Accuracy: 86.20923913043478\tAverage Loss: 0.48307906069369394\n",
            "Epoch 3:\n",
            "\tTrain: Average Accuracy: 88.22034974599453\tAverage Loss: 0.40204203973018254\n",
            "\tTest: Average Accuracy: 89.96008831521739\tAverage Loss: 0.346350705671976\n",
            "Epoch 4:\n",
            "\tTrain: Average Accuracy: 91.29684447049628\tAverage Loss: 0.30628005100672434\n",
            "\tTest: Average Accuracy: 92.00980808423913\tAverage Loss: 0.28280734674927305\n",
            "Epoch 5:\n",
            "\tTrain: Average Accuracy: 92.77691481047285\tAverage Loss: 0.25861911864489223\n",
            "\tTest: Average Accuracy: 92.97660495923913\tAverage Loss: 0.2492068630300055\n",
            "Epoch 6:\n",
            "\tTrain: Average Accuracy: 93.5441578741696\tAverage Loss: 0.23164872485689308\n",
            "\tTest: Average Accuracy: 93.44535495923913\tAverage Loss: 0.2286768543098118\n",
            "Epoch 7:\n",
            "\tTrain: Average Accuracy: 94.00332161000391\tAverage Loss: 0.2142387943053141\n",
            "\tTest: Average Accuracy: 93.82133152173913\tAverage Loss: 0.21459014343066554\n",
            "Epoch 8:\n",
            "\tTrain: Average Accuracy: 94.34036733098867\tAverage Loss: 0.20186778861558308\n",
            "\tTest: Average Accuracy: 94.12406589673913\tAverage Loss: 0.20417139847864427\n",
            "Epoch 9:\n",
            "\tTrain: Average Accuracy: 94.58948808128176\tAverage Loss: 0.1925025015051305\n",
            "\tTest: Average Accuracy: 94.38285495923913\tAverage Loss: 0.19608347296872544\n",
            "Epoch 10:\n",
            "\tTrain: Average Accuracy: 94.83250293083236\tAverage Loss: 0.18510207577350496\n",
            "\tTest: Average Accuracy: 94.56840183423913\tAverage Loss: 0.18959147245137054\n",
            "Epoch 11:\n",
            "\tTrain: Average Accuracy: 94.99369871043376\tAverage Loss: 0.17907108928600463\n",
            "\tTest: Average Accuracy: 94.74906589673913\tAverage Loss: 0.18424782181276217\n",
            "Epoch 12:\n",
            "\tTrain: Average Accuracy: 95.10971082454084\tAverage Loss: 0.17403872459306607\n",
            "\tTest: Average Accuracy: 94.91508152173913\tAverage Loss: 0.1797612941166995\n",
            "Epoch 13:\n",
            "\tTrain: Average Accuracy: 95.22083821805393\tAverage Loss: 0.16975928519410655\n",
            "\tTest: Average Accuracy: 95.01762058423913\tAverage Loss: 0.17593085848766982\n",
            "Epoch 14:\n",
            "\tTrain: Average Accuracy: 95.35150449394294\tAverage Loss: 0.16606224560208588\n",
            "\tTest: Average Accuracy: 95.13969089673913\tAverage Loss: 0.17261392705088535\n",
            "Epoch 15:\n",
            "\tTrain: Average Accuracy: 95.46297381789762\tAverage Loss: 0.16282551906958134\n",
            "\tTest: Average Accuracy: 95.21293308423913\tAverage Loss: 0.1697059194884954\n"
          ]
        }
      ],
      "source": [
        "LEARNING_RATE = 0.00005\n",
        "print(\"Learning Rate = \", LEARNING_RATE, \"\\n\")\n",
        "\n",
        "network = FeedForwardNN(INPUT_SHAPE)\n",
        "network.add_layer(45, input_shape=INPUT_SHAPE, activation=Relu(), weight_initializer='uniform')\n",
        "network.add_layer(10, activation=Identical(), weight_initializer='uniform')\n",
        "network.set_training_param(loss=CrossEntropy(), lr=LEARNING_RATE)\n",
        "log = network.fit(EPOCHS, TRAINLOADER, TESTLOADER)"
      ]
    },
    {
      "cell_type": "code",
      "execution_count": null,
      "id": "c09fb5d2",
      "metadata": {
        "id": "c09fb5d2",
        "outputId": "fd0f6555-9b37-4c62-dba4-e8564f2db96c"
      },
      "outputs": [
        {
          "name": "stdout",
          "output_type": "stream",
          "text": [
            "Learning Rate =  0.0001 \n",
            "\n",
            "Epoch 1:\n",
            "\tTrain: Average Accuracy: 62.15792301680344\tAverage Loss: 1.1977544967105684\n",
            "\tTest: Average Accuracy: 86.7786175271739\tAverage Loss: 0.459590419361643\n",
            "Epoch 2:\n",
            "\tTrain: Average Accuracy: 90.07932786244626\tAverage Loss: 0.3432977172325228\n",
            "\tTest: Average Accuracy: 92.20023777173913\tAverage Loss: 0.2781754992341346\n",
            "Epoch 3:\n",
            "\tTrain: Average Accuracy: 93.16036537710043\tAverage Loss: 0.244558237709375\n",
            "\tTest: Average Accuracy: 93.47465183423913\tAverage Loss: 0.22825997548718985\n",
            "Epoch 4:\n",
            "\tTrain: Average Accuracy: 94.06193825713169\tAverage Loss: 0.20958440806090203\n",
            "\tTest: Average Accuracy: 94.08500339673913\tAverage Loss: 0.2046119031271985\n",
            "Epoch 5:\n",
            "\tTrain: Average Accuracy: 94.59559398202423\tAverage Loss: 0.19086564398252523\n",
            "\tTest: Average Accuracy: 94.50004245923913\tAverage Loss: 0.19026576720988492\n",
            "Epoch 6:\n",
            "\tTrain: Average Accuracy: 94.96927510746386\tAverage Loss: 0.1787475132347079\n",
            "\tTest: Average Accuracy: 94.89555027173913\tAverage Loss: 0.18046471693702548\n",
            "Epoch 7:\n",
            "\tTrain: Average Accuracy: 95.24071903087143\tAverage Loss: 0.17008119229104643\n",
            "\tTest: Average Accuracy: 95.14945652173913\tAverage Loss: 0.17326647999010789\n",
            "Epoch 8:\n",
            "\tTrain: Average Accuracy: 95.42389605314575\tAverage Loss: 0.16348277731718802\n",
            "\tTest: Average Accuracy: 95.37894870923913\tAverage Loss: 0.16770263367301058\n",
            "Epoch 9:\n",
            "\tTrain: Average Accuracy: 95.5777647518562\tAverage Loss: 0.15823213440984302\n",
            "\tTest: Average Accuracy: 95.47660495923913\tAverage Loss: 0.16323497014931945\n",
            "Epoch 10:\n",
            "\tTrain: Average Accuracy: 95.72919109026964\tAverage Loss: 0.15391399077635512\n",
            "\tTest: Average Accuracy: 95.55961277173913\tAverage Loss: 0.1595394382262591\n",
            "Epoch 11:\n",
            "\tTrain: Average Accuracy: 95.83333333333333\tAverage Loss: 0.1502716517398008\n",
            "\tTest: Average Accuracy: 95.66703464673913\tAverage Loss: 0.1564108080528334\n",
            "Epoch 12:\n",
            "\tTrain: Average Accuracy: 95.93469128565846\tAverage Loss: 0.14713702332572703\n",
            "\tTest: Average Accuracy: 95.71097995923913\tAverage Loss: 0.15371245988948515\n",
            "Epoch 13:\n",
            "\tTrain: Average Accuracy: 95.99697147323172\tAverage Loss: 0.14439513303399978\n",
            "\tTest: Average Accuracy: 95.74515964673913\tAverage Loss: 0.15134957053430614\n",
            "Epoch 14:\n",
            "\tTrain: Average Accuracy: 96.07024228214146\tAverage Loss: 0.1419646842738755\n",
            "\tTest: Average Accuracy: 95.79398777173913\tAverage Loss: 0.14925492933367832\n",
            "Epoch 15:\n",
            "\tTrain: Average Accuracy: 96.12763774912075\tAverage Loss: 0.13978638346297054\n",
            "\tTest: Average Accuracy: 95.85258152173913\tAverage Loss: 0.14737953627107508\n"
          ]
        }
      ],
      "source": [
        "LEARNING_RATE = 0.00010\n",
        "print(\"Learning Rate = \", LEARNING_RATE, \"\\n\")\n",
        "\n",
        "network = FeedForwardNN(INPUT_SHAPE)\n",
        "network.add_layer(45, input_shape=INPUT_SHAPE, activation=Relu(), weight_initializer='uniform')\n",
        "network.add_layer(10, activation=Identical(), weight_initializer='uniform')\n",
        "network.set_training_param(loss=CrossEntropy(), lr=LEARNING_RATE)\n",
        "log = network.fit(EPOCHS, TRAINLOADER, TESTLOADER)"
      ]
    },
    {
      "cell_type": "code",
      "execution_count": null,
      "id": "992cc745",
      "metadata": {
        "scrolled": true,
        "id": "992cc745",
        "outputId": "14f2612a-509e-4b08-d62d-840e9e308bfa"
      },
      "outputs": [
        {
          "name": "stdout",
          "output_type": "stream",
          "text": [
            "Learning Rate =  0.00015 \n",
            "\n",
            "Epoch 1:\n",
            "\tTrain: Average Accuracy: 68.92936694021103\tAverage Loss: 0.9595695082543022\n",
            "\tTest: Average Accuracy: 89.65140964673913\tAverage Loss: 0.3475968967364872\n",
            "Epoch 2:\n",
            "\tTrain: Average Accuracy: 92.29210629152013\tAverage Loss: 0.2694313441303663\n",
            "\tTest: Average Accuracy: 93.33793308423913\tAverage Loss: 0.22966303800696503\n",
            "Epoch 3:\n",
            "\tTrain: Average Accuracy: 94.09368894099258\tAverage Loss: 0.20599775100324075\n",
            "\tTest: Average Accuracy: 94.20707370923913\tAverage Loss: 0.19701528531536525\n",
            "Epoch 4:\n",
            "\tTrain: Average Accuracy: 94.8215123094959\tAverage Loss: 0.18216087254358487\n",
            "\tTest: Average Accuracy: 94.81742527173913\tAverage Loss: 0.18049607738869927\n",
            "Epoch 5:\n",
            "\tTrain: Average Accuracy: 95.20530480656507\tAverage Loss: 0.16873350952007266\n",
            "\tTest: Average Accuracy: 95.13969089673913\tAverage Loss: 0.17029152206729656\n",
            "Epoch 6:\n",
            "\tTrain: Average Accuracy: 95.48251270027355\tAverage Loss: 0.15984030652944523\n",
            "\tTest: Average Accuracy: 95.38383152173913\tAverage Loss: 0.1632349037608914\n",
            "Epoch 7:\n",
            "\tTrain: Average Accuracy: 95.68190699491988\tAverage Loss: 0.1533600248771273\n",
            "\tTest: Average Accuracy: 95.53519870923913\tAverage Loss: 0.15796738373041125\n",
            "Epoch 8:\n",
            "\tTrain: Average Accuracy: 95.85653575615474\tAverage Loss: 0.14833207031406515\n",
            "\tTest: Average Accuracy: 95.61820652173913\tAverage Loss: 0.15382014094653845\n",
            "Epoch 9:\n",
            "\tTrain: Average Accuracy: 95.97254787026182\tAverage Loss: 0.1442573756964611\n",
            "\tTest: Average Accuracy: 95.75492527173913\tAverage Loss: 0.15043238414172433\n",
            "Epoch 10:\n",
            "\tTrain: Average Accuracy: 96.07268464243845\tAverage Loss: 0.14084846312608354\n",
            "\tTest: Average Accuracy: 95.82328464673913\tAverage Loss: 0.14758688208495058\n",
            "Epoch 11:\n",
            "\tTrain: Average Accuracy: 96.14839781164517\tAverage Loss: 0.1379284916979192\n",
            "\tTest: Average Accuracy: 95.94535495923913\tAverage Loss: 0.1451482268857248\n",
            "Epoch 12:\n",
            "\tTrain: Average Accuracy: 96.22411098085189\tAverage Loss: 0.13538200658298952\n",
            "\tTest: Average Accuracy: 95.99418308423913\tAverage Loss: 0.14302639241570622\n",
            "Epoch 13:\n",
            "\tTrain: Average Accuracy: 96.31081477139507\tAverage Loss: 0.13312994708160955\n",
            "\tTest: Average Accuracy: 96.02347995923913\tAverage Loss: 0.14115816311080395\n",
            "Epoch 14:\n",
            "\tTrain: Average Accuracy: 96.36821023837436\tAverage Loss: 0.13111539346536877\n",
            "\tTest: Average Accuracy: 96.10648777173913\tAverage Loss: 0.1394978109174529\n",
            "Epoch 15:\n",
            "\tTrain: Average Accuracy: 96.43781750683861\tAverage Loss: 0.12929679371587524\n",
            "\tTest: Average Accuracy: 96.13090183423913\tAverage Loss: 0.13801178694106783\n"
          ]
        }
      ],
      "source": [
        "LEARNING_RATE = 0.00015\n",
        "print(\"Learning Rate = \", LEARNING_RATE, \"\\n\")\n",
        "\n",
        "network = FeedForwardNN(INPUT_SHAPE)\n",
        "network.add_layer(45, input_shape=INPUT_SHAPE, activation=Relu(), weight_initializer='uniform')\n",
        "network.add_layer(10, activation=Identical(), weight_initializer='uniform')\n",
        "network.set_training_param(loss=CrossEntropy(), lr=LEARNING_RATE)\n",
        "log = network.fit(EPOCHS, TRAINLOADER, TESTLOADER)"
      ]
    },
    {
      "cell_type": "code",
      "execution_count": null,
      "id": "7ce78aa3",
      "metadata": {
        "id": "7ce78aa3",
        "outputId": "a1adb859-33af-44fc-9469-2273a5c0ee12"
      },
      "outputs": [
        {
          "name": "stdout",
          "output_type": "stream",
          "text": [
            "Learning Rate =  0.00025 \n",
            "\n",
            "Epoch 1:\n",
            "\tTrain: Average Accuracy: 77.01025791324736\tAverage Loss: 0.7274639370868651\n",
            "\tTest: Average Accuracy: 92.99125339673913\tAverage Loss: 0.2463735688300897\n",
            "Epoch 2:\n",
            "\tTrain: Average Accuracy: 94.03751465416178\tAverage Loss: 0.2082062464261714\n",
            "\tTest: Average Accuracy: 94.46097995923913\tAverage Loss: 0.19142385550284596\n",
            "Epoch 3:\n",
            "\tTrain: Average Accuracy: 95.01357952325127\tAverage Loss: 0.1747389508045845\n",
            "\tTest: Average Accuracy: 95.10062839673913\tAverage Loss: 0.17204388836391654\n",
            "Epoch 4:\n",
            "\tTrain: Average Accuracy: 95.51059984368894\tAverage Loss: 0.1597833812909417\n",
            "\tTest: Average Accuracy: 95.46195652173913\tAverage Loss: 0.16142150059789717\n",
            "Epoch 5:\n",
            "\tTrain: Average Accuracy: 95.79669792887847\tAverage Loss: 0.1506373131370737\n",
            "\tTest: Average Accuracy: 95.67680027173913\tAverage Loss: 0.15440997790840885\n",
            "Epoch 6:\n",
            "\tTrain: Average Accuracy: 96.01162563501367\tAverage Loss: 0.14417608796457088\n",
            "\tTest: Average Accuracy: 95.83793308423913\tAverage Loss: 0.14929109157066545\n",
            "Epoch 7:\n",
            "\tTrain: Average Accuracy: 96.17526377491207\tAverage Loss: 0.13922334715090134\n",
            "\tTest: Average Accuracy: 95.92582370923913\tAverage Loss: 0.14531863899932468\n",
            "Epoch 8:\n",
            "\tTrain: Average Accuracy: 96.28272762797968\tAverage Loss: 0.1352306867013396\n",
            "\tTest: Average Accuracy: 95.99418308423913\tAverage Loss: 0.14211024111347534\n",
            "Epoch 9:\n",
            "\tTrain: Average Accuracy: 96.39385502149277\tAverage Loss: 0.13190210613983502\n",
            "\tTest: Average Accuracy: 96.09672214673913\tAverage Loss: 0.13945080564129303\n",
            "Epoch 10:\n",
            "\tTrain: Average Accuracy: 96.468347010551\tAverage Loss: 0.12905989680946162\n",
            "\tTest: Average Accuracy: 96.18461277173913\tAverage Loss: 0.13720758768017635\n",
            "Epoch 11:\n",
            "\tTrain: Average Accuracy: 96.56970496287612\tAverage Loss: 0.12658841681299218\n",
            "\tTest: Average Accuracy: 96.23832370923913\tAverage Loss: 0.13529624710652363\n",
            "Epoch 12:\n",
            "\tTrain: Average Accuracy: 96.62465806955842\tAverage Loss: 0.1244094912536986\n",
            "\tTest: Average Accuracy: 96.27250339673913\tAverage Loss: 0.1336395515600768\n",
            "Epoch 13:\n",
            "\tTrain: Average Accuracy: 96.66617819460727\tAverage Loss: 0.1224648157233472\n",
            "\tTest: Average Accuracy: 96.32621433423913\tAverage Loss: 0.13219595734460723\n",
            "Epoch 14:\n",
            "\tTrain: Average Accuracy: 96.71502540054709\tAverage Loss: 0.12071447151441388\n",
            "\tTest: Average Accuracy: 96.36039402173913\tAverage Loss: 0.13093256758275484\n",
            "Epoch 15:\n",
            "\tTrain: Average Accuracy: 96.7406701836655\tAverage Loss: 0.11912810586301015\n",
            "\tTest: Average Accuracy: 96.36527683423913\tAverage Loss: 0.12982402204754712\n"
          ]
        }
      ],
      "source": [
        "LEARNING_RATE = 0.00025\n",
        "print(\"Learning Rate = \", LEARNING_RATE, \"\\n\")\n",
        "\n",
        "network = FeedForwardNN(INPUT_SHAPE)\n",
        "network.add_layer(45, input_shape=INPUT_SHAPE, activation=Relu(), weight_initializer='uniform')\n",
        "network.add_layer(10, activation=Identical(), weight_initializer='uniform')\n",
        "network.set_training_param(loss=CrossEntropy(), lr=LEARNING_RATE)\n",
        "log = network.fit(EPOCHS, TRAINLOADER, TESTLOADER)"
      ]
    },
    {
      "cell_type": "code",
      "execution_count": null,
      "id": "2fb681ee",
      "metadata": {
        "id": "2fb681ee",
        "outputId": "f28aaafe-fe86-462d-9394-e19fee0d4c64"
      },
      "outputs": [
        {
          "name": "stdout",
          "output_type": "stream",
          "text": [
            "Learning Rate =  0.0005 \n",
            "\n",
            "Epoch 1:\n",
            "\tTrain: Average Accuracy: 84.89087534193044\tAverage Loss: 0.5352639300004786\n",
            "\tTest: Average Accuracy: 94.51957370923913\tAverage Loss: 0.19505098645459523\n",
            "Epoch 2:\n",
            "\tTrain: Average Accuracy: 95.20808909730363\tAverage Loss: 0.17051989390121577\n",
            "\tTest: Average Accuracy: 95.53519870923913\tAverage Loss: 0.16324918648764064\n",
            "Epoch 3:\n",
            "\tTrain: Average Accuracy: 95.8675263774912\tAverage Loss: 0.14952086514737892\n",
            "\tTest: Average Accuracy: 95.81840183423913\tAverage Loss: 0.15031617903941735\n",
            "Epoch 4:\n",
            "\tTrain: Average Accuracy: 96.18503321610004\tAverage Loss: 0.1388704727029377\n",
            "\tTest: Average Accuracy: 96.05277683423913\tAverage Loss: 0.14266869335959992\n",
            "Epoch 5:\n",
            "\tTrain: Average Accuracy: 96.37553731926533\tAverage Loss: 0.13185901598019767\n",
            "\tTest: Average Accuracy: 96.16508152173913\tAverage Loss: 0.13740153757316256\n",
            "Epoch 6:\n",
            "\tTrain: Average Accuracy: 96.5220789370848\tAverage Loss: 0.12667065176325495\n",
            "\tTest: Average Accuracy: 96.33109714673913\tAverage Loss: 0.1334728014495492\n",
            "Epoch 7:\n",
            "\tTrain: Average Accuracy: 96.63564869089488\tAverage Loss: 0.12256764649272192\n",
            "\tTest: Average Accuracy: 96.42875339673913\tAverage Loss: 0.13036354486569118\n",
            "Epoch 8:\n",
            "\tTrain: Average Accuracy: 96.72601602188355\tAverage Loss: 0.11915661518139939\n",
            "\tTest: Average Accuracy: 96.52152683423913\tAverage Loss: 0.12784328666910377\n",
            "Epoch 9:\n",
            "\tTrain: Average Accuracy: 96.81760453302071\tAverage Loss: 0.11627958764266841\n",
            "\tTest: Average Accuracy: 96.59476902173913\tAverage Loss: 0.12576045491529125\n",
            "Epoch 10:\n",
            "\tTrain: Average Accuracy: 96.87988472059398\tAverage Loss: 0.1137885840830441\n",
            "\tTest: Average Accuracy: 96.66312839673913\tAverage Loss: 0.12401960866997774\n",
            "Epoch 11:\n",
            "\tTrain: Average Accuracy: 96.93728018757326\tAverage Loss: 0.11160951762429223\n",
            "\tTest: Average Accuracy: 96.68754245923913\tAverage Loss: 0.12256508403071183\n",
            "Epoch 12:\n",
            "\tTrain: Average Accuracy: 96.98734857366159\tAverage Loss: 0.10966263081694287\n",
            "\tTest: Average Accuracy: 96.67289402173913\tAverage Loss: 0.1212983786464141\n",
            "Epoch 13:\n",
            "\tTrain: Average Accuracy: 97.04596522078937\tAverage Loss: 0.10789064644325567\n",
            "\tTest: Average Accuracy: 96.71195652173913\tAverage Loss: 0.12021010611040464\n",
            "Epoch 14:\n",
            "\tTrain: Average Accuracy: 97.09725478702619\tAverage Loss: 0.1062672369902918\n",
            "\tTest: Average Accuracy: 96.74125339673913\tAverage Loss: 0.11926240849428474\n",
            "Epoch 15:\n",
            "\tTrain: Average Accuracy: 97.1180148495506\tAverage Loss: 0.10477319608603088\n",
            "\tTest: Average Accuracy: 96.75590183423913\tAverage Loss: 0.11836851993451014\n"
          ]
        }
      ],
      "source": [
        "LEARNING_RATE = 0.0005\n",
        "print(\"Learning Rate = \", LEARNING_RATE, \"\\n\")\n",
        "\n",
        "network = FeedForwardNN(INPUT_SHAPE)\n",
        "network.add_layer(45, input_shape=INPUT_SHAPE, activation=Relu(), weight_initializer='uniform')\n",
        "network.add_layer(10, activation=Identical(), weight_initializer='uniform')\n",
        "network.set_training_param(loss=CrossEntropy(), lr=LEARNING_RATE)\n",
        "log = network.fit(EPOCHS, TRAINLOADER, TESTLOADER)"
      ]
    },
    {
      "cell_type": "code",
      "execution_count": null,
      "id": "57f4abe9",
      "metadata": {
        "id": "57f4abe9",
        "outputId": "7fd61f67-cadd-443a-9863-c93ce7dfc865"
      },
      "outputs": [
        {
          "name": "stdout",
          "output_type": "stream",
          "text": [
            "Learning Rate =  0.0015 \n",
            "\n",
            "Epoch 1:\n",
            "\tTrain: Average Accuracy: 91.94143220007815\tAverage Loss: 0.325068516506477\n",
            "\tTest: Average Accuracy: 95.58890964673913\tAverage Loss: 0.15626129210516837\n",
            "Epoch 2:\n",
            "\tTrain: Average Accuracy: 96.02627979679562\tAverage Loss: 0.13894698069321704\n",
            "\tTest: Average Accuracy: 96.14066745923913\tAverage Loss: 0.13854673481605756\n",
            "Epoch 3:\n",
            "\tTrain: Average Accuracy: 96.42926924579913\tAverage Loss: 0.12532564290555218\n",
            "\tTest: Average Accuracy: 96.32133152173913\tAverage Loss: 0.13100460034645373\n",
            "Epoch 4:\n",
            "\tTrain: Average Accuracy: 96.60878272762798\tAverage Loss: 0.11781699908944834\n",
            "\tTest: Average Accuracy: 96.37015964673913\tAverage Loss: 0.12674171425172592\n",
            "Epoch 5:\n",
            "\tTrain: Average Accuracy: 96.75654552559594\tAverage Loss: 0.1129938322486753\n",
            "\tTest: Average Accuracy: 96.46484375\tAverage Loss: 0.12475506256741946\n",
            "Epoch 6:\n",
            "\tTrain: Average Accuracy: 96.82371043376318\tAverage Loss: 0.1098713917400154\n",
            "\tTest: Average Accuracy: 96.4599609375\tAverage Loss: 0.12456947879103215\n",
            "Epoch 7:\n",
            "\tTrain: Average Accuracy: 96.85668229777256\tAverage Loss: 0.10778275606842659\n",
            "\tTest: Average Accuracy: 96.4208984375\tAverage Loss: 0.12477008571444062\n",
            "Epoch 8:\n",
            "\tTrain: Average Accuracy: 96.90552950371239\tAverage Loss: 0.10610982559702843\n",
            "\tTest: Average Accuracy: 96.4111328125\tAverage Loss: 0.12482984318299221\n",
            "Epoch 9:\n",
            "\tTrain: Average Accuracy: 96.94582844861274\tAverage Loss: 0.10477581837393422\n",
            "\tTest: Average Accuracy: 96.357421875\tAverage Loss: 0.12498367161726671\n",
            "Epoch 10:\n",
            "\tTrain: Average Accuracy: 96.95193434935521\tAverage Loss: 0.10373164516770766\n",
            "\tTest: Average Accuracy: 96.34765625\tAverage Loss: 0.1253519021303362\n",
            "Epoch 11:\n",
            "\tTrain: Average Accuracy: 97.01020906604143\tAverage Loss: 0.1029608510909826\n",
            "\tTest: Average Accuracy: 96.3525390625\tAverage Loss: 0.12558767877490462\n",
            "Epoch 12:\n",
            "\tTrain: Average Accuracy: 97.01265142633841\tAverage Loss: 0.10241940514034663\n",
            "\tTest: Average Accuracy: 96.376953125\tAverage Loss: 0.12593750218207894\n",
            "Epoch 13:\n",
            "\tTrain: Average Accuracy: 97.02085775693631\tAverage Loss: 0.10209208220593244\n",
            "\tTest: Average Accuracy: 96.3623046875\tAverage Loss: 0.12649618891051656\n",
            "Epoch 14:\n",
            "\tTrain: Average Accuracy: 97.03096912856584\tAverage Loss: 0.10192934707823152\n",
            "\tTest: Average Accuracy: 96.376953125\tAverage Loss: 0.12724993159159764\n",
            "Epoch 15:\n",
            "\tTrain: Average Accuracy: 97.03429073856975\tAverage Loss: 0.10201032585968386\n",
            "\tTest: Average Accuracy: 96.279296875\tAverage Loss: 0.12811565777149347\n"
          ]
        }
      ],
      "source": [
        "LEARNING_RATE = 0.0015\n",
        "print(\"Learning Rate = \", LEARNING_RATE, \"\\n\")\n",
        "\n",
        "network = FeedForwardNN(INPUT_SHAPE)\n",
        "network.add_layer(45, input_shape=INPUT_SHAPE, activation=Relu(), weight_initializer='uniform')\n",
        "network.add_layer(10, activation=Identical(), weight_initializer='uniform')\n",
        "network.set_training_param(loss=CrossEntropy(), lr=LEARNING_RATE)\n",
        "log = network.fit(EPOCHS, TRAINLOADER, TESTLOADER)"
      ]
    },
    {
      "cell_type": "code",
      "execution_count": null,
      "id": "c8e94f3c",
      "metadata": {
        "id": "c8e94f3c",
        "outputId": "d78e9c8d-487b-4a5d-fa80-c82d38d86636"
      },
      "outputs": [
        {
          "name": "stdout",
          "output_type": "stream",
          "text": [
            "Learning Rate =  0.0035 \n",
            "\n",
            "Epoch 1:\n",
            "\tTrain: Average Accuracy: 9.945095740523643\tAverage Loss: 2.3386514186297283\n",
            "\tTest: Average Accuracy: 9.8291015625\tAverage Loss: 2.3030106611142402\n",
            "Epoch 2:\n",
            "\tTrain: Average Accuracy: 9.919450957405237\tAverage Loss: 2.3033473519251104\n",
            "\tTest: Average Accuracy: 9.8291015625\tAverage Loss: 2.3030106611142407\n",
            "Epoch 3:\n",
            "\tTrain: Average Accuracy: 9.919450957405237\tAverage Loss: 2.3033473519251104\n",
            "\tTest: Average Accuracy: 9.8291015625\tAverage Loss: 2.3030106611142407\n",
            "Epoch 4:\n",
            "\tTrain: Average Accuracy: 9.919450957405237\tAverage Loss: 2.3033473519251104\n",
            "\tTest: Average Accuracy: 9.8291015625\tAverage Loss: 2.3030106611142407\n",
            "Epoch 5:\n",
            "\tTrain: Average Accuracy: 9.919450957405237\tAverage Loss: 2.3033473519251104\n",
            "\tTest: Average Accuracy: 9.8291015625\tAverage Loss: 2.3030106611142407\n",
            "Epoch 6:\n",
            "\tTrain: Average Accuracy: 9.919450957405237\tAverage Loss: 2.3033473519251104\n",
            "\tTest: Average Accuracy: 9.8291015625\tAverage Loss: 2.3030106611142407\n",
            "Epoch 7:\n",
            "\tTrain: Average Accuracy: 9.919450957405237\tAverage Loss: 2.3033473519251104\n",
            "\tTest: Average Accuracy: 9.8291015625\tAverage Loss: 2.3030106611142407\n",
            "Epoch 8:\n",
            "\tTrain: Average Accuracy: 9.919450957405237\tAverage Loss: 2.3033473519251104\n",
            "\tTest: Average Accuracy: 9.8291015625\tAverage Loss: 2.3030106611142407\n",
            "Epoch 9:\n",
            "\tTrain: Average Accuracy: 9.919450957405237\tAverage Loss: 2.3033473519251104\n",
            "\tTest: Average Accuracy: 9.8291015625\tAverage Loss: 2.3030106611142407\n",
            "Epoch 10:\n",
            "\tTrain: Average Accuracy: 9.919450957405237\tAverage Loss: 2.3033473519251104\n",
            "\tTest: Average Accuracy: 9.8291015625\tAverage Loss: 2.3030106611142407\n",
            "Epoch 11:\n",
            "\tTrain: Average Accuracy: 9.919450957405237\tAverage Loss: 2.3033473519251104\n",
            "\tTest: Average Accuracy: 9.8291015625\tAverage Loss: 2.3030106611142407\n",
            "Epoch 12:\n",
            "\tTrain: Average Accuracy: 9.919450957405237\tAverage Loss: 2.3033473519251104\n",
            "\tTest: Average Accuracy: 9.8291015625\tAverage Loss: 2.3030106611142407\n",
            "Epoch 13:\n",
            "\tTrain: Average Accuracy: 9.919450957405237\tAverage Loss: 2.3033473519251104\n",
            "\tTest: Average Accuracy: 9.8291015625\tAverage Loss: 2.3030106611142407\n",
            "Epoch 14:\n",
            "\tTrain: Average Accuracy: 9.919450957405237\tAverage Loss: 2.3033473519251104\n",
            "\tTest: Average Accuracy: 9.8291015625\tAverage Loss: 2.3030106611142407\n",
            "Epoch 15:\n",
            "\tTrain: Average Accuracy: 9.919450957405237\tAverage Loss: 2.3033473519251104\n",
            "\tTest: Average Accuracy: 9.8291015625\tAverage Loss: 2.3030106611142407\n"
          ]
        }
      ],
      "source": [
        "LEARNING_RATE = 0.0035\n",
        "print(\"Learning Rate = \", LEARNING_RATE, \"\\n\")\n",
        "\n",
        "network = FeedForwardNN(INPUT_SHAPE)\n",
        "network.add_layer(45, input_shape=INPUT_SHAPE, activation=Relu(), weight_initializer='uniform')\n",
        "network.add_layer(10, activation=Identical(), weight_initializer='uniform')\n",
        "network.set_training_param(loss=CrossEntropy(), lr=LEARNING_RATE)\n",
        "log = network.fit(EPOCHS, TRAINLOADER, TESTLOADER)"
      ]
    },
    {
      "cell_type": "markdown",
      "id": "321efb90",
      "metadata": {
        "id": "321efb90"
      },
      "source": [
        "By checking multiple values for learning rate, optimal `learning rate` was around $0.0005$\n",
        "\n",
        "**Learning Rate * 0.1**\n",
        "\n",
        "Now, when we multiplied the optimum learning rate by 0.1, the speed of the learning process decreased and it seems that we need more epochs to converge to the highest accuracy."
      ]
    },
    {
      "cell_type": "code",
      "execution_count": null,
      "id": "7689d097",
      "metadata": {
        "id": "7689d097",
        "outputId": "f61cf2e1-3fcc-4e44-b8f1-fcc8ec06350e"
      },
      "outputs": [
        {
          "name": "stdout",
          "output_type": "stream",
          "text": [
            "Learning Rate =  5e-05 \n",
            "\n",
            "Epoch 1:\n",
            "\tTrain: Average Accuracy: 41.22552754982415\tAverage Loss: 1.7709733852909857\n",
            "\tTest: Average Accuracy: 75.64877717391305\tAverage Loss: 0.9664271336603859\n",
            "Epoch 2:\n",
            "\tTrain: Average Accuracy: 83.2550312622118\tAverage Loss: 0.6476271075822522\n",
            "\tTest: Average Accuracy: 86.78243885869566\tAverage Loss: 0.47261168655817887\n",
            "Epoch 3:\n",
            "\tTrain: Average Accuracy: 88.65596912856584\tAverage Loss: 0.3915423404001563\n",
            "\tTest: Average Accuracy: 90.36727241847827\tAverage Loss: 0.33702704137808287\n",
            "Epoch 4:\n",
            "\tTrain: Average Accuracy: 91.59202813599062\tAverage Loss: 0.29867778452229915\n",
            "\tTest: Average Accuracy: 92.25883152173913\tAverage Loss: 0.27696363501248045\n",
            "Epoch 5:\n",
            "\tTrain: Average Accuracy: 93.00405431809301\tAverage Loss: 0.2540087304948382\n",
            "\tTest: Average Accuracy: 93.11332370923913\tAverage Loss: 0.2455606936666813\n",
            "Epoch 6:\n",
            "\tTrain: Average Accuracy: 93.60853849159828\tAverage Loss: 0.22873702539452612\n",
            "\tTest: Average Accuracy: 93.60160495923913\tAverage Loss: 0.22623562260512356\n",
            "Epoch 7:\n",
            "\tTrain: Average Accuracy: 94.07380812817507\tAverage Loss: 0.21227107141087834\n",
            "\tTest: Average Accuracy: 93.90922214673913\tAverage Loss: 0.212882162722293\n",
            "Epoch 8:\n",
            "\tTrain: Average Accuracy: 94.37543962485346\tAverage Loss: 0.20047506005856622\n",
            "\tTest: Average Accuracy: 94.17777683423913\tAverage Loss: 0.20296007914488845\n",
            "Epoch 9:\n",
            "\tTrain: Average Accuracy: 94.61967565455257\tAverage Loss: 0.19149113196669507\n",
            "\tTest: Average Accuracy: 94.36332370923913\tAverage Loss: 0.19523128184306618\n",
            "Epoch 10:\n",
            "\tTrain: Average Accuracy: 94.81017975771786\tAverage Loss: 0.18435876421989053\n",
            "\tTest: Average Accuracy: 94.56840183423913\tAverage Loss: 0.18900815555156267\n",
            "Epoch 11:\n",
            "\tTrain: Average Accuracy: 94.97992379835874\tAverage Loss: 0.17852285823137792\n",
            "\tTest: Average Accuracy: 94.75883152173913\tAverage Loss: 0.1838702753845892\n",
            "Epoch 12:\n",
            "\tTrain: Average Accuracy: 95.12646541617819\tAverage Loss: 0.17363537845659402\n",
            "\tTest: Average Accuracy: 94.91996433423913\tAverage Loss: 0.17954233231093714\n",
            "Epoch 13:\n",
            "\tTrain: Average Accuracy: 95.24858343102774\tAverage Loss: 0.1694644761660028\n",
            "\tTest: Average Accuracy: 95.03226902173913\tAverage Loss: 0.1758351461277779\n",
            "Epoch 14:\n",
            "\tTrain: Average Accuracy: 95.36615865572489\tAverage Loss: 0.16584949113982564\n",
            "\tTest: Average Accuracy: 95.14945652173913\tAverage Loss: 0.1726141793294605\n",
            "Epoch 15:\n",
            "\tTrain: Average Accuracy: 95.46507424775302\tAverage Loss: 0.16267503234662437\n",
            "\tTest: Average Accuracy: 95.22758152173913\tAverage Loss: 0.16978115045937364\n"
          ]
        }
      ],
      "source": [
        "LEARNING_RATE = 0.0005 * 0.1\n",
        "print(\"Learning Rate = \", LEARNING_RATE, \"\\n\")\n",
        "\n",
        "network = FeedForwardNN(INPUT_SHAPE)\n",
        "network.add_layer(45, input_shape=INPUT_SHAPE, activation=Relu(), weight_initializer='uniform')\n",
        "network.add_layer(10, activation=Identical(), weight_initializer='uniform')\n",
        "network.set_training_param(loss=CrossEntropy(), lr=LEARNING_RATE)\n",
        "log = network.fit(EPOCHS, TRAINLOADER, TESTLOADER)"
      ]
    },
    {
      "cell_type": "markdown",
      "id": "0b307db4",
      "metadata": {
        "id": "0b307db4"
      },
      "source": [
        "**Learning Rate * 10**\n",
        "\n",
        "Now, when we multiplied the optimum learning rate by 10, we faced with the problem of dying *Relu* and its obvious because weight will increase and it can cuase in vanishing in gradients. We can see that there is a small change between accuracies of different epochs."
      ]
    },
    {
      "cell_type": "code",
      "execution_count": null,
      "id": "4eb2ebd1",
      "metadata": {
        "id": "4eb2ebd1",
        "outputId": "fe11a569-9485-4682-94cb-99cfe5c6f67e"
      },
      "outputs": [
        {
          "name": "stdout",
          "output_type": "stream",
          "text": [
            "Learning Rate =  0.005 \n",
            "\n",
            "Epoch 1:\n"
          ]
        },
        {
          "name": "stderr",
          "output_type": "stream",
          "text": [
            "<ipython-input-11-d711fd6e7fb3>:33: RuntimeWarning: divide by zero encountered in log\n",
            "  output = np.log(Softmax()(temp))\n",
            "<ipython-input-11-d711fd6e7fb3>:36: RuntimeWarning: invalid value encountered in multiply\n",
            "  cross_entropy_value =  -1 * np.sum(np.multiply(expected, output), axis=1)\n",
            "<ipython-input-10-79141a531a0a>:254: RuntimeWarning: invalid value encountered in true_divide\n",
            "  softmax_value /= softmax_value.sum(axis=1)\n"
          ]
        },
        {
          "name": "stdout",
          "output_type": "stream",
          "text": [
            "\tTrain: Average Accuracy: 14.118210238374365\tAverage Loss: nan\n",
            "\tTest: Average Accuracy: 9.710852581521738\tAverage Loss: nan\n",
            "Epoch 2:\n",
            "\tTrain: Average Accuracy: 9.870945681906996\tAverage Loss: nan\n",
            "\tTest: Average Accuracy: 9.710852581521738\tAverage Loss: nan\n",
            "Epoch 3:\n",
            "\tTrain: Average Accuracy: 9.870945681906996\tAverage Loss: nan\n",
            "\tTest: Average Accuracy: 9.710852581521738\tAverage Loss: nan\n",
            "Epoch 4:\n",
            "\tTrain: Average Accuracy: 9.870945681906996\tAverage Loss: nan\n",
            "\tTest: Average Accuracy: 9.710852581521738\tAverage Loss: nan\n",
            "Epoch 5:\n",
            "\tTrain: Average Accuracy: 9.870945681906996\tAverage Loss: nan\n",
            "\tTest: Average Accuracy: 9.710852581521738\tAverage Loss: nan\n",
            "Epoch 6:\n",
            "\tTrain: Average Accuracy: 9.870945681906996\tAverage Loss: nan\n",
            "\tTest: Average Accuracy: 9.710852581521738\tAverage Loss: nan\n",
            "Epoch 7:\n",
            "\tTrain: Average Accuracy: 9.870945681906996\tAverage Loss: nan\n",
            "\tTest: Average Accuracy: 9.710852581521738\tAverage Loss: nan\n",
            "Epoch 8:\n",
            "\tTrain: Average Accuracy: 9.870945681906996\tAverage Loss: nan\n",
            "\tTest: Average Accuracy: 9.710852581521738\tAverage Loss: nan\n",
            "Epoch 9:\n"
          ]
        },
        {
          "ename": "KeyboardInterrupt",
          "evalue": "",
          "output_type": "error",
          "traceback": [
            "\u001b[1;31m---------------------------------------------------------------------------\u001b[0m",
            "\u001b[1;31mKeyboardInterrupt\u001b[0m                         Traceback (most recent call last)",
            "\u001b[1;32m<ipython-input-19-0034acabdde0>\u001b[0m in \u001b[0;36m<module>\u001b[1;34m\u001b[0m\n\u001b[0;32m      6\u001b[0m \u001b[0mnetwork\u001b[0m\u001b[1;33m.\u001b[0m\u001b[0madd_layer\u001b[0m\u001b[1;33m(\u001b[0m\u001b[1;36m10\u001b[0m\u001b[1;33m,\u001b[0m \u001b[0mactivation\u001b[0m\u001b[1;33m=\u001b[0m\u001b[0mIdentical\u001b[0m\u001b[1;33m(\u001b[0m\u001b[1;33m)\u001b[0m\u001b[1;33m,\u001b[0m \u001b[0mweight_initializer\u001b[0m\u001b[1;33m=\u001b[0m\u001b[1;34m'uniform'\u001b[0m\u001b[1;33m)\u001b[0m\u001b[1;33m\u001b[0m\u001b[1;33m\u001b[0m\u001b[0m\n\u001b[0;32m      7\u001b[0m \u001b[0mnetwork\u001b[0m\u001b[1;33m.\u001b[0m\u001b[0mset_training_param\u001b[0m\u001b[1;33m(\u001b[0m\u001b[0mloss\u001b[0m\u001b[1;33m=\u001b[0m\u001b[0mCrossEntropy\u001b[0m\u001b[1;33m(\u001b[0m\u001b[1;33m)\u001b[0m\u001b[1;33m,\u001b[0m \u001b[0mlr\u001b[0m\u001b[1;33m=\u001b[0m\u001b[0mLEARNING_RATE\u001b[0m\u001b[1;33m)\u001b[0m\u001b[1;33m\u001b[0m\u001b[1;33m\u001b[0m\u001b[0m\n\u001b[1;32m----> 8\u001b[1;33m \u001b[0mlog\u001b[0m \u001b[1;33m=\u001b[0m \u001b[0mnetwork\u001b[0m\u001b[1;33m.\u001b[0m\u001b[0mfit\u001b[0m\u001b[1;33m(\u001b[0m\u001b[0mEPOCHS\u001b[0m\u001b[1;33m,\u001b[0m \u001b[0mTRAINLOADER\u001b[0m\u001b[1;33m,\u001b[0m \u001b[0mTESTLOADER\u001b[0m\u001b[1;33m)\u001b[0m\u001b[1;33m\u001b[0m\u001b[1;33m\u001b[0m\u001b[0m\n\u001b[0m",
            "\u001b[1;32m<ipython-input-13-cee736adf9b1>\u001b[0m in \u001b[0;36mfit\u001b[1;34m(self, epochs, trainloader, testloader, print_results)\u001b[0m\n\u001b[0;32m     91\u001b[0m                 \u001b[0mprint\u001b[0m\u001b[1;33m(\u001b[0m\u001b[1;34m'Epoch {}:'\u001b[0m\u001b[1;33m.\u001b[0m\u001b[0mformat\u001b[0m\u001b[1;33m(\u001b[0m\u001b[0mepoch\u001b[0m\u001b[1;33m)\u001b[0m\u001b[1;33m)\u001b[0m\u001b[1;33m\u001b[0m\u001b[1;33m\u001b[0m\u001b[0m\n\u001b[0;32m     92\u001b[0m \u001b[1;33m\u001b[0m\u001b[0m\n\u001b[1;32m---> 93\u001b[1;33m             \u001b[0maverage_accuracy\u001b[0m\u001b[1;33m,\u001b[0m \u001b[0maverage_loss\u001b[0m \u001b[1;33m=\u001b[0m \u001b[0mself\u001b[0m\u001b[1;33m.\u001b[0m\u001b[0m__train\u001b[0m\u001b[1;33m(\u001b[0m\u001b[0mtrainloader\u001b[0m\u001b[1;33m)\u001b[0m\u001b[1;33m\u001b[0m\u001b[1;33m\u001b[0m\u001b[0m\n\u001b[0m\u001b[0;32m     94\u001b[0m             \u001b[0mlog\u001b[0m\u001b[1;33m[\u001b[0m\u001b[1;34m'train_accuracy'\u001b[0m\u001b[1;33m]\u001b[0m\u001b[1;33m.\u001b[0m\u001b[0mappend\u001b[0m\u001b[1;33m(\u001b[0m\u001b[0maverage_accuracy\u001b[0m\u001b[1;33m)\u001b[0m\u001b[1;33m\u001b[0m\u001b[1;33m\u001b[0m\u001b[0m\n\u001b[0;32m     95\u001b[0m             \u001b[0mlog\u001b[0m\u001b[1;33m[\u001b[0m\u001b[1;34m'train_loss'\u001b[0m\u001b[1;33m]\u001b[0m\u001b[1;33m.\u001b[0m\u001b[0mappend\u001b[0m\u001b[1;33m(\u001b[0m\u001b[0maverage_loss\u001b[0m\u001b[1;33m)\u001b[0m\u001b[1;33m\u001b[0m\u001b[1;33m\u001b[0m\u001b[0m\n",
            "\u001b[1;32m<ipython-input-13-cee736adf9b1>\u001b[0m in \u001b[0;36m__train\u001b[1;34m(self, trainloader)\u001b[0m\n\u001b[0;32m    117\u001b[0m         \u001b[0mbach_accuracies\u001b[0m\u001b[1;33m,\u001b[0m \u001b[0mbatch_losses\u001b[0m \u001b[1;33m=\u001b[0m \u001b[1;33m[\u001b[0m\u001b[1;33m]\u001b[0m\u001b[1;33m,\u001b[0m \u001b[1;33m[\u001b[0m\u001b[1;33m]\u001b[0m\u001b[1;33m\u001b[0m\u001b[1;33m\u001b[0m\u001b[0m\n\u001b[0;32m    118\u001b[0m         \u001b[1;32mfor\u001b[0m \u001b[0mx_train\u001b[0m\u001b[1;33m,\u001b[0m \u001b[0my_train\u001b[0m \u001b[1;32min\u001b[0m \u001b[0mtrainloader\u001b[0m\u001b[1;33m:\u001b[0m\u001b[1;33m\u001b[0m\u001b[1;33m\u001b[0m\u001b[0m\n\u001b[1;32m--> 119\u001b[1;33m             \u001b[0mbatch_accuracy\u001b[0m\u001b[1;33m,\u001b[0m \u001b[0mbatch_loss\u001b[0m \u001b[1;33m=\u001b[0m \u001b[0mself\u001b[0m\u001b[1;33m.\u001b[0m\u001b[0m__train_on_batch\u001b[0m\u001b[1;33m(\u001b[0m\u001b[0mx_train\u001b[0m\u001b[1;33m,\u001b[0m \u001b[0my_train\u001b[0m\u001b[1;33m)\u001b[0m\u001b[1;33m\u001b[0m\u001b[1;33m\u001b[0m\u001b[0m\n\u001b[0m\u001b[0;32m    120\u001b[0m             \u001b[0mbach_accuracies\u001b[0m\u001b[1;33m.\u001b[0m\u001b[0mappend\u001b[0m\u001b[1;33m(\u001b[0m\u001b[0mbatch_accuracy\u001b[0m\u001b[1;33m)\u001b[0m\u001b[1;33m\u001b[0m\u001b[1;33m\u001b[0m\u001b[0m\n\u001b[0;32m    121\u001b[0m             \u001b[0mbatch_losses\u001b[0m\u001b[1;33m.\u001b[0m\u001b[0mappend\u001b[0m\u001b[1;33m(\u001b[0m\u001b[0mbatch_loss\u001b[0m\u001b[1;33m)\u001b[0m\u001b[1;33m\u001b[0m\u001b[1;33m\u001b[0m\u001b[0m\n",
            "\u001b[1;32m<ipython-input-13-cee736adf9b1>\u001b[0m in \u001b[0;36m__train_on_batch\u001b[1;34m(self, x_batch, y_batch)\u001b[0m\n\u001b[0;32m    151\u001b[0m         \u001b[0mbatch_accuracy\u001b[0m \u001b[1;33m=\u001b[0m \u001b[0mself\u001b[0m\u001b[1;33m.\u001b[0m\u001b[0m__compute_accuracy\u001b[0m\u001b[1;33m(\u001b[0m\u001b[0my_batch\u001b[0m\u001b[1;33m,\u001b[0m \u001b[0mnetwork_output\u001b[0m\u001b[1;33m)\u001b[0m\u001b[1;33m\u001b[0m\u001b[1;33m\u001b[0m\u001b[0m\n\u001b[0;32m    152\u001b[0m         \u001b[0mbatch_average_loss\u001b[0m \u001b[1;33m=\u001b[0m \u001b[0mnp\u001b[0m\u001b[1;33m.\u001b[0m\u001b[0mmean\u001b[0m\u001b[1;33m(\u001b[0m\u001b[0mself\u001b[0m\u001b[1;33m.\u001b[0m\u001b[0m__loss\u001b[0m\u001b[1;33m(\u001b[0m\u001b[0mnetwork_output\u001b[0m\u001b[1;33m,\u001b[0m \u001b[0my_batch\u001b[0m\u001b[1;33m)\u001b[0m\u001b[1;33m)\u001b[0m\u001b[1;33m\u001b[0m\u001b[1;33m\u001b[0m\u001b[0m\n\u001b[1;32m--> 153\u001b[1;33m         \u001b[0mself\u001b[0m\u001b[1;33m.\u001b[0m\u001b[0m__update_weights\u001b[0m\u001b[1;33m(\u001b[0m\u001b[0mnetwork_output\u001b[0m\u001b[1;33m,\u001b[0m \u001b[0my_batch\u001b[0m\u001b[1;33m)\u001b[0m\u001b[1;33m\u001b[0m\u001b[1;33m\u001b[0m\u001b[0m\n\u001b[0m\u001b[0;32m    154\u001b[0m         \u001b[1;32mreturn\u001b[0m \u001b[1;33m(\u001b[0m\u001b[0mbatch_accuracy\u001b[0m\u001b[1;33m,\u001b[0m \u001b[0mbatch_average_loss\u001b[0m\u001b[1;33m)\u001b[0m\u001b[1;33m\u001b[0m\u001b[1;33m\u001b[0m\u001b[0m\n\u001b[0;32m    155\u001b[0m \u001b[1;33m\u001b[0m\u001b[0m\n",
            "\u001b[1;32m<ipython-input-13-cee736adf9b1>\u001b[0m in \u001b[0;36m__update_weights\u001b[1;34m(self, output, y_train)\u001b[0m\n\u001b[0;32m    205\u001b[0m         \u001b[0mbackprop_tensor\u001b[0m \u001b[1;33m=\u001b[0m \u001b[0mself\u001b[0m\u001b[1;33m.\u001b[0m\u001b[0m__loss\u001b[0m\u001b[1;33m.\u001b[0m\u001b[0mderivative\u001b[0m\u001b[1;33m(\u001b[0m\u001b[0moutput\u001b[0m\u001b[1;33m,\u001b[0m \u001b[0my_train\u001b[0m\u001b[1;33m)\u001b[0m\u001b[1;33m\u001b[0m\u001b[1;33m\u001b[0m\u001b[0m\n\u001b[0;32m    206\u001b[0m         \u001b[1;32mfor\u001b[0m \u001b[0mlayer\u001b[0m \u001b[1;32min\u001b[0m \u001b[0mreversed\u001b[0m\u001b[1;33m(\u001b[0m\u001b[0mself\u001b[0m\u001b[1;33m.\u001b[0m\u001b[0m__layers_list\u001b[0m\u001b[1;33m)\u001b[0m\u001b[1;33m:\u001b[0m\u001b[1;33m\u001b[0m\u001b[1;33m\u001b[0m\u001b[0m\n\u001b[1;32m--> 207\u001b[1;33m             \u001b[0mbackprop_tensor\u001b[0m \u001b[1;33m=\u001b[0m \u001b[0mlayer\u001b[0m\u001b[1;33m.\u001b[0m\u001b[0mupdate_weights\u001b[0m\u001b[1;33m(\u001b[0m\u001b[0mbackprop_tensor\u001b[0m\u001b[1;33m,\u001b[0m \u001b[0mself\u001b[0m\u001b[1;33m.\u001b[0m\u001b[0m__lr\u001b[0m\u001b[1;33m)\u001b[0m\u001b[1;33m\u001b[0m\u001b[1;33m\u001b[0m\u001b[0m\n\u001b[0m\u001b[0;32m    208\u001b[0m         \u001b[1;32mreturn\u001b[0m\u001b[1;33m\u001b[0m\u001b[1;33m\u001b[0m\u001b[0m\n",
            "\u001b[1;32m<ipython-input-12-be80f71bcc84>\u001b[0m in \u001b[0;36mupdate_weights\u001b[1;34m(self, backprop_tensor, lr)\u001b[0m\n\u001b[0;32m     73\u001b[0m         \u001b[0mbackprop_tensor\u001b[0m \u001b[1;33m=\u001b[0m \u001b[0mnp\u001b[0m\u001b[1;33m.\u001b[0m\u001b[0mmatmul\u001b[0m\u001b[1;33m(\u001b[0m\u001b[0mdy\u001b[0m\u001b[1;33m,\u001b[0m \u001b[0mnp\u001b[0m\u001b[1;33m.\u001b[0m\u001b[0mtranspose\u001b[0m\u001b[1;33m(\u001b[0m\u001b[0mself\u001b[0m\u001b[1;33m.\u001b[0m\u001b[0m__weight\u001b[0m\u001b[1;33m)\u001b[0m\u001b[1;33m)\u001b[0m\u001b[1;33m\u001b[0m\u001b[1;33m\u001b[0m\u001b[0m\n\u001b[0;32m     74\u001b[0m         \u001b[0mself\u001b[0m\u001b[1;33m.\u001b[0m\u001b[0m__bias\u001b[0m \u001b[1;33m-=\u001b[0m \u001b[0mlr\u001b[0m \u001b[1;33m*\u001b[0m \u001b[0mnp\u001b[0m\u001b[1;33m.\u001b[0m\u001b[0mmatmul\u001b[0m\u001b[1;33m(\u001b[0m\u001b[0mones\u001b[0m\u001b[1;33m.\u001b[0m\u001b[0mT\u001b[0m\u001b[1;33m,\u001b[0m \u001b[0mdy\u001b[0m\u001b[1;33m)\u001b[0m\u001b[1;33m\u001b[0m\u001b[1;33m\u001b[0m\u001b[0m\n\u001b[1;32m---> 75\u001b[1;33m         \u001b[0mself\u001b[0m\u001b[1;33m.\u001b[0m\u001b[0m__weight\u001b[0m \u001b[1;33m-=\u001b[0m \u001b[0mlr\u001b[0m \u001b[1;33m*\u001b[0m \u001b[0mnp\u001b[0m\u001b[1;33m.\u001b[0m\u001b[0mmatmul\u001b[0m\u001b[1;33m(\u001b[0m\u001b[0mself\u001b[0m\u001b[1;33m.\u001b[0m\u001b[0m__last_input\u001b[0m\u001b[1;33m.\u001b[0m\u001b[0mT\u001b[0m\u001b[1;33m,\u001b[0m \u001b[0mdy\u001b[0m\u001b[1;33m)\u001b[0m\u001b[1;33m\u001b[0m\u001b[1;33m\u001b[0m\u001b[0m\n\u001b[0m\u001b[0;32m     76\u001b[0m         \u001b[1;32mreturn\u001b[0m \u001b[0mbackprop_tensor\u001b[0m\u001b[1;33m\u001b[0m\u001b[1;33m\u001b[0m\u001b[0m\n\u001b[0;32m     77\u001b[0m \u001b[1;33m\u001b[0m\u001b[0m\n",
            "\u001b[1;32m~\\anaconda3\\lib\\site-packages\\numpy\\matrixlib\\defmatrix.py\u001b[0m in \u001b[0;36m__array_finalize__\u001b[1;34m(self, obj)\u001b[0m\n\u001b[0;32m    165\u001b[0m         \u001b[1;32mreturn\u001b[0m \u001b[0mret\u001b[0m\u001b[1;33m\u001b[0m\u001b[1;33m\u001b[0m\u001b[0m\n\u001b[0;32m    166\u001b[0m \u001b[1;33m\u001b[0m\u001b[0m\n\u001b[1;32m--> 167\u001b[1;33m     \u001b[1;32mdef\u001b[0m \u001b[0m__array_finalize__\u001b[0m\u001b[1;33m(\u001b[0m\u001b[0mself\u001b[0m\u001b[1;33m,\u001b[0m \u001b[0mobj\u001b[0m\u001b[1;33m)\u001b[0m\u001b[1;33m:\u001b[0m\u001b[1;33m\u001b[0m\u001b[1;33m\u001b[0m\u001b[0m\n\u001b[0m\u001b[0;32m    168\u001b[0m         \u001b[0mself\u001b[0m\u001b[1;33m.\u001b[0m\u001b[0m_getitem\u001b[0m \u001b[1;33m=\u001b[0m \u001b[1;32mFalse\u001b[0m\u001b[1;33m\u001b[0m\u001b[1;33m\u001b[0m\u001b[0m\n\u001b[0;32m    169\u001b[0m         \u001b[1;32mif\u001b[0m \u001b[1;33m(\u001b[0m\u001b[0misinstance\u001b[0m\u001b[1;33m(\u001b[0m\u001b[0mobj\u001b[0m\u001b[1;33m,\u001b[0m \u001b[0mmatrix\u001b[0m\u001b[1;33m)\u001b[0m \u001b[1;32mand\u001b[0m \u001b[0mobj\u001b[0m\u001b[1;33m.\u001b[0m\u001b[0m_getitem\u001b[0m\u001b[1;33m)\u001b[0m\u001b[1;33m:\u001b[0m \u001b[1;32mreturn\u001b[0m\u001b[1;33m\u001b[0m\u001b[1;33m\u001b[0m\u001b[0m\n",
            "\u001b[1;31mKeyboardInterrupt\u001b[0m: "
          ]
        }
      ],
      "source": [
        "LEARNING_RATE = 0.0005 * 10\n",
        "print(\"Learning Rate = \", LEARNING_RATE, \"\\n\")\n",
        "\n",
        "network = FeedForwardNN(INPUT_SHAPE)\n",
        "network.add_layer(45, input_shape=INPUT_SHAPE, activation=Relu(), weight_initializer='uniform')\n",
        "network.add_layer(10, activation=Identical(), weight_initializer='uniform')\n",
        "network.set_training_param(loss=CrossEntropy(), lr=LEARNING_RATE)\n",
        "log = network.fit(EPOCHS, TRAINLOADER, TESTLOADER)"
      ]
    },
    {
      "cell_type": "markdown",
      "id": "9de00ef6",
      "metadata": {
        "id": "9de00ef6"
      },
      "source": [
        "If the learning rate is low, then training is more reliable, but optimization will take a lot of time because steps towards the minimum of the loss function are tiny. If the learning rate is high, then training may not converge or even diverge. Weight changes can be so big that the optimizer overshoots the minimum and makes the loss worse."
      ]
    },
    {
      "cell_type": "markdown",
      "id": "bd8658d4",
      "metadata": {
        "id": "bd8658d4"
      },
      "source": [
        "### Part IV :  Impact of activation function\n",
        "\n",
        "In this part, we measure the performance of the network designed in the first part using different *Activation Functions* and compare the results.\n",
        "\n",
        "#### Sigmoid"
      ]
    },
    {
      "cell_type": "code",
      "execution_count": null,
      "id": "f55c47d9",
      "metadata": {
        "id": "f55c47d9",
        "outputId": "2de5cd59-2a6c-4a75-bfc2-58faed6144e4"
      },
      "outputs": [
        {
          "name": "stdout",
          "output_type": "stream",
          "text": [
            "Epoch 1:\n",
            "\tTrain: Average Accuracy: 10.008597108245409\tAverage Loss: 2.3077785097494017\n",
            "\tTest: Average Accuracy: 10.471509850543478\tAverage Loss: 2.3082613335348703\n",
            "Epoch 2:\n",
            "\tTrain: Average Accuracy: 10.079425556858148\tAverage Loss: 2.3074806790758844\n",
            "\tTest: Average Accuracy: 10.471509850543478\tAverage Loss: 2.3079029044434223\n",
            "Epoch 3:\n",
            "\tTrain: Average Accuracy: 10.151475185619383\tAverage Loss: 2.306946106222399\n",
            "\tTest: Average Accuracy: 10.471509850543478\tAverage Loss: 2.307059488690497\n",
            "Epoch 4:\n",
            "\tTrain: Average Accuracy: 11.53243454474404\tAverage Loss: 2.2972363430813316\n",
            "\tTest: Average Accuracy: 20.110181725543477\tAverage Loss: 2.209969634128515\n",
            "Epoch 5:\n",
            "\tTrain: Average Accuracy: 35.60829425556858\tAverage Loss: 1.885498043867659\n",
            "\tTest: Average Accuracy: 60.5570652173913\tAverage Loss: 1.520587147962552\n",
            "Epoch 6:\n",
            "\tTrain: Average Accuracy: 76.52808714341539\tAverage Loss: 1.1138553055345608\n",
            "\tTest: Average Accuracy: 87.29598335597827\tAverage Loss: 0.7675046415319997\n",
            "Epoch 7:\n",
            "\tTrain: Average Accuracy: 89.84276084407972\tAverage Loss: 0.576693929991403\n",
            "\tTest: Average Accuracy: 91.84379245923913\tAverage Loss: 0.4411374129884769\n",
            "Epoch 8:\n",
            "\tTrain: Average Accuracy: 92.54645369284877\tAverage Loss: 0.3711658329246895\n",
            "\tTest: Average Accuracy: 93.26469089673913\tAverage Loss: 0.3221935729934667\n",
            "Epoch 9:\n",
            "\tTrain: Average Accuracy: 93.66261234857366\tAverage Loss: 0.288064428428222\n",
            "\tTest: Average Accuracy: 94.03617527173913\tAverage Loss: 0.2662035178978447\n",
            "Epoch 10:\n",
            "\tTrain: Average Accuracy: 94.38833528722157\tAverage Loss: 0.24440894976770577\n",
            "\tTest: Average Accuracy: 94.58793308423913\tAverage Loss: 0.23357868197938805\n",
            "Epoch 11:\n",
            "\tTrain: Average Accuracy: 94.90245212973818\tAverage Loss: 0.21724057320717494\n",
            "\tTest: Average Accuracy: 94.91019870923913\tAverage Loss: 0.21201347743192453\n",
            "Epoch 12:\n",
            "\tTrain: Average Accuracy: 95.23949785072294\tAverage Loss: 0.19843115438912287\n",
            "\tTest: Average Accuracy: 95.21293308423913\tAverage Loss: 0.19646952677799118\n",
            "Epoch 13:\n",
            "\tTrain: Average Accuracy: 95.47919109026964\tAverage Loss: 0.1844165010653959\n",
            "\tTest: Average Accuracy: 95.41312839673913\tAverage Loss: 0.18459273571393545\n",
            "Epoch 14:\n",
            "\tTrain: Average Accuracy: 95.69045525595936\tAverage Loss: 0.17344855482231533\n",
            "\tTest: Average Accuracy: 95.65238620923913\tAverage Loss: 0.17514868120431312\n",
            "Epoch 15:\n",
            "\tTrain: Average Accuracy: 95.88584407971864\tAverage Loss: 0.16456744333672882\n",
            "\tTest: Average Accuracy: 95.80375339673913\tAverage Loss: 0.16742224902998368\n"
          ]
        }
      ],
      "source": [
        "LEARNING_RATE = 0.0005\n",
        "\n",
        "network = FeedForwardNN(INPUT_SHAPE)\n",
        "\n",
        "network.add_layer(45, input_shape=INPUT_SHAPE, activation=Sigmoid(), weight_initializer='uniform')\n",
        "network.add_layer(10, activation=Identical(), weight_initializer='uniform')\n",
        "network.set_training_param(loss=CrossEntropy(), lr=LEARNING_RATE)\n",
        "\n",
        "log = network.fit(EPOCHS, TRAINLOADER, TESTLOADER)"
      ]
    },
    {
      "cell_type": "markdown",
      "id": "2618952b",
      "metadata": {
        "id": "2618952b"
      },
      "source": [
        "#### Hyperbolic Tangent"
      ]
    },
    {
      "cell_type": "code",
      "execution_count": null,
      "id": "1b95f16c",
      "metadata": {
        "id": "1b95f16c",
        "outputId": "2920c8c1-2b03-406a-ee82-85452219085b"
      },
      "outputs": [
        {
          "name": "stdout",
          "output_type": "stream",
          "text": [
            "Epoch 1:\n",
            "\tTrain: Average Accuracy: 10.029357170769831\tAverage Loss: 2.3079229399480825\n",
            "\tTest: Average Accuracy: 10.471509850543478\tAverage Loss: 2.3085443941909256\n",
            "Epoch 2:\n",
            "\tTrain: Average Accuracy: 10.030578350918328\tAverage Loss: 2.307928465864414\n",
            "\tTest: Average Accuracy: 10.471509850543478\tAverage Loss: 2.308542868877603\n",
            "Epoch 3:\n",
            "\tTrain: Average Accuracy: 10.030578350918328\tAverage Loss: 2.3079269102553512\n",
            "\tTest: Average Accuracy: 10.471509850543478\tAverage Loss: 2.308541283763291\n",
            "Epoch 4:\n",
            "\tTrain: Average Accuracy: 10.031799531066824\tAverage Loss: 2.307925285909991\n",
            "\tTest: Average Accuracy: 10.471509850543478\tAverage Loss: 2.3085396214502567\n",
            "Epoch 5:\n",
            "\tTrain: Average Accuracy: 10.031799531066824\tAverage Loss: 2.3079235735808648\n",
            "\tTest: Average Accuracy: 10.471509850543478\tAverage Loss: 2.308537860724168\n",
            "Epoch 6:\n",
            "\tTrain: Average Accuracy: 10.031799531066824\tAverage Loss: 2.307921749434429\n",
            "\tTest: Average Accuracy: 10.471509850543478\tAverage Loss: 2.308535974941563\n",
            "Epoch 7:\n",
            "\tTrain: Average Accuracy: 10.031799531066824\tAverage Loss: 2.307919783048756\n",
            "\tTest: Average Accuracy: 10.471509850543478\tAverage Loss: 2.3085339295770853\n",
            "Epoch 8:\n",
            "\tTrain: Average Accuracy: 10.031799531066824\tAverage Loss: 2.307917634301356\n",
            "\tTest: Average Accuracy: 10.471509850543478\tAverage Loss: 2.3085316783366667\n",
            "Epoch 9:\n",
            "\tTrain: Average Accuracy: 10.031799531066824\tAverage Loss: 2.3079152483152203\n",
            "\tTest: Average Accuracy: 10.471509850543478\tAverage Loss: 2.308529156705326\n",
            "Epoch 10:\n",
            "\tTrain: Average Accuracy: 10.031799531066824\tAverage Loss: 2.3079125468240216\n",
            "\tTest: Average Accuracy: 10.471509850543478\tAverage Loss: 2.30852627063559\n",
            "Epoch 11:\n",
            "\tTrain: Average Accuracy: 10.031799531066824\tAverage Loss: 2.3079094124943977\n",
            "\tTest: Average Accuracy: 10.471509850543478\tAverage Loss: 2.308522875361057\n",
            "Epoch 12:\n",
            "\tTrain: Average Accuracy: 10.031799531066824\tAverage Loss: 2.307905658238607\n",
            "\tTest: Average Accuracy: 10.471509850543478\tAverage Loss: 2.3085187322929404\n",
            "Epoch 13:\n",
            "\tTrain: Average Accuracy: 10.031799531066824\tAverage Loss: 2.307900961075602\n",
            "\tTest: Average Accuracy: 10.471509850543478\tAverage Loss: 2.3085134113877386\n",
            "Epoch 14:\n",
            "\tTrain: Average Accuracy: 10.034241891363815\tAverage Loss: 2.3078946999318695\n",
            "\tTest: Average Accuracy: 10.471509850543478\tAverage Loss: 2.308506035123121\n",
            "Epoch 15:\n",
            "\tTrain: Average Accuracy: 10.034241891363815\tAverage Loss: 2.3078854768855255\n",
            "\tTest: Average Accuracy: 10.471509850543478\tAverage Loss: 2.308494445884922\n"
          ]
        }
      ],
      "source": [
        "network = FeedForwardNN(INPUT_SHAPE)\n",
        "\n",
        "network.add_layer(45, input_shape=INPUT_SHAPE, activation=Tanh(), weight_initializer='uniform')\n",
        "network.add_layer(10, activation=Identical(), weight_initializer='uniform')\n",
        "network.set_training_param(loss=CrossEntropy(), lr=LEARNING_RATE)\n",
        "\n",
        "log = network.fit(EPOCHS, TRAINLOADER, TESTLOADER)"
      ]
    },
    {
      "cell_type": "markdown",
      "id": "4cdee884",
      "metadata": {
        "id": "4cdee884"
      },
      "source": [
        "#### Leaky ReLU"
      ]
    },
    {
      "cell_type": "code",
      "execution_count": null,
      "id": "305df4d5",
      "metadata": {
        "id": "305df4d5",
        "outputId": "0fa96824-28c7-4862-ded1-a1a1d463dfaa"
      },
      "outputs": [
        {
          "name": "stdout",
          "output_type": "stream",
          "text": [
            "Epoch 1:\n",
            "\tTrain: Average Accuracy: 85.20437670965221\tAverage Loss: 0.5271404441120265\n",
            "\tTest: Average Accuracy: 94.37797214673913\tAverage Loss: 0.1929533664790133\n",
            "Epoch 2:\n",
            "\tTrain: Average Accuracy: 95.2447245017585\tAverage Loss: 0.16835723883015774\n",
            "\tTest: Average Accuracy: 95.50590183423913\tAverage Loss: 0.16088865423448015\n",
            "Epoch 3:\n",
            "\tTrain: Average Accuracy: 95.90904650254005\tAverage Loss: 0.14645126677361\n",
            "\tTest: Average Accuracy: 95.83305027173913\tAverage Loss: 0.14658863778564651\n",
            "Epoch 4:\n",
            "\tTrain: Average Accuracy: 96.330353653771\tAverage Loss: 0.13373014913246103\n",
            "\tTest: Average Accuracy: 96.17484714673913\tAverage Loss: 0.1360607215535538\n",
            "Epoch 5:\n",
            "\tTrain: Average Accuracy: 96.64297577178586\tAverage Loss: 0.12313682981831421\n",
            "\tTest: Average Accuracy: 96.46293308423913\tAverage Loss: 0.12702076608682178\n",
            "Epoch 6:\n",
            "\tTrain: Average Accuracy: 96.88843298163346\tAverage Loss: 0.11379863253678109\n",
            "\tTest: Average Accuracy: 96.73637058423913\tAverage Loss: 0.11908866460878716\n",
            "Epoch 7:\n",
            "\tTrain: Average Accuracy: 97.14121727237202\tAverage Loss: 0.10538964558568648\n",
            "\tTest: Average Accuracy: 96.93656589673913\tAverage Loss: 0.1118804959105694\n",
            "Epoch 8:\n",
            "\tTrain: Average Accuracy: 97.33904845642829\tAverage Loss: 0.0978043886139506\n",
            "\tTest: Average Accuracy: 97.15629245923913\tAverage Loss: 0.10546129486516564\n",
            "Epoch 9:\n",
            "\tTrain: Average Accuracy: 97.54298554122704\tAverage Loss: 0.09106516971048664\n",
            "\tTest: Average Accuracy: 97.26859714673913\tAverage Loss: 0.09986882856281785\n",
            "Epoch 10:\n",
            "\tTrain: Average Accuracy: 97.69563305978897\tAverage Loss: 0.08504673615905152\n",
            "\tTest: Average Accuracy: 97.39066745923913\tAverage Loss: 0.09499659941132747\n",
            "Epoch 11:\n",
            "\tTrain: Average Accuracy: 97.84461703790544\tAverage Loss: 0.07966346389168324\n",
            "\tTest: Average Accuracy: 97.52250339673913\tAverage Loss: 0.09067502716621986\n",
            "Epoch 12:\n",
            "\tTrain: Average Accuracy: 97.98505275498242\tAverage Loss: 0.07490346712676622\n",
            "\tTest: Average Accuracy: 97.62992527173913\tAverage Loss: 0.08691347727064277\n",
            "Epoch 13:\n",
            "\tTrain: Average Accuracy: 98.10350722938648\tAverage Loss: 0.07067564637208701\n",
            "\tTest: Average Accuracy: 97.65433933423913\tAverage Loss: 0.08364675523851997\n",
            "Epoch 14:\n",
            "\tTrain: Average Accuracy: 98.19875928096913\tAverage Loss: 0.06683015667372151\n",
            "\tTest: Average Accuracy: 97.68851902173913\tAverage Loss: 0.08071477089868975\n",
            "Epoch 15:\n",
            "\tTrain: Average Accuracy: 98.27203008987885\tAverage Loss: 0.06342157194352839\n",
            "\tTest: Average Accuracy: 97.72758152173913\tAverage Loss: 0.0781762574032319\n"
          ]
        }
      ],
      "source": [
        "LEARNING_RATE = 0.0005\n",
        "\n",
        "network = FeedForwardNN(INPUT_SHAPE)\n",
        "\n",
        "network.add_layer(45, input_shape=INPUT_SHAPE, activation=LeakyRelu(), weight_initializer='uniform')\n",
        "network.add_layer(10, activation=Identical(), weight_initializer='uniform')\n",
        "network.set_training_param(loss=CrossEntropy(), lr=LEARNING_RATE)\n",
        "\n",
        "log = network.fit(EPOCHS, TRAINLOADER, TESTLOADER)"
      ]
    },
    {
      "cell_type": "markdown",
      "id": "19aa03cd",
      "metadata": {
        "id": "19aa03cd"
      },
      "source": [
        "#### Why Sigmoid and Tanh do not work well?\n",
        "In Tanh and Sigmoid moving towards the ends of the function, y values react very little to the changes in x so the derivative values in these regions are very small and converge to 0. This is called the vanishing gradient and the learning is minimal meaning that it makes the learning process be very slow or even useless. We know that if 0, not any learning. When slow learning occurs, the optimization algorithm that minimizes error can be attached to local minimum values and cannot get maximum performance from the artificial neural network model.\n",
        "\n",
        "So by the explanation above Tanh and Sigmoid will result in vanishing gradient meaning that after a while the learning process will be very slow. So since we are using Stochastic Gradient Descent, these activation functions, Sigmoid and Tanh, won't be the best choice."
      ]
    },
    {
      "cell_type": "markdown",
      "id": "93c469ab",
      "metadata": {
        "id": "93c469ab"
      },
      "source": [
        "#### Why Leaky-Relu is better than Relu?\n",
        "Unlike Relu, LeakyRelu is more balanced and may therefore learn faster. Also LeakyRelu fixes the dying Relu problem, as it doesn’t have zero-slope parts.\n",
        "\n",
        "Dying relu problem: A Relu neuron is dead if it’s stuck in the negative side and always outputs 0. Because the slope of Relu in the negative range is also 0, once a neuron gets negative, it’s unlikely for it to recover. Such neurons are not playing any role in discriminating the input and is essentially useless. Over the time you may end up with a large part of your network doing nothing.\n",
        "\n",
        "Since LeakyRelu assigns a small non zero value for negative parts this will result in solving the problem mentioned above and this is the main advantage of LeakyRelu."
      ]
    },
    {
      "cell_type": "markdown",
      "id": "b818236a",
      "metadata": {
        "id": "b818236a"
      },
      "source": [
        "LeakyRelu and Relu results are really close to each other but LeakyRelu result value is a bit higher so at the end I chose LeakyRelu."
      ]
    },
    {
      "cell_type": "markdown",
      "id": "67564e5e",
      "metadata": {
        "id": "67564e5e"
      },
      "source": [
        "### Part V : Impact of batch size\n",
        "\n",
        "#### Setting Batch-Size to 16\n",
        "In this part, when we set the `batch-size` to $16$, the speed of learning increased and our model reached to the desirable accuracy faster. It is obvious that the more batches we train our model, the more weight updates are performed and we get better results."
      ]
    },
    {
      "cell_type": "code",
      "execution_count": null,
      "id": "e9add823",
      "metadata": {
        "id": "e9add823",
        "outputId": "1801a1f0-bbc2-4196-8196-60da7fd0a810"
      },
      "outputs": [
        {
          "name": "stdout",
          "output_type": "stream",
          "text": [
            "Learning Rate =  0.0005 \n",
            "\n",
            "Batch Size =  16 \n",
            "\n",
            "Epoch 1:\n",
            "\tTrain: Average Accuracy: 85.10580304806565\tAverage Loss: 0.5266641673882863\n",
            "\tTest: Average Accuracy: 94.43168308423913\tAverage Loss: 0.1925196707357448\n",
            "Epoch 2:\n",
            "\tTrain: Average Accuracy: 95.26514263384135\tAverage Loss: 0.1671754029292132\n",
            "\tTest: Average Accuracy: 95.54496433423913\tAverage Loss: 0.15894760451333179\n",
            "Epoch 3:\n",
            "\tTrain: Average Accuracy: 96.00063501367721\tAverage Loss: 0.1438931018904264\n",
            "\tTest: Average Accuracy: 95.95023777173913\tAverage Loss: 0.14286003517962156\n",
            "Epoch 4:\n",
            "\tTrain: Average Accuracy: 96.45857756936303\tAverage Loss: 0.12996769015756285\n",
            "\tTest: Average Accuracy: 96.37504245923913\tAverage Loss: 0.1310467066240194\n",
            "Epoch 5:\n",
            "\tTrain: Average Accuracy: 96.77852676826886\tAverage Loss: 0.11891119766821706\n",
            "\tTest: Average Accuracy: 96.66801120923913\tAverage Loss: 0.12133601796990638\n",
            "Epoch 6:\n",
            "\tTrain: Average Accuracy: 97.07893708479875\tAverage Loss: 0.1094457486764115\n",
            "\tTest: Average Accuracy: 96.94144870923913\tAverage Loss: 0.11352124899388216\n",
            "Epoch 7:\n",
            "\tTrain: Average Accuracy: 97.28775889019148\tAverage Loss: 0.10146806282142447\n",
            "\tTest: Average Accuracy: 97.11234714673913\tAverage Loss: 0.10715189429356112\n",
            "Epoch 8:\n",
            "\tTrain: Average Accuracy: 97.46605119187183\tAverage Loss: 0.09458813999475504\n",
            "\tTest: Average Accuracy: 97.22465183423913\tAverage Loss: 0.10157140939276817\n",
            "Epoch 9:\n",
            "\tTrain: Average Accuracy: 97.62358343102774\tAverage Loss: 0.08848488647334614\n",
            "\tTest: Average Accuracy: 97.32719089673913\tAverage Loss: 0.09668828580609437\n",
            "Epoch 10:\n",
            "\tTrain: Average Accuracy: 97.75791324736225\tAverage Loss: 0.08307294709577834\n",
            "\tTest: Average Accuracy: 97.41508152173913\tAverage Loss: 0.09227098378782188\n",
            "Epoch 11:\n",
            "\tTrain: Average Accuracy: 97.88613716295428\tAverage Loss: 0.07822760468487266\n",
            "\tTest: Average Accuracy: 97.47367527173913\tAverage Loss: 0.0883764146715402\n",
            "Epoch 12:\n",
            "\tTrain: Average Accuracy: 97.9923798358734\tAverage Loss: 0.073949106145087\n",
            "\tTest: Average Accuracy: 97.58109714673913\tAverage Loss: 0.08494495971421501\n",
            "Epoch 13:\n",
            "\tTrain: Average Accuracy: 98.09007424775302\tAverage Loss: 0.07003474070842311\n",
            "\tTest: Average Accuracy: 97.67875339673913\tAverage Loss: 0.0816992120624647\n",
            "Epoch 14:\n",
            "\tTrain: Average Accuracy: 98.17311449785072\tAverage Loss: 0.06635823129310958\n",
            "\tTest: Average Accuracy: 97.75687839673913\tAverage Loss: 0.07874928385453886\n",
            "Epoch 15:\n",
            "\tTrain: Average Accuracy: 98.25737592809692\tAverage Loss: 0.06298955750715396\n",
            "\tTest: Average Accuracy: 97.79105808423913\tAverage Loss: 0.07601328521294805\n"
          ]
        }
      ],
      "source": [
        "LEARNING_RATE = 0.0005 \n",
        "print(\"Learning Rate = \", LEARNING_RATE, \"\\n\")\n",
        "\n",
        "BATCH_SIZE = 16\n",
        "print(\"Batch Size = \", BATCH_SIZE, \"\\n\")\n",
        "\n",
        "\n",
        "network = FeedForwardNN(INPUT_SHAPE)\n",
        "\n",
        "network.add_layer(45, input_shape=INPUT_SHAPE, activation=LeakyRelu(), weight_initializer='uniform')\n",
        "network.add_layer(10, activation=Identical(), weight_initializer='uniform')\n",
        "network.set_training_param(loss=CrossEntropy(), lr=LEARNING_RATE)\n",
        "\n",
        "log = network.fit(EPOCHS, TRAINLOADER, TESTLOADER)"
      ]
    },
    {
      "cell_type": "markdown",
      "id": "f8895eef",
      "metadata": {
        "id": "f8895eef"
      },
      "source": [
        "#### Setting Batch-Size to 256\n",
        "In this part, when we set the `batch-size` to $256$, the speed of learning decreased. So, it is better to use smaller batch size to make the process of learning faster."
      ]
    },
    {
      "cell_type": "code",
      "execution_count": null,
      "id": "ea051e0a",
      "metadata": {
        "id": "ea051e0a",
        "outputId": "50e3657b-f39e-4461-c02d-a9d8907ebf97"
      },
      "outputs": [
        {
          "name": "stdout",
          "output_type": "stream",
          "text": [
            "Batch Size =  256 \n",
            "\n",
            "Epoch 1:\n",
            "\tTrain: Average Accuracy: 85.29909144196952\tAverage Loss: 0.5214287919915146\n",
            "\tTest: Average Accuracy: 94.42191745923913\tAverage Loss: 0.19117149742914866\n",
            "Epoch 2:\n",
            "\tTrain: Average Accuracy: 95.30700468933178\tAverage Loss: 0.1671290001271131\n",
            "\tTest: Average Accuracy: 95.50590183423913\tAverage Loss: 0.15874431861776397\n",
            "Epoch 3:\n",
            "\tTrain: Average Accuracy: 95.94690308714341\tAverage Loss: 0.14486572671139394\n",
            "\tTest: Average Accuracy: 95.89164402173913\tAverage Loss: 0.1441408162200105\n",
            "Epoch 4:\n",
            "\tTrain: Average Accuracy: 96.3853067604533\tAverage Loss: 0.13133022521871365\n",
            "\tTest: Average Accuracy: 96.30668308423913\tAverage Loss: 0.13272362363720464\n",
            "Epoch 5:\n",
            "\tTrain: Average Accuracy: 96.72845838218053\tAverage Loss: 0.1202805056310188\n",
            "\tTest: Average Accuracy: 96.56547214673913\tAverage Loss: 0.12320623471736263\n",
            "Epoch 6:\n",
            "\tTrain: Average Accuracy: 97.02154161781947\tAverage Loss: 0.11062279059053258\n",
            "\tTest: Average Accuracy: 96.83890964673913\tAverage Loss: 0.11459790567688562\n",
            "Epoch 7:\n",
            "\tTrain: Average Accuracy: 97.24257522469715\tAverage Loss: 0.1020912529498477\n",
            "\tTest: Average Accuracy: 97.10258152173913\tAverage Loss: 0.10709940197226046\n",
            "Epoch 8:\n",
            "\tTrain: Average Accuracy: 97.42330988667449\tAverage Loss: 0.09467315264814963\n",
            "\tTest: Average Accuracy: 97.22953464673913\tAverage Loss: 0.10080090780541477\n",
            "Epoch 9:\n",
            "\tTrain: Average Accuracy: 97.62236225087925\tAverage Loss: 0.08797094967644405\n",
            "\tTest: Average Accuracy: 97.38578464673913\tAverage Loss: 0.09498144517828913\n",
            "Epoch 10:\n",
            "\tTrain: Average Accuracy: 97.78477921062915\tAverage Loss: 0.08188682019262863\n",
            "\tTest: Average Accuracy: 97.53715183423913\tAverage Loss: 0.08983505002369814\n",
            "Epoch 11:\n",
            "\tTrain: Average Accuracy: 97.93986908948808\tAverage Loss: 0.07642427611480983\n",
            "\tTest: Average Accuracy: 97.58109714673913\tAverage Loss: 0.08540716622209761\n",
            "Epoch 12:\n",
            "\tTrain: Average Accuracy: 98.08030480656507\tAverage Loss: 0.07164673075002674\n",
            "\tTest: Average Accuracy: 97.71293308423913\tAverage Loss: 0.08156161618946889\n",
            "Epoch 13:\n",
            "\tTrain: Average Accuracy: 98.20120164126612\tAverage Loss: 0.06748844856286744\n",
            "\tTest: Average Accuracy: 97.78129245923913\tAverage Loss: 0.07838065347889638\n",
            "Epoch 14:\n",
            "\tTrain: Average Accuracy: 98.31232903477921\tAverage Loss: 0.06383991906001912\n",
            "\tTest: Average Accuracy: 97.82035495923913\tAverage Loss: 0.07569149262928623\n",
            "Epoch 15:\n",
            "\tTrain: Average Accuracy: 98.38559984368894\tAverage Loss: 0.06061165635804877\n",
            "\tTest: Average Accuracy: 97.88383152173913\tAverage Loss: 0.07330137811561761\n"
          ]
        }
      ],
      "source": [
        "BATCH_SIZE = 256\n",
        "print(\"Batch Size = \", BATCH_SIZE, \"\\n\")\n",
        "\n",
        "network = FeedForwardNN(INPUT_SHAPE)\n",
        "network.add_layer(45, input_shape=INPUT_SHAPE, activation=LeakyRelu(), weight_initializer='uniform')\n",
        "network.add_layer(10, activation=Identical(), weight_initializer='uniform')\n",
        "network.set_training_param(loss=CrossEntropy(), lr=LEARNING_RATE)\n",
        "log = network.fit(EPOCHS, TRAINLOADER, TESTLOADER)"
      ]
    },
    {
      "cell_type": "markdown",
      "id": "473fd467",
      "metadata": {
        "id": "473fd467"
      },
      "source": [
        "#### What is the reason for using batch in the training process?\n",
        "The batch size defines the number of samples that will be propagated through the network.\n",
        "\n",
        "* It requires less memory. As we train our network using fewer samples, the overall training process requires less memory. This is very important when we are not able to fit the whole dataset in our machine's memory.\n",
        "\n",
        "* Typically networks train faster with mini-batches, because we update the weights after each propagation. If we used all samples during propagation, we would make only 1 update for the network's parameter and this can lead to underfitting.\n",
        "\n",
        "#### What is the problem with extremely small batches?\n",
        "\n",
        "There is no doubt that the smaller the batch is the less accurate the estimation of the gradient will be. If we use extremely small batch size, we would lose the effectiveness of vectorization. Moreover, It will produce a noisier gradient descent. As a result, we prefer to use bigger batch size.\n",
        "\n",
        "Advantages of using a batch size instead of number of all samples are for instance choosing a batch size requires less memory. Since you train the network using fewer samples, the overall training procedure requires less memory. That's especially important if you are not able to fit the whole dataset in your machine's memory. Typically networks train faster with batches. That's because we update the weights after each propagation. If we used all samples during propagation we would make only one update for the network's parameter meaning that the update won't occur frequently.\n",
        "\n",
        "So the main advantage of dividing the whole dataset into batches and train the network with these batches is that parameter updates will happen frequently so the training process will be better also having batches will require less computation power and memory. Also by using batches and incorporating parallel computing the learning process can be much faster but if we use the whole dataset we can't use parallel computing to our advantage.\n",
        "\n",
        "The smaller the batch the less accurate the estimate of the gradient will be. This means that parameter updates won't be reliable and aren't the best possible updates so the learning process won't be great. On the other hand, smaller batches can lead to better regularization and they'll make the learning process faster and also less memory is needed at each run. Small batch training has been shown to provide improved generalization performance.\n",
        "\n",
        "In general smaller or larger batch size doesn't guarantee better convergence. Batch size is more or less treated as a hyperparameter to tune keeping in the memory constraints you have.\n",
        "\n",
        "There is a tradeoff for bigger and smaller batch size which have their own disadvantage, making it a hyperparameter to tune in some sense.\n",
        "\n",
        "Theory says that, bigger the batch size, lesser is the noise in the gradients and so better is the gradient estimate. This allows the model to take a better step towards a minima. However, the challenge is that bigger batch size needs more memory and each step is time consuming.\n",
        "\n",
        "Even if somehow we can avoid the time and space constraints, bigger batch size still wouldn't give better solution in practice as compared to smaller batch size. This is because the surface of the neural networks objective is generally non-convex, which means that there might be local optimums. Just having an accurate gradient estimate doesn't guarantee us reaching the global optimum (which we seek). It could lead us to a local optimum accurately! Keeping the batch size small makes the gradient estimate noisy which might allow us to bypass a local optimum during convergence. But having very small batch size would be too noisy for the model to convergence anywhere.\n",
        "\n",
        "So, the optimum batch size depends on the network you are training, data you are training on and the objective function you are trying to optimize."
      ]
    },
    {
      "cell_type": "markdown",
      "id": "e9c301f6",
      "metadata": {
        "id": "e9c301f6"
      },
      "source": [
        "### Conclusion\n",
        "\n",
        "In this computer assignment we learned that neural networks are good methods to solve image classification problems. Also, we were learned to some linear algebra methods to implements formulas in a neural network."
      ]
    }
  ],
  "metadata": {
    "kernelspec": {
      "display_name": "Python 3",
      "language": "python",
      "name": "python3"
    },
    "language_info": {
      "codemirror_mode": {
        "name": "ipython",
        "version": 3
      },
      "file_extension": ".py",
      "mimetype": "text/x-python",
      "name": "python",
      "nbconvert_exporter": "python",
      "pygments_lexer": "ipython3",
      "version": "3.8.8"
    },
    "colab": {
      "name": "AI-CA5-P2.ipynb",
      "provenance": [],
      "collapsed_sections": [
        "df8d4969",
        "3f23c848",
        "3ff1c664",
        "829c262d",
        "bd8658d4",
        "2618952b",
        "4cdee884",
        "19aa03cd",
        "93c469ab",
        "67564e5e",
        "f8895eef",
        "473fd467",
        "e9c301f6"
      ],
      "toc_visible": true
    }
  },
  "nbformat": 4,
  "nbformat_minor": 5
}